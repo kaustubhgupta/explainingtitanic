{
 "cells": [
  {
   "cell_type": "markdown",
   "metadata": {},
   "source": [
    "# Imports"
   ]
  },
  {
   "cell_type": "code",
   "execution_count": 17,
   "metadata": {
    "collapsed": false
   },
   "outputs": [
    {
     "name": "stdout",
     "output_type": "stream",
     "text": [
      "Collecting dash_core_components (from -r requirements.txt (line 1))\n",
      "Collecting sklearn_pandas (from -r requirements.txt (line 2))\n",
      "  Using cached https://files.pythonhosted.org/packages/1f/48/4e1461d828baf41d609efaa720d20090ac6ec346b5daad3c88e243e2207e/sklearn_pandas-1.8.0-py2.py3-none-any.whl\n",
      "Collecting numpy (from -r requirements.txt (line 3))\n",
      "  Using cached https://files.pythonhosted.org/packages/be/e8/45079ae05c4dda4a67bc51578ae5e75feda0a79c2836d477d676e7a58efb/numpy-1.17.0-cp36-cp36m-macosx_10_6_intel.macosx_10_9_intel.macosx_10_9_x86_64.macosx_10_10_intel.macosx_10_10_x86_64.whl\n",
      "Collecting pandas (from -r requirements.txt (line 4))\n",
      "  Using cached https://files.pythonhosted.org/packages/94/f0/3099fdb1ae94663561cd695b820f05b6f6d240c919ba179c076015de5e37/pandas-0.25.0-cp36-cp36m-macosx_10_9_x86_64.macosx_10_10_x86_64.whl\n",
      "Collecting dash (from -r requirements.txt (line 5))\n",
      "Collecting imbalanced_learn (from -r requirements.txt (line 6))\n",
      "  Using cached https://files.pythonhosted.org/packages/e6/62/08c14224a7e242df2cef7b312d2ef821c3931ec9b015ff93bb52ec8a10a3/imbalanced_learn-0.5.0-py3-none-any.whl\n",
      "Collecting dash_table (from -r requirements.txt (line 7))\n",
      "Collecting dash_html_components (from -r requirements.txt (line 8))\n",
      "Collecting plotly (from -r requirements.txt (line 9))\n",
      "  Using cached https://files.pythonhosted.org/packages/63/2b/4ca10995bfbdefd65c4238f9a2d3fde33705d18dd50914dd13302ec1daf1/plotly-4.1.0-py2.py3-none-any.whl\n",
      "Collecting dash_bootstrap_components (from -r requirements.txt (line 10))\n",
      "Collecting dash_daq (from -r requirements.txt (line 11))\n",
      "Collecting dtreeviz (from -r requirements.txt (line 12))\n",
      "Collecting hyperopt (from -r requirements.txt (line 13))\n",
      "  Using cached https://files.pythonhosted.org/packages/63/12/704382c3081df3ae3f9d96fe6afb62efa2fa9749be20c301cd2797fb0b52/hyperopt-0.1.2-py3-none-any.whl\n",
      "Collecting imblearn (from -r requirements.txt (line 14))\n",
      "  Using cached https://files.pythonhosted.org/packages/81/a7/4179e6ebfd654bd0eac0b9c06125b8b4c96a9d0a8ff9e9507eb2a26d2d7e/imblearn-0.0-py2.py3-none-any.whl\n",
      "Collecting pdpbox (from -r requirements.txt (line 15))\n",
      "Collecting shap (from -r requirements.txt (line 16))\n",
      "Collecting scikit_learn (from -r requirements.txt (line 17))\n",
      "  Using cached https://files.pythonhosted.org/packages/cf/b8/706e496d8b1207c1da154a7fe82753a2385edc1435ec524afa6c1baafed6/scikit_learn-0.21.3-cp36-cp36m-macosx_10_6_intel.macosx_10_9_intel.macosx_10_9_x86_64.macosx_10_10_intel.macosx_10_10_x86_64.whl\n",
      "Collecting gunicorn (from -r requirements.txt (line 18))\n",
      "  Using cached https://files.pythonhosted.org/packages/8c/da/b8dd8deb741bff556db53902d4706774c8e1e67265f69528c14c003644e6/gunicorn-19.9.0-py2.py3-none-any.whl\n",
      "Collecting scipy>=0.14 (from sklearn_pandas->-r requirements.txt (line 2))\n",
      "\u001b[?25l  Downloading https://files.pythonhosted.org/packages/9f/d0/6de23b6453232614998244157f998a5c5c259b55e5a38d71fe5fc5a0dfeb/scipy-1.3.1-cp36-cp36m-macosx_10_6_intel.macosx_10_9_intel.macosx_10_9_x86_64.macosx_10_10_intel.macosx_10_10_x86_64.whl (27.7MB)\n",
      "\u001b[K     |████████████████████████████████| 27.7MB 12.0MB/s eta 0:00:01   |████▍                           | 3.8MB 2.9MB/s eta 0:00:09\n",
      "\u001b[?25hCollecting python-dateutil>=2.6.1 (from pandas->-r requirements.txt (line 4))\n",
      "  Using cached https://files.pythonhosted.org/packages/41/17/c62faccbfbd163c7f57f3844689e3a78bae1f403648a6afb1d0866d87fbb/python_dateutil-2.8.0-py2.py3-none-any.whl\n",
      "Collecting pytz>=2017.2 (from pandas->-r requirements.txt (line 4))\n",
      "  Using cached https://files.pythonhosted.org/packages/87/76/46d697698a143e05f77bec5a526bf4e56a0be61d63425b68f4ba553b51f2/pytz-2019.2-py2.py3-none-any.whl\n",
      "Collecting flask-compress (from dash->-r requirements.txt (line 5))\n",
      "Collecting PyYAML>=5.1.1 (from dash->-r requirements.txt (line 5))\n",
      "Collecting Flask>=1.0.2 (from dash->-r requirements.txt (line 5))\n",
      "  Using cached https://files.pythonhosted.org/packages/9b/93/628509b8d5dc749656a9641f4caf13540e2cdec85276964ff8f43bbb1d3b/Flask-1.1.1-py2.py3-none-any.whl\n",
      "Collecting dash-renderer==1.0.0 (from dash->-r requirements.txt (line 5))\n",
      "Collecting joblib>=0.11 (from imbalanced_learn->-r requirements.txt (line 6))\n",
      "\u001b[?25l  Downloading https://files.pythonhosted.org/packages/cd/c1/50a758e8247561e58cb87305b1e90b171b8c767b15b12a1734001f41d356/joblib-0.13.2-py2.py3-none-any.whl (278kB)\n",
      "\u001b[K     |████████████████████████████████| 286kB 18.0MB/s eta 0:00:01\n",
      "\u001b[?25hCollecting six (from plotly->-r requirements.txt (line 9))\n",
      "  Downloading https://files.pythonhosted.org/packages/73/fb/00a976f728d0d1fecfe898238ce23f502a721c0ac0ecfedb80e0d88c64e9/six-1.12.0-py2.py3-none-any.whl\n",
      "Collecting retrying>=1.3.3 (from plotly->-r requirements.txt (line 9))\n",
      "Collecting matplotlib (from dtreeviz->-r requirements.txt (line 12))\n",
      "\u001b[?25l  Downloading https://files.pythonhosted.org/packages/cf/a4/d5387a74204542a60ad1baa84cd2d3353c330e59be8cf2d47c0b11d3cde8/matplotlib-3.1.1-cp36-cp36m-macosx_10_6_intel.macosx_10_9_intel.macosx_10_9_x86_64.macosx_10_10_intel.macosx_10_10_x86_64.whl (14.4MB)\n",
      "\u001b[K     |████████████████████████████████| 14.4MB 13.9MB/s eta 0:00:01    |███▏                            | 1.4MB 13.7MB/s eta 0:00:01\n",
      "\u001b[?25hCollecting colour (from dtreeviz->-r requirements.txt (line 12))\n",
      "  Using cached https://files.pythonhosted.org/packages/74/46/e81907704ab203206769dee1385dc77e1407576ff8f50a0681d0a6b541be/colour-0.1.5-py2.py3-none-any.whl\n",
      "Collecting graphviz>=0.9 (from dtreeviz->-r requirements.txt (line 12))\n",
      "  Using cached https://files.pythonhosted.org/packages/5c/b1/016e657586843f40b4daa66127ce1ee9e3285ff15baf5d80946644a98aeb/graphviz-0.11.1-py2.py3-none-any.whl\n",
      "Collecting future (from hyperopt->-r requirements.txt (line 13))\n",
      "Collecting networkx (from hyperopt->-r requirements.txt (line 13))\n",
      "\u001b[?25l  Downloading https://files.pythonhosted.org/packages/85/08/f20aef11d4c343b557e5de6b9548761811eb16e438cee3d32b1c66c8566b/networkx-2.3.zip (1.7MB)\n",
      "\u001b[K     |████████████████████████████████| 1.8MB 11.4MB/s eta 0:00:01\n",
      "\u001b[?25hCollecting tqdm (from hyperopt->-r requirements.txt (line 13))\n",
      "  Using cached https://files.pythonhosted.org/packages/02/56/60a5b1c2e634d8e4ff89c7bab47645604e19658f448050a21facffd43796/tqdm-4.33.0-py2.py3-none-any.whl\n",
      "Collecting pymongo (from hyperopt->-r requirements.txt (line 13))\n",
      "  Using cached https://files.pythonhosted.org/packages/fc/79/c298dfe767f6937f0d5eaefa412ca6897ec27c1834e325a71476c7c6f2ce/pymongo-3.9.0-cp36-cp36m-macosx_10_6_intel.whl\n",
      "Collecting psutil (from pdpbox->-r requirements.txt (line 15))\n",
      "\u001b[?25l  Downloading https://files.pythonhosted.org/packages/1c/ca/5b8c1fe032a458c2c4bcbe509d1401dca9dda35c7fc46b36bb81c2834740/psutil-5.6.3.tar.gz (435kB)\n",
      "\u001b[K     |████████████████████████████████| 440kB 14.8MB/s eta 0:00:01\n",
      "\u001b[?25hCollecting ipython (from shap->-r requirements.txt (line 16))\n",
      "\u001b[?25l  Downloading https://files.pythonhosted.org/packages/f6/c4/a79582814bdfe92bfca4d286a729304ffdf13f5135132cfcaea13cf1b2b3/ipython-7.7.0-py3-none-any.whl (774kB)\n",
      "\u001b[K     |████████████████████████████████| 778kB 7.7MB/s eta 0:00:01\n",
      "\u001b[?25hCollecting scikit-image (from shap->-r requirements.txt (line 16))\n",
      "\u001b[?25l  Downloading https://files.pythonhosted.org/packages/c5/7c/c61e0bdb02fecd1e801d34fb534839f74055873eb935a05d96a8831d4448/scikit_image-0.15.0-cp36-cp36m-macosx_10_6_intel.macosx_10_9_intel.macosx_10_9_x86_64.macosx_10_10_intel.macosx_10_10_x86_64.whl (30.1MB)\n",
      "\u001b[K     |████████████████████████████████| 30.1MB 11.0MB/s eta 0:00:01\n",
      "\u001b[?25hCollecting itsdangerous>=0.24 (from Flask>=1.0.2->dash->-r requirements.txt (line 5))\n",
      "  Downloading https://files.pythonhosted.org/packages/76/ae/44b03b253d6fade317f32c24d100b3b35c2239807046a4c953c7b89fa49e/itsdangerous-1.1.0-py2.py3-none-any.whl\n",
      "Collecting Werkzeug>=0.15 (from Flask>=1.0.2->dash->-r requirements.txt (line 5))\n",
      "  Using cached https://files.pythonhosted.org/packages/d1/ab/d3bed6b92042622d24decc7aadc8877badf18aeca1571045840ad4956d3f/Werkzeug-0.15.5-py2.py3-none-any.whl\n",
      "Collecting Jinja2>=2.10.1 (from Flask>=1.0.2->dash->-r requirements.txt (line 5))\n",
      "  Using cached https://files.pythonhosted.org/packages/1d/e7/fd8b501e7a6dfe492a433deb7b9d833d39ca74916fa8bc63dd1a4947a671/Jinja2-2.10.1-py2.py3-none-any.whl\n",
      "Collecting click>=5.1 (from Flask>=1.0.2->dash->-r requirements.txt (line 5))\n",
      "\u001b[?25l  Downloading https://files.pythonhosted.org/packages/fa/37/45185cb5abbc30d7257104c434fe0b07e5a195a6847506c074527aa599ec/Click-7.0-py2.py3-none-any.whl (81kB)\n",
      "\u001b[K     |████████████████████████████████| 81kB 8.2MB/s  eta 0:00:01\n",
      "\u001b[?25hCollecting kiwisolver>=1.0.1 (from matplotlib->dtreeviz->-r requirements.txt (line 12))\n",
      "\u001b[?25l  Downloading https://files.pythonhosted.org/packages/49/5d/d1726d2a2fd471a69ef5014ca42812e1ccb8a13085c42bfcb238a5611f39/kiwisolver-1.1.0-cp36-cp36m-macosx_10_6_intel.macosx_10_9_intel.macosx_10_9_x86_64.macosx_10_10_intel.macosx_10_10_x86_64.whl (113kB)\n",
      "\u001b[K     |████████████████████████████████| 122kB 14.6MB/s eta 0:00:01\n",
      "\u001b[?25hCollecting cycler>=0.10 (from matplotlib->dtreeviz->-r requirements.txt (line 12))\n",
      "  Downloading https://files.pythonhosted.org/packages/f7/d2/e07d3ebb2bd7af696440ce7e754c59dd546ffe1bbe732c8ab68b9c834e61/cycler-0.10.0-py2.py3-none-any.whl\n",
      "Collecting pyparsing!=2.0.4,!=2.1.2,!=2.1.6,>=2.0.1 (from matplotlib->dtreeviz->-r requirements.txt (line 12))\n",
      "\u001b[?25l  Downloading https://files.pythonhosted.org/packages/11/fa/0160cd525c62d7abd076a070ff02b2b94de589f1a9789774f17d7c54058e/pyparsing-2.4.2-py2.py3-none-any.whl (65kB)\n",
      "\u001b[K     |████████████████████████████████| 71kB 12.1MB/s eta 0:00:01\n",
      "\u001b[?25hCollecting decorator>=4.3.0 (from networkx->hyperopt->-r requirements.txt (line 13))\n",
      "  Downloading https://files.pythonhosted.org/packages/5f/88/0075e461560a1e750a0dcbf77f1d9de775028c37a19a346a6c565a257399/decorator-4.4.0-py2.py3-none-any.whl\n",
      "Collecting appnope; sys_platform == \"darwin\" (from ipython->shap->-r requirements.txt (line 16))\n",
      "  Downloading https://files.pythonhosted.org/packages/87/a9/7985e6a53402f294c8f0e8eff3151a83f1fb901fa92909bb3ff29b4d22af/appnope-0.1.0-py2.py3-none-any.whl\n",
      "Collecting traitlets>=4.2 (from ipython->shap->-r requirements.txt (line 16))\n",
      "\u001b[?25l  Downloading https://files.pythonhosted.org/packages/93/d6/abcb22de61d78e2fc3959c964628a5771e47e7cc60d53e9342e21ed6cc9a/traitlets-4.3.2-py2.py3-none-any.whl (74kB)\n",
      "\u001b[K     |████████████████████████████████| 81kB 12.1MB/s eta 0:00:01\n",
      "\u001b[?25hCollecting jedi>=0.10 (from ipython->shap->-r requirements.txt (line 16))\n",
      "\u001b[?25l  Downloading https://files.pythonhosted.org/packages/55/54/da994f359e4e7da4776a200e76dbc85ba5fc319eefc22e33d55296d95a1d/jedi-0.15.1-py2.py3-none-any.whl (1.0MB)\n",
      "\u001b[K     |████████████████████████████████| 1.0MB 17.7MB/s eta 0:00:01\n",
      "\u001b[?25hCollecting pygments (from ipython->shap->-r requirements.txt (line 16))\n",
      "\u001b[?25l  Downloading https://files.pythonhosted.org/packages/5c/73/1dfa428150e3ccb0fa3e68db406e5be48698f2a979ccbcec795f28f44048/Pygments-2.4.2-py2.py3-none-any.whl (883kB)\n",
      "\u001b[K     |████████████████████████████████| 890kB 21.5MB/s eta 0:00:01\n",
      "\u001b[?25hCollecting setuptools>=18.5 (from ipython->shap->-r requirements.txt (line 16))\n",
      "  Using cached https://files.pythonhosted.org/packages/75/b3/0a106dfaf7f48aef638da80b32608617cc8de4b24a22c8cd3759c32e5d30/setuptools-41.1.0-py2.py3-none-any.whl\n",
      "Collecting backcall (from ipython->shap->-r requirements.txt (line 16))\n",
      "  Downloading https://files.pythonhosted.org/packages/84/71/c8ca4f5bb1e08401b916c68003acf0a0655df935d74d93bf3f3364b310e0/backcall-0.1.0.tar.gz\n",
      "Collecting pickleshare (from ipython->shap->-r requirements.txt (line 16))\n",
      "  Downloading https://files.pythonhosted.org/packages/9a/41/220f49aaea88bc6fa6cba8d05ecf24676326156c23b991e80b3f2fc24c77/pickleshare-0.7.5-py2.py3-none-any.whl\n",
      "Collecting pexpect; sys_platform != \"win32\" (from ipython->shap->-r requirements.txt (line 16))\n",
      "\u001b[?25l  Downloading https://files.pythonhosted.org/packages/0e/3e/377007e3f36ec42f1b84ec322ee12141a9e10d808312e5738f52f80a232c/pexpect-4.7.0-py2.py3-none-any.whl (58kB)\n",
      "\u001b[K     |████████████████████████████████| 61kB 9.3MB/s  eta 0:00:01\n",
      "\u001b[?25hCollecting prompt-toolkit<2.1.0,>=2.0.0 (from ipython->shap->-r requirements.txt (line 16))\n",
      "\u001b[?25l  Downloading https://files.pythonhosted.org/packages/f7/a7/9b1dd14ef45345f186ef69d175bdd2491c40ab1dfa4b2b3e4352df719ed7/prompt_toolkit-2.0.9-py3-none-any.whl (337kB)\n",
      "\u001b[K     |████████████████████████████████| 337kB 10.4MB/s eta 0:00:01\n",
      "\u001b[?25hCollecting pillow>=4.3.0 (from scikit-image->shap->-r requirements.txt (line 16))\n",
      "\u001b[?25l  Downloading https://files.pythonhosted.org/packages/ff/ed/d2c7f2412425929f5c27d9de9bc86fb14674c4bab14e31682c8648f0dcac/Pillow-6.1.0-cp36-cp36m-macosx_10_6_intel.macosx_10_9_intel.macosx_10_9_x86_64.macosx_10_10_intel.macosx_10_10_x86_64.whl (3.8MB)\n",
      "\u001b[K     |████████████████████████████████| 3.9MB 18.4MB/s eta 0:00:01\n",
      "\u001b[?25hCollecting imageio>=2.0.1 (from scikit-image->shap->-r requirements.txt (line 16))\n",
      "\u001b[?25l  Downloading https://files.pythonhosted.org/packages/af/0a/943c965d372dae0b1f1482677d29030ab834351a61a9a632fd62f27f1523/imageio-2.5.0-py3-none-any.whl (3.3MB)\n",
      "\u001b[K     |████████████████████████████████| 3.3MB 11.1MB/s eta 0:00:01     |██████████████                  | 1.5MB 11.1MB/s eta 0:00:01\n",
      "\u001b[?25hCollecting PyWavelets>=0.4.0 (from scikit-image->shap->-r requirements.txt (line 16))\n",
      "\u001b[?25l  Downloading https://files.pythonhosted.org/packages/1c/66/0bdb59713833391d90b605ccf53003c41175e1fcc75dade52383cc6436b9/PyWavelets-1.0.3-cp36-cp36m-macosx_10_6_intel.macosx_10_9_intel.macosx_10_9_x86_64.macosx_10_10_intel.macosx_10_10_x86_64.whl (5.0MB)\n",
      "\u001b[K     |████████████████████████████████| 5.0MB 11.5MB/s eta 0:00:01\n",
      "\u001b[?25hCollecting MarkupSafe>=0.23 (from Jinja2>=2.10.1->Flask>=1.0.2->dash->-r requirements.txt (line 5))\n",
      "  Downloading https://files.pythonhosted.org/packages/f0/00/a6aea33f5598b080b86d6b6d1214b51afe3ffa6100b902d5aa465080083f/MarkupSafe-1.1.1-cp36-cp36m-macosx_10_6_intel.whl\n",
      "Collecting ipython-genutils (from traitlets>=4.2->ipython->shap->-r requirements.txt (line 16))\n",
      "  Downloading https://files.pythonhosted.org/packages/fa/bc/9bd3b5c2b4774d5f33b2d544f1460be9df7df2fe42f352135381c347c69a/ipython_genutils-0.2.0-py2.py3-none-any.whl\n",
      "Collecting parso>=0.5.0 (from jedi>=0.10->ipython->shap->-r requirements.txt (line 16))\n",
      "\u001b[?25l  Downloading https://files.pythonhosted.org/packages/a3/bd/bf4e5bd01d79906e5b945a7af033154da49fd2b0d5b5c705a21330323305/parso-0.5.1-py2.py3-none-any.whl (95kB)\n",
      "\u001b[K     |████████████████████████████████| 102kB 11.1MB/s ta 0:00:01\n",
      "\u001b[?25hCollecting ptyprocess>=0.5 (from pexpect; sys_platform != \"win32\"->ipython->shap->-r requirements.txt (line 16))\n",
      "  Downloading https://files.pythonhosted.org/packages/d1/29/605c2cc68a9992d18dada28206eeada56ea4bd07a239669da41674648b6f/ptyprocess-0.6.0-py2.py3-none-any.whl\n",
      "Collecting wcwidth (from prompt-toolkit<2.1.0,>=2.0.0->ipython->shap->-r requirements.txt (line 16))\n",
      "  Downloading https://files.pythonhosted.org/packages/7e/9f/526a6947247599b084ee5232e4f9190a38f398d7300d866af3ab571a5bfe/wcwidth-0.1.7-py2.py3-none-any.whl\n",
      "Building wheels for collected packages: networkx, psutil, backcall\n",
      "  Building wheel for networkx (setup.py) ... \u001b[?25l-\b \b\\\b \b|\b \b/\b \b-\b \b\\\b \b|\b \b/\b \b-\b \b\\\b \b|\b \b/\b \b-\b \b\\\b \b|\b \bdone\n",
      "\u001b[?25h  Created wheel for networkx: filename=networkx-2.3-py2.py3-none-any.whl size=1556758 sha256=f83969b0593483dd30a9ba6d32e08f02afa834e9a13c07f95b43477a92f64bb4\n",
      "  Stored in directory: /Users/oegedijk/Library/Caches/pip/wheels/de/63/64/3699be2a9d0ccdb37c7f16329acf3863fd76eda58c39c737af\n",
      "  Building wheel for psutil (setup.py) ... \u001b[?25l-\b \b\\\b \b|\b \b/\b \b-\b \b\\\b \b|\b \b/\b \b-\b \b\\\b \bdone\n",
      "\u001b[?25h  Created wheel for psutil: filename=psutil-5.6.3-cp36-cp36m-macosx_10_7_x86_64.whl size=234149 sha256=7fcf41bca90e53fb72f39fab870ac21e7a8cb67b10d8e6bc7d5ea229f3dda4b6\n",
      "  Stored in directory: /Users/oegedijk/Library/Caches/pip/wheels/90/7e/74/bb640d77775e6b6a78bcc3120f9fea4d2a28b2706de1cff37d\n",
      "  Building wheel for backcall (setup.py) ... \u001b[?25l-\b \bdone\n",
      "\u001b[?25h  Created wheel for backcall: filename=backcall-0.1.0-cp36-none-any.whl size=11931 sha256=f808e4ba15f952f89c9846ca5da1c46d46da90fa8b246a048b07953b9eddb50e\n",
      "  Stored in directory: /Users/oegedijk/Library/Caches/pip/wheels/98/b0/dd/29e28ff615af3dda4c67cab719dd51357597eabff926976b45\n",
      "Successfully built networkx psutil backcall\n",
      "Installing collected packages: dash-core-components, numpy, scipy, joblib, scikit-learn, six, python-dateutil, pytz, pandas, sklearn-pandas, retrying, plotly, itsdangerous, Werkzeug, MarkupSafe, Jinja2, click, Flask, flask-compress, dash-html-components, PyYAML, dash-table, dash-renderer, dash, imbalanced-learn, dash-bootstrap-components, dash-daq, setuptools, kiwisolver, cycler, pyparsing, matplotlib, colour, graphviz, dtreeviz, future, decorator, networkx, tqdm, pymongo, hyperopt, imblearn, psutil, pdpbox, appnope, ipython-genutils, traitlets, parso, jedi, pygments, backcall, pickleshare, ptyprocess, pexpect, wcwidth, prompt-toolkit, ipython, pillow, imageio, PyWavelets, scikit-image, shap, gunicorn\n",
      "Successfully installed Flask-1.1.1 Jinja2-2.10.1 MarkupSafe-1.1.1 PyWavelets-1.0.3 PyYAML-5.1.2 Werkzeug-0.15.5 appnope-0.1.0 backcall-0.1.0 click-7.0 colour-0.1.5 cycler-0.10.0 dash-1.1.1 dash-bootstrap-components-0.7.0 dash-core-components-1.1.1 dash-daq-0.1.7 dash-html-components-1.0.0 dash-renderer-1.0.0 dash-table-4.1.0 decorator-4.4.0 dtreeviz-0.6 flask-compress-1.4.0 future-0.17.1 graphviz-0.11.1 gunicorn-19.9.0 hyperopt-0.1.2 imageio-2.5.0 imbalanced-learn-0.5.0 imblearn-0.0 ipython-7.7.0 ipython-genutils-0.2.0 itsdangerous-1.1.0 jedi-0.15.1 joblib-0.13.2 kiwisolver-1.1.0 matplotlib-3.1.1 networkx-2.3 numpy-1.17.0 pandas-0.25.0 parso-0.5.1 pdpbox-0.2.0 pexpect-4.7.0 pickleshare-0.7.5 pillow-6.1.0 plotly-4.1.0 prompt-toolkit-2.0.9 psutil-5.6.3 ptyprocess-0.6.0 pygments-2.4.2 pymongo-3.9.0 pyparsing-2.4.2 python-dateutil-2.8.0 pytz-2019.2 retrying-1.3.3 scikit-image-0.15.0 scikit-learn-0.21.3 scipy-1.3.1 setuptools-41.1.0 shap-0.29.3 six-1.12.0 sklearn-pandas-1.8.0 tqdm-4.33.0 traitlets-4.3.2 wcwidth-0.1.7\n"
     ]
    }
   ],
   "source": [
    "!pip install -U --ignore-installed -r requirements.txt"
   ]
  },
  {
   "cell_type": "code",
   "execution_count": 1,
   "metadata": {
    "ExecuteTime": {
     "end_time": "2019-08-18T12:53:52.872318Z",
     "start_time": "2019-08-18T12:53:45.165605Z"
    },
    "collapsed": false
   },
   "outputs": [],
   "source": [
    "%load_ext autoreload\n",
    "%autoreload 2"
   ]
  },
  {
   "cell_type": "code",
   "execution_count": 2,
   "metadata": {
    "ExecuteTime": {
     "end_time": "2019-08-18T12:13:12.774041Z",
     "start_time": "2019-08-18T12:13:12.769161Z"
    },
    "collapsed": false
   },
   "outputs": [],
   "source": [
    "from IPython.core.interactiveshell import InteractiveShell\n",
    "InteractiveShell.ast_node_interactivity = \"all\""
   ]
  },
  {
   "cell_type": "code",
   "execution_count": 3,
   "metadata": {
    "ExecuteTime": {
     "end_time": "2019-08-18T12:13:12.790039Z",
     "start_time": "2019-08-18T12:13:12.776036Z"
    },
    "collapsed": true
   },
   "outputs": [],
   "source": [
    "from ipywidgets import interact, interactive, fixed, interact_manual\n",
    "import ipywidgets as widgets"
   ]
  },
  {
   "cell_type": "code",
   "execution_count": 4,
   "metadata": {
    "ExecuteTime": {
     "end_time": "2019-08-18T12:13:31.625723Z",
     "start_time": "2019-08-18T12:13:13.813142Z"
    },
    "collapsed": true
   },
   "outputs": [],
   "source": [
    "import numpy as np\n",
    "import pandas as pd\n",
    "\n",
    "import gc\n",
    "import pickle\n",
    "\n",
    "from pathlib import Path"
   ]
  },
  {
   "cell_type": "markdown",
   "metadata": {},
   "source": [
    "### load some project specific modules:"
   ]
  },
  {
   "cell_type": "code",
   "execution_count": 27,
   "metadata": {
    "collapsed": true
   },
   "outputs": [],
   "source": [
    "from sklearn.metrics import roc_auc_score"
   ]
  },
  {
   "cell_type": "code",
   "execution_count": 33,
   "metadata": {
    "ExecuteTime": {
     "end_time": "2019-08-18T12:53:45.163609Z",
     "start_time": "2019-08-18T12:53:37.348696Z"
    },
    "collapsed": false
   },
   "outputs": [],
   "source": [
    "from data_transform_methods import *\n",
    "from explainer_methods import *\n",
    "from optimizer_methods import *\n",
    "from explainer import *"
   ]
  },
  {
   "cell_type": "markdown",
   "metadata": {},
   "source": [
    "# load data"
   ]
  },
  {
   "cell_type": "code",
   "execution_count": 7,
   "metadata": {
    "ExecuteTime": {
     "end_time": "2019-08-18T12:59:12.892581Z",
     "start_time": "2019-08-18T12:59:12.866575Z"
    },
    "collapsed": true
   },
   "outputs": [],
   "source": [
    "d = pd.read_csv(\"train.csv\")"
   ]
  },
  {
   "cell_type": "code",
   "execution_count": 8,
   "metadata": {
    "ExecuteTime": {
     "end_time": "2019-08-18T12:59:58.409572Z",
     "start_time": "2019-08-18T12:59:58.402569Z"
    },
    "collapsed": true
   },
   "outputs": [],
   "source": [
    "d['Familysize'] = d.SibSp + d.Parch\n",
    "d['Cabin'] = d.Cabin.str[0]"
   ]
  },
  {
   "cell_type": "code",
   "execution_count": 9,
   "metadata": {
    "ExecuteTime": {
     "end_time": "2019-08-18T13:00:07.681164Z",
     "start_time": "2019-08-18T13:00:07.666160Z"
    },
    "collapsed": false
   },
   "outputs": [
    {
     "data": {
      "text/plain": [
       "(891, 13)"
      ]
     },
     "execution_count": 9,
     "metadata": {},
     "output_type": "execute_result"
    },
    {
     "data": {
      "text/html": [
       "<div>\n",
       "<style scoped>\n",
       "    .dataframe tbody tr th:only-of-type {\n",
       "        vertical-align: middle;\n",
       "    }\n",
       "\n",
       "    .dataframe tbody tr th {\n",
       "        vertical-align: top;\n",
       "    }\n",
       "\n",
       "    .dataframe thead th {\n",
       "        text-align: right;\n",
       "    }\n",
       "</style>\n",
       "<table border=\"1\" class=\"dataframe\">\n",
       "  <thead>\n",
       "    <tr style=\"text-align: right;\">\n",
       "      <th></th>\n",
       "      <th>0</th>\n",
       "      <th>1</th>\n",
       "      <th>2</th>\n",
       "      <th>3</th>\n",
       "      <th>4</th>\n",
       "    </tr>\n",
       "  </thead>\n",
       "  <tbody>\n",
       "    <tr>\n",
       "      <th>PassengerId</th>\n",
       "      <td>1</td>\n",
       "      <td>2</td>\n",
       "      <td>3</td>\n",
       "      <td>4</td>\n",
       "      <td>5</td>\n",
       "    </tr>\n",
       "    <tr>\n",
       "      <th>Survived</th>\n",
       "      <td>0</td>\n",
       "      <td>1</td>\n",
       "      <td>1</td>\n",
       "      <td>1</td>\n",
       "      <td>0</td>\n",
       "    </tr>\n",
       "    <tr>\n",
       "      <th>Pclass</th>\n",
       "      <td>3</td>\n",
       "      <td>1</td>\n",
       "      <td>3</td>\n",
       "      <td>1</td>\n",
       "      <td>3</td>\n",
       "    </tr>\n",
       "    <tr>\n",
       "      <th>Name</th>\n",
       "      <td>Braund, Mr. Owen Harris</td>\n",
       "      <td>Cumings, Mrs. John Bradley (Florence Briggs Th...</td>\n",
       "      <td>Heikkinen, Miss. Laina</td>\n",
       "      <td>Futrelle, Mrs. Jacques Heath (Lily May Peel)</td>\n",
       "      <td>Allen, Mr. William Henry</td>\n",
       "    </tr>\n",
       "    <tr>\n",
       "      <th>Sex</th>\n",
       "      <td>male</td>\n",
       "      <td>female</td>\n",
       "      <td>female</td>\n",
       "      <td>female</td>\n",
       "      <td>male</td>\n",
       "    </tr>\n",
       "    <tr>\n",
       "      <th>Age</th>\n",
       "      <td>22</td>\n",
       "      <td>38</td>\n",
       "      <td>26</td>\n",
       "      <td>35</td>\n",
       "      <td>35</td>\n",
       "    </tr>\n",
       "    <tr>\n",
       "      <th>SibSp</th>\n",
       "      <td>1</td>\n",
       "      <td>1</td>\n",
       "      <td>0</td>\n",
       "      <td>1</td>\n",
       "      <td>0</td>\n",
       "    </tr>\n",
       "    <tr>\n",
       "      <th>Parch</th>\n",
       "      <td>0</td>\n",
       "      <td>0</td>\n",
       "      <td>0</td>\n",
       "      <td>0</td>\n",
       "      <td>0</td>\n",
       "    </tr>\n",
       "    <tr>\n",
       "      <th>Ticket</th>\n",
       "      <td>A/5 21171</td>\n",
       "      <td>PC 17599</td>\n",
       "      <td>STON/O2. 3101282</td>\n",
       "      <td>113803</td>\n",
       "      <td>373450</td>\n",
       "    </tr>\n",
       "    <tr>\n",
       "      <th>Fare</th>\n",
       "      <td>7.25</td>\n",
       "      <td>71.2833</td>\n",
       "      <td>7.925</td>\n",
       "      <td>53.1</td>\n",
       "      <td>8.05</td>\n",
       "    </tr>\n",
       "    <tr>\n",
       "      <th>Cabin</th>\n",
       "      <td>NaN</td>\n",
       "      <td>C</td>\n",
       "      <td>NaN</td>\n",
       "      <td>C</td>\n",
       "      <td>NaN</td>\n",
       "    </tr>\n",
       "    <tr>\n",
       "      <th>Embarked</th>\n",
       "      <td>S</td>\n",
       "      <td>C</td>\n",
       "      <td>S</td>\n",
       "      <td>S</td>\n",
       "      <td>S</td>\n",
       "    </tr>\n",
       "    <tr>\n",
       "      <th>Familysize</th>\n",
       "      <td>1</td>\n",
       "      <td>1</td>\n",
       "      <td>0</td>\n",
       "      <td>1</td>\n",
       "      <td>0</td>\n",
       "    </tr>\n",
       "  </tbody>\n",
       "</table>\n",
       "</div>"
      ],
      "text/plain": [
       "                                   0  \\\n",
       "PassengerId                        1   \n",
       "Survived                           0   \n",
       "Pclass                             3   \n",
       "Name         Braund, Mr. Owen Harris   \n",
       "Sex                             male   \n",
       "Age                               22   \n",
       "SibSp                              1   \n",
       "Parch                              0   \n",
       "Ticket                     A/5 21171   \n",
       "Fare                            7.25   \n",
       "Cabin                            NaN   \n",
       "Embarked                           S   \n",
       "Familysize                         1   \n",
       "\n",
       "                                                             1  \\\n",
       "PassengerId                                                  2   \n",
       "Survived                                                     1   \n",
       "Pclass                                                       1   \n",
       "Name         Cumings, Mrs. John Bradley (Florence Briggs Th...   \n",
       "Sex                                                     female   \n",
       "Age                                                         38   \n",
       "SibSp                                                        1   \n",
       "Parch                                                        0   \n",
       "Ticket                                                PC 17599   \n",
       "Fare                                                   71.2833   \n",
       "Cabin                                                        C   \n",
       "Embarked                                                     C   \n",
       "Familysize                                                   1   \n",
       "\n",
       "                                  2  \\\n",
       "PassengerId                       3   \n",
       "Survived                          1   \n",
       "Pclass                            3   \n",
       "Name         Heikkinen, Miss. Laina   \n",
       "Sex                          female   \n",
       "Age                              26   \n",
       "SibSp                             0   \n",
       "Parch                             0   \n",
       "Ticket             STON/O2. 3101282   \n",
       "Fare                          7.925   \n",
       "Cabin                           NaN   \n",
       "Embarked                          S   \n",
       "Familysize                        0   \n",
       "\n",
       "                                                        3  \\\n",
       "PassengerId                                             4   \n",
       "Survived                                                1   \n",
       "Pclass                                                  1   \n",
       "Name         Futrelle, Mrs. Jacques Heath (Lily May Peel)   \n",
       "Sex                                                female   \n",
       "Age                                                    35   \n",
       "SibSp                                                   1   \n",
       "Parch                                                   0   \n",
       "Ticket                                             113803   \n",
       "Fare                                                 53.1   \n",
       "Cabin                                                   C   \n",
       "Embarked                                                S   \n",
       "Familysize                                              1   \n",
       "\n",
       "                                    4  \n",
       "PassengerId                         5  \n",
       "Survived                            0  \n",
       "Pclass                              3  \n",
       "Name         Allen, Mr. William Henry  \n",
       "Sex                              male  \n",
       "Age                                35  \n",
       "SibSp                               0  \n",
       "Parch                               0  \n",
       "Ticket                         373450  \n",
       "Fare                             8.05  \n",
       "Cabin                             NaN  \n",
       "Embarked                            S  \n",
       "Familysize                          0  "
      ]
     },
     "execution_count": 9,
     "metadata": {},
     "output_type": "execute_result"
    }
   ],
   "source": [
    "d.shape\n",
    "d.head().T"
   ]
  },
  {
   "cell_type": "code",
   "execution_count": 10,
   "metadata": {
    "ExecuteTime": {
     "end_time": "2019-08-18T13:00:28.607223Z",
     "start_time": "2019-08-18T13:00:28.572218Z"
    },
    "collapsed": false
   },
   "outputs": [
    {
     "data": {
      "text/html": [
       "<div>\n",
       "<style scoped>\n",
       "    .dataframe tbody tr th:only-of-type {\n",
       "        vertical-align: middle;\n",
       "    }\n",
       "\n",
       "    .dataframe tbody tr th {\n",
       "        vertical-align: top;\n",
       "    }\n",
       "\n",
       "    .dataframe thead th {\n",
       "        text-align: right;\n",
       "    }\n",
       "</style>\n",
       "<table border=\"1\" class=\"dataframe\">\n",
       "  <thead>\n",
       "    <tr style=\"text-align: right;\">\n",
       "      <th></th>\n",
       "      <th>Column</th>\n",
       "      <th>Cardinality</th>\n",
       "    </tr>\n",
       "  </thead>\n",
       "  <tbody>\n",
       "    <tr>\n",
       "      <th>0</th>\n",
       "      <td>Name</td>\n",
       "      <td>891</td>\n",
       "    </tr>\n",
       "    <tr>\n",
       "      <th>1</th>\n",
       "      <td>Ticket</td>\n",
       "      <td>681</td>\n",
       "    </tr>\n",
       "    <tr>\n",
       "      <th>2</th>\n",
       "      <td>Cabin</td>\n",
       "      <td>8</td>\n",
       "    </tr>\n",
       "    <tr>\n",
       "      <th>3</th>\n",
       "      <td>Embarked</td>\n",
       "      <td>3</td>\n",
       "    </tr>\n",
       "    <tr>\n",
       "      <th>4</th>\n",
       "      <td>Sex</td>\n",
       "      <td>2</td>\n",
       "    </tr>\n",
       "  </tbody>\n",
       "</table>\n",
       "</div>"
      ],
      "text/plain": [
       "     Column Cardinality\n",
       "0      Name         891\n",
       "1    Ticket         681\n",
       "2     Cabin           8\n",
       "3  Embarked           3\n",
       "4       Sex           2"
      ]
     },
     "execution_count": 10,
     "metadata": {},
     "output_type": "execute_result"
    }
   ],
   "source": [
    "show_cardinality_of_cats(d)"
   ]
  },
  {
   "cell_type": "markdown",
   "metadata": {},
   "source": [
    "# Transform data:"
   ]
  },
  {
   "cell_type": "code",
   "execution_count": 11,
   "metadata": {
    "ExecuteTime": {
     "end_time": "2019-08-18T13:00:37.780540Z",
     "start_time": "2019-08-18T13:00:37.776536Z"
    },
    "collapsed": true
   },
   "outputs": [],
   "source": [
    "TARGET='Survived'"
   ]
  },
  {
   "cell_type": "markdown",
   "metadata": {},
   "source": [
    "### drop date and indicator columns:"
   ]
  },
  {
   "cell_type": "code",
   "execution_count": 13,
   "metadata": {
    "ExecuteTime": {
     "end_time": "2019-08-18T13:00:55.195435Z",
     "start_time": "2019-08-18T13:00:55.180435Z"
    },
    "collapsed": false
   },
   "outputs": [
    {
     "name": "stdout",
     "output_type": "stream",
     "text": [
      "Name no longer in d\n",
      "Ticket no longer in d\n",
      "PassengerId no longer in d\n"
     ]
    }
   ],
   "source": [
    "drop_columns=['Name', 'Ticket', 'PassengerId']\n",
    "\n",
    "substring_drop_list = []\n",
    "\n",
    "d = clean_data(d, drop_columns, substring_drop_list, drop_dates=True)"
   ]
  },
  {
   "cell_type": "code",
   "execution_count": 15,
   "metadata": {
    "ExecuteTime": {
     "end_time": "2019-08-18T13:00:57.557960Z",
     "start_time": "2019-08-18T13:00:57.547958Z"
    },
    "collapsed": false
   },
   "outputs": [
    {
     "data": {
      "text/plain": [
       "((691, 10), (200, 10))"
      ]
     },
     "execution_count": 15,
     "metadata": {},
     "output_type": "execute_result"
    }
   ],
   "source": [
    "test_idxs = d.sample(200).index\n",
    "d_train = d[~d.index.isin(test_idxs)]\n",
    "d_test = d[d.index.isin(test_idxs)]\n",
    "d_train.shape, d_test.shape"
   ]
  },
  {
   "cell_type": "markdown",
   "metadata": {},
   "source": [
    "## Generate tree and linear datasets:"
   ]
  },
  {
   "cell_type": "markdown",
   "metadata": {},
   "source": [
    "#### Cols to generate isolation forest outlier score for:"
   ]
  },
  {
   "cell_type": "code",
   "execution_count": 16,
   "metadata": {
    "ExecuteTime": {
     "end_time": "2019-08-18T13:01:02.679844Z",
     "start_time": "2019-08-18T13:01:02.621842Z"
    },
    "collapsed": false
   },
   "outputs": [
    {
     "name": "stdout",
     "output_type": "stream",
     "text": [
      "Columns being transformed: \n",
      "numeric columns:  ['Parch', 'SibSp', 'Pclass', 'Age', 'Familysize', 'Fare']\n",
      "categorical columns:  Index(['Sex', 'Cabin', 'Embarked'], dtype='object')\n",
      "[('Survived', [<data_transform_methods.DummyTransform object at 0x127127048>], {'input_df': True}), ('Parch', [<data_transform_methods.NumericFill object at 0x127127588>], {'input_df': True}), ('SibSp', [<data_transform_methods.NumericFill object at 0x127127be0>], {'input_df': True}), ('Pclass', [<data_transform_methods.NumericFill object at 0x127127550>], {'input_df': True}), ('Age', [<data_transform_methods.NumericFill object at 0x1271270b8>], {'input_df': True}), ('Familysize', [<data_transform_methods.NumericFill object at 0x1271270f0>], {'input_df': True}), ('Fare', [<data_transform_methods.NumericFill object at 0x127127198>], {'input_df': True}), ('Sex', [<data_transform_methods.OneHot object at 0x127157748>], {'input_df': True}), ('Cabin', [<data_transform_methods.OneHot object at 0x1271716a0>], {'input_df': True}), ('Embarked', [<data_transform_methods.OneHot object at 0x1082dc860>], {'input_df': True})]\n",
      "fitting transformer...\n",
      "Fit: DummyTransform for: Survived...\n",
      "Fit: Filling numerical NaN Parch with                     ExtremeValue: -999...\n",
      "Fit: Filling numerical NaN SibSp with                     ExtremeValue: -999...\n",
      "Fit: Filling numerical NaN Pclass with                     ExtremeValue: -999...\n",
      "Fit: Filling numerical NaN Age with                     ExtremeValue: -999...\n",
      "Fit: Filling numerical NaN Familysize with                     ExtremeValue: -999...\n",
      "Fit: Filling numerical NaN Fare with                     ExtremeValue: -999...\n",
      "Fit: One-hot coding categorical variable Sex...\n",
      "Fit: One-hot coding categorical variable Cabin...\n",
      "Fit: One-hot coding categorical variable Embarked...\n"
     ]
    }
   ],
   "source": [
    "tree_transformer =  fit_transformer(d_train, target=TARGET, numfill='ExtremeValue')"
   ]
  },
  {
   "cell_type": "code",
   "execution_count": 17,
   "metadata": {
    "ExecuteTime": {
     "end_time": "2019-08-18T13:01:08.213733Z",
     "start_time": "2019-08-18T13:01:08.073724Z"
    },
    "collapsed": false
   },
   "outputs": [
    {
     "name": "stdout",
     "output_type": "stream",
     "text": [
      "Transform: DummyTransform for: Survived...\n",
      "Transform: Filling numerical NaN Parch with                     ExtremeValue: -999...\n",
      "Transform: Filling numerical NaN SibSp with                     ExtremeValue: -999...\n",
      "Transform: Filling numerical NaN Pclass with                     ExtremeValue: -999...\n",
      "Transform: Filling numerical NaN Age with                     ExtremeValue: -999...\n",
      "Transform: Filling numerical NaN Familysize with                     ExtremeValue: -999...\n",
      "Transform: Filling numerical NaN Fare with                     ExtremeValue: -999...\n",
      "Transform: One-hot coding categorical variable Sex...\n",
      "Transform: One-hot coding categorical variable Cabin...\n",
      "Transform: One-hot coding categorical variable Embarked...\n",
      "Transform: DummyTransform for: Survived...\n",
      "Transform: Filling numerical NaN Parch with                     ExtremeValue: -999...\n",
      "Transform: Filling numerical NaN SibSp with                     ExtremeValue: -999...\n",
      "Transform: Filling numerical NaN Pclass with                     ExtremeValue: -999...\n",
      "Transform: Filling numerical NaN Age with                     ExtremeValue: -999...\n",
      "Transform: Filling numerical NaN Familysize with                     ExtremeValue: -999...\n",
      "Transform: Filling numerical NaN Fare with                     ExtremeValue: -999...\n",
      "Transform: One-hot coding categorical variable Sex...\n",
      "Transform: One-hot coding categorical variable Cabin...\n",
      "Transform: One-hot coding categorical variable Embarked...\n"
     ]
    }
   ],
   "source": [
    "tree_data = (*get_transformed_X_y(d_train, tree_transformer, TARGET, add_random=False),\n",
    "             *get_transformed_X_y(d_test, tree_transformer, TARGET, add_random=False))"
   ]
  },
  {
   "cell_type": "code",
   "execution_count": 18,
   "metadata": {
    "ExecuteTime": {
     "end_time": "2019-08-18T13:01:10.574293Z",
     "start_time": "2019-08-18T13:01:10.569260Z"
    },
    "collapsed": true
   },
   "outputs": [],
   "source": [
    "(X_train, y_train, X_test, y_test) = tree_data"
   ]
  },
  {
   "cell_type": "code",
   "execution_count": 19,
   "metadata": {
    "ExecuteTime": {
     "end_time": "2019-08-18T13:01:11.149779Z",
     "start_time": "2019-08-18T13:01:11.127775Z"
    },
    "collapsed": false
   },
   "outputs": [
    {
     "data": {
      "text/html": [
       "<div>\n",
       "<style scoped>\n",
       "    .dataframe tbody tr th:only-of-type {\n",
       "        vertical-align: middle;\n",
       "    }\n",
       "\n",
       "    .dataframe tbody tr th {\n",
       "        vertical-align: top;\n",
       "    }\n",
       "\n",
       "    .dataframe thead th {\n",
       "        text-align: right;\n",
       "    }\n",
       "</style>\n",
       "<table border=\"1\" class=\"dataframe\">\n",
       "  <thead>\n",
       "    <tr style=\"text-align: right;\">\n",
       "      <th></th>\n",
       "      <th>Parch</th>\n",
       "      <th>SibSp</th>\n",
       "      <th>Pclass</th>\n",
       "      <th>Age</th>\n",
       "      <th>Familysize</th>\n",
       "      <th>Fare</th>\n",
       "      <th>Sex_female</th>\n",
       "      <th>Sex_male</th>\n",
       "      <th>Sex_nan</th>\n",
       "      <th>Cabin_A</th>\n",
       "      <th>...</th>\n",
       "      <th>Cabin_D</th>\n",
       "      <th>Cabin_E</th>\n",
       "      <th>Cabin_F</th>\n",
       "      <th>Cabin_G</th>\n",
       "      <th>Cabin_T</th>\n",
       "      <th>Cabin_nan</th>\n",
       "      <th>Embarked_C</th>\n",
       "      <th>Embarked_Q</th>\n",
       "      <th>Embarked_S</th>\n",
       "      <th>Embarked_nan</th>\n",
       "    </tr>\n",
       "  </thead>\n",
       "  <tbody>\n",
       "    <tr>\n",
       "      <th>0</th>\n",
       "      <td>0</td>\n",
       "      <td>1</td>\n",
       "      <td>3</td>\n",
       "      <td>22.0</td>\n",
       "      <td>1</td>\n",
       "      <td>7.2500</td>\n",
       "      <td>0</td>\n",
       "      <td>1</td>\n",
       "      <td>0</td>\n",
       "      <td>0</td>\n",
       "      <td>...</td>\n",
       "      <td>0</td>\n",
       "      <td>0</td>\n",
       "      <td>0</td>\n",
       "      <td>0</td>\n",
       "      <td>0</td>\n",
       "      <td>1</td>\n",
       "      <td>0</td>\n",
       "      <td>0</td>\n",
       "      <td>1</td>\n",
       "      <td>0</td>\n",
       "    </tr>\n",
       "    <tr>\n",
       "      <th>1</th>\n",
       "      <td>0</td>\n",
       "      <td>1</td>\n",
       "      <td>1</td>\n",
       "      <td>38.0</td>\n",
       "      <td>1</td>\n",
       "      <td>71.2833</td>\n",
       "      <td>1</td>\n",
       "      <td>0</td>\n",
       "      <td>0</td>\n",
       "      <td>0</td>\n",
       "      <td>...</td>\n",
       "      <td>0</td>\n",
       "      <td>0</td>\n",
       "      <td>0</td>\n",
       "      <td>0</td>\n",
       "      <td>0</td>\n",
       "      <td>0</td>\n",
       "      <td>1</td>\n",
       "      <td>0</td>\n",
       "      <td>0</td>\n",
       "      <td>0</td>\n",
       "    </tr>\n",
       "    <tr>\n",
       "      <th>2</th>\n",
       "      <td>0</td>\n",
       "      <td>0</td>\n",
       "      <td>3</td>\n",
       "      <td>26.0</td>\n",
       "      <td>0</td>\n",
       "      <td>7.9250</td>\n",
       "      <td>1</td>\n",
       "      <td>0</td>\n",
       "      <td>0</td>\n",
       "      <td>0</td>\n",
       "      <td>...</td>\n",
       "      <td>0</td>\n",
       "      <td>0</td>\n",
       "      <td>0</td>\n",
       "      <td>0</td>\n",
       "      <td>0</td>\n",
       "      <td>1</td>\n",
       "      <td>0</td>\n",
       "      <td>0</td>\n",
       "      <td>1</td>\n",
       "      <td>0</td>\n",
       "    </tr>\n",
       "    <tr>\n",
       "      <th>3</th>\n",
       "      <td>0</td>\n",
       "      <td>1</td>\n",
       "      <td>1</td>\n",
       "      <td>35.0</td>\n",
       "      <td>1</td>\n",
       "      <td>53.1000</td>\n",
       "      <td>1</td>\n",
       "      <td>0</td>\n",
       "      <td>0</td>\n",
       "      <td>0</td>\n",
       "      <td>...</td>\n",
       "      <td>0</td>\n",
       "      <td>0</td>\n",
       "      <td>0</td>\n",
       "      <td>0</td>\n",
       "      <td>0</td>\n",
       "      <td>0</td>\n",
       "      <td>0</td>\n",
       "      <td>0</td>\n",
       "      <td>1</td>\n",
       "      <td>0</td>\n",
       "    </tr>\n",
       "    <tr>\n",
       "      <th>5</th>\n",
       "      <td>0</td>\n",
       "      <td>0</td>\n",
       "      <td>3</td>\n",
       "      <td>-999.0</td>\n",
       "      <td>0</td>\n",
       "      <td>8.4583</td>\n",
       "      <td>0</td>\n",
       "      <td>1</td>\n",
       "      <td>0</td>\n",
       "      <td>0</td>\n",
       "      <td>...</td>\n",
       "      <td>0</td>\n",
       "      <td>0</td>\n",
       "      <td>0</td>\n",
       "      <td>0</td>\n",
       "      <td>0</td>\n",
       "      <td>1</td>\n",
       "      <td>0</td>\n",
       "      <td>1</td>\n",
       "      <td>0</td>\n",
       "      <td>0</td>\n",
       "    </tr>\n",
       "  </tbody>\n",
       "</table>\n",
       "<p>5 rows × 22 columns</p>\n",
       "</div>"
      ],
      "text/plain": [
       "   Parch  SibSp  Pclass    Age  Familysize     Fare  Sex_female  Sex_male  \\\n",
       "0      0      1       3   22.0           1   7.2500           0         1   \n",
       "1      0      1       1   38.0           1  71.2833           1         0   \n",
       "2      0      0       3   26.0           0   7.9250           1         0   \n",
       "3      0      1       1   35.0           1  53.1000           1         0   \n",
       "5      0      0       3 -999.0           0   8.4583           0         1   \n",
       "\n",
       "   Sex_nan  Cabin_A  ...  Cabin_D  Cabin_E  Cabin_F  Cabin_G  Cabin_T  \\\n",
       "0        0        0  ...        0        0        0        0        0   \n",
       "1        0        0  ...        0        0        0        0        0   \n",
       "2        0        0  ...        0        0        0        0        0   \n",
       "3        0        0  ...        0        0        0        0        0   \n",
       "5        0        0  ...        0        0        0        0        0   \n",
       "\n",
       "   Cabin_nan  Embarked_C  Embarked_Q  Embarked_S  Embarked_nan  \n",
       "0          1           0           0           1             0  \n",
       "1          0           1           0           0             0  \n",
       "2          1           0           0           1             0  \n",
       "3          0           0           0           1             0  \n",
       "5          1           0           1           0             0  \n",
       "\n",
       "[5 rows x 22 columns]"
      ]
     },
     "execution_count": 19,
     "metadata": {},
     "output_type": "execute_result"
    }
   ],
   "source": [
    "X_train.head()"
   ]
  },
  {
   "cell_type": "code",
   "execution_count": 20,
   "metadata": {
    "ExecuteTime": {
     "end_time": "2019-08-18T13:01:12.934556Z",
     "start_time": "2019-08-18T13:01:12.926555Z"
    },
    "collapsed": false
   },
   "outputs": [
    {
     "data": {
      "text/plain": [
       "(691, 261, 0.37771345875542695)"
      ]
     },
     "execution_count": 20,
     "metadata": {},
     "output_type": "execute_result"
    },
    {
     "data": {
      "text/plain": [
       "(200, 81, 0.405)"
      ]
     },
     "execution_count": 20,
     "metadata": {},
     "output_type": "execute_result"
    }
   ],
   "source": [
    "len(X_train), y_train.sum(), y_train.mean()\n",
    "len(X_test), y_test.sum(), y_test.mean()"
   ]
  },
  {
   "cell_type": "markdown",
   "metadata": {},
   "source": [
    "## Run the garbage collector:"
   ]
  },
  {
   "cell_type": "code",
   "execution_count": 21,
   "metadata": {
    "ExecuteTime": {
     "end_time": "2019-08-18T13:01:14.068092Z",
     "start_time": "2019-08-18T13:01:13.946048Z"
    },
    "collapsed": false
   },
   "outputs": [
    {
     "data": {
      "text/plain": [
       "230"
      ]
     },
     "execution_count": 21,
     "metadata": {},
     "output_type": "execute_result"
    }
   ],
   "source": [
    "gc.collect()"
   ]
  },
  {
   "cell_type": "markdown",
   "metadata": {},
   "source": [
    "# Optimize hyperparameters"
   ]
  },
  {
   "cell_type": "markdown",
   "metadata": {},
   "source": [
    "### optimize model:"
   ]
  },
  {
   "cell_type": "code",
   "execution_count": 22,
   "metadata": {
    "ExecuteTime": {
     "end_time": "2019-08-18T13:01:20.247495Z",
     "start_time": "2019-08-18T13:01:20.243490Z"
    },
    "collapsed": true
   },
   "outputs": [],
   "source": []
  },
  {
   "cell_type": "code",
   "execution_count": 23,
   "metadata": {
    "ExecuteTime": {
     "end_time": "2019-08-18T13:04:48.849284Z",
     "start_time": "2019-08-18T13:02:50.090730Z"
    },
    "collapsed": false
   },
   "outputs": [
    {
     "name": "stdout",
     "output_type": "stream",
     "text": [
      "100%|██████████| 200/200 [03:48<00:00,  1.13s/it, best loss: -0.860665946602761] \n"
     ]
    }
   ],
   "source": [
    "#models = ['RandomForestClassifier', 'BalancedRandomForestClassifier', 'LogisticRegression']\n",
    "models = ['RandomForestClassifier']\n",
    "best_model, trials = classifier_optimize(tree_data, None, models, \n",
    "                                         roc_auc_score, needs_proba=True, n_evals=200, cv=5)"
   ]
  },
  {
   "cell_type": "code",
   "execution_count": 24,
   "metadata": {
    "ExecuteTime": {
     "end_time": "2019-08-18T13:05:30.347244Z",
     "start_time": "2019-08-18T13:05:30.342266Z"
    },
    "collapsed": false
   },
   "outputs": [
    {
     "data": {
      "text/plain": [
       "{'class_weight': 'balanced',\n",
       " 'max_depth': None,\n",
       " 'max_features': 0.28195456631768984,\n",
       " 'min_impurity_decrease': 4.859996740345185e-07,\n",
       " 'min_samples_leaf': 7,\n",
       " 'min_samples_split': 11,\n",
       " 'model_type': 'RandomForestClassifier',\n",
       " 'n_estimators': 100}"
      ]
     },
     "execution_count": 24,
     "metadata": {},
     "output_type": "execute_result"
    }
   ],
   "source": [
    "best_model"
   ]
  },
  {
   "cell_type": "code",
   "execution_count": 25,
   "metadata": {
    "ExecuteTime": {
     "end_time": "2019-08-18T13:09:18.907490Z",
     "start_time": "2019-08-18T13:09:18.661538Z"
    },
    "collapsed": false
   },
   "outputs": [
    {
     "data": {
      "text/plain": [
       "RandomForestClassifier(bootstrap=True, class_weight='balanced',\n",
       "                       criterion='gini', max_depth=None,\n",
       "                       max_features=0.28195456631768984, max_leaf_nodes=None,\n",
       "                       min_impurity_decrease=4.859996740345185e-07,\n",
       "                       min_impurity_split=None, min_samples_leaf=7,\n",
       "                       min_samples_split=11, min_weight_fraction_leaf=0.0,\n",
       "                       n_estimators=100, n_jobs=None, oob_score=False,\n",
       "                       random_state=None, verbose=0, warm_start=False)"
      ]
     },
     "execution_count": 25,
     "metadata": {},
     "output_type": "execute_result"
    }
   ],
   "source": [
    "model, (X_train, y_train, X_test, y_test), transformer = get_best_model_and_data(best_model, tree_data, \n",
    "                                            None, None, tree_transformer, None)\n",
    "model.fit(X_train, y_train)\n"
   ]
  },
  {
   "cell_type": "code",
   "execution_count": 28,
   "metadata": {
    "ExecuteTime": {
     "end_time": "2019-08-18T13:09:21.462666Z",
     "start_time": "2019-08-18T13:09:21.434668Z"
    },
    "collapsed": false
   },
   "outputs": [
    {
     "data": {
      "text/plain": [
       "0.8828197945845004"
      ]
     },
     "execution_count": 28,
     "metadata": {},
     "output_type": "execute_result"
    },
    {
     "data": {
      "text/plain": [
       "1.0"
      ]
     },
     "execution_count": 28,
     "metadata": {},
     "output_type": "execute_result"
    },
    {
     "name": "stdout",
     "output_type": "stream",
     "text": [
      "              precision    recall  f1-score   support\n",
      "\n",
      "           0       0.84      0.85      0.85       119\n",
      "           1       0.78      0.77      0.77        81\n",
      "\n",
      "    accuracy                           0.81       200\n",
      "   macro avg       0.81      0.81      0.81       200\n",
      "weighted avg       0.81      0.81      0.81       200\n",
      "\n"
     ]
    }
   ],
   "source": [
    "pred_probas = model.predict_proba(X_test)\n",
    "roc_auc_score(y_test, pred_probas[:,1])\n",
    "topx_perc_precision_score(y_test, pred_probas[:,1])\n",
    "report = classification_report(y_test, np.where(pred_probas[:,1]>0.5, 1, 0))\n",
    "print(report)"
   ]
  },
  {
   "cell_type": "code",
   "execution_count": 29,
   "metadata": {
    "ExecuteTime": {
     "end_time": "2019-08-18T13:09:44.393403Z",
     "start_time": "2019-08-18T13:09:44.351360Z"
    },
    "collapsed": true
   },
   "outputs": [],
   "source": [
    "model_bunch = ModelBunch(model, transformer, TARGET, X_train.columns)\n",
    "pickle.dump(model_bunch, open(Path.cwd() / 'titanic_model_bunch.pkl','wb'))"
   ]
  },
  {
   "cell_type": "code",
   "execution_count": 34,
   "metadata": {
    "ExecuteTime": {
     "end_time": "2019-08-18T13:39:49.097862Z",
     "start_time": "2019-08-18T13:39:49.035852Z"
    },
    "collapsed": false
   },
   "outputs": [
    {
     "name": "stdout",
     "output_type": "stream",
     "text": [
      "Transform: DummyTransform for: Survived...\n",
      "Transform: Filling numerical NaN Parch with                     ExtremeValue: -999...\n",
      "Transform: Filling numerical NaN SibSp with                     ExtremeValue: -999...\n",
      "Transform: Filling numerical NaN Pclass with                     ExtremeValue: -999...\n",
      "Transform: Filling numerical NaN Age with                     ExtremeValue: -999...\n",
      "Transform: Filling numerical NaN Familysize with                     ExtremeValue: -999...\n",
      "Transform: Filling numerical NaN Fare with                     ExtremeValue: -999...\n",
      "Transform: One-hot coding categorical variable Sex...\n",
      "Transform: One-hot coding categorical variable Cabin...\n",
      "Transform: One-hot coding categorical variable Embarked...\n"
     ]
    }
   ],
   "source": [
    "explainer = TreeExplainer(model_bunch, d_test, roc_auc_score)"
   ]
  },
  {
   "cell_type": "code",
   "execution_count": 35,
   "metadata": {
    "ExecuteTime": {
     "end_time": "2019-08-18T13:39:44.838624Z",
     "start_time": "2019-08-18T13:39:44.833623Z"
    },
    "collapsed": false
   },
   "outputs": [
    {
     "data": {
      "text/plain": [
       "0.5022135376930237"
      ]
     },
     "execution_count": 35,
     "metadata": {},
     "output_type": "execute_result"
    }
   ],
   "source": [
    "explainer.shap_explainer.expected_value"
   ]
  },
  {
   "cell_type": "code",
   "execution_count": 36,
   "metadata": {
    "ExecuteTime": {
     "end_time": "2019-08-18T13:27:53.131167Z",
     "start_time": "2019-08-18T13:27:53.089162Z"
    },
    "collapsed": false
   },
   "outputs": [
    {
     "data": {
      "text/html": [
       "<div>\n",
       "<style scoped>\n",
       "    .dataframe tbody tr th:only-of-type {\n",
       "        vertical-align: middle;\n",
       "    }\n",
       "\n",
       "    .dataframe tbody tr th {\n",
       "        vertical-align: top;\n",
       "    }\n",
       "\n",
       "    .dataframe thead th {\n",
       "        text-align: right;\n",
       "    }\n",
       "</style>\n",
       "<table border=\"1\" class=\"dataframe\">\n",
       "  <thead>\n",
       "    <tr style=\"text-align: right;\">\n",
       "      <th></th>\n",
       "      <th>col</th>\n",
       "      <th>contribution</th>\n",
       "      <th>cumulative</th>\n",
       "      <th>base</th>\n",
       "      <th>raw_value</th>\n",
       "    </tr>\n",
       "  </thead>\n",
       "  <tbody>\n",
       "    <tr>\n",
       "      <th>0</th>\n",
       "      <td>base_value</td>\n",
       "      <td>0.502214</td>\n",
       "      <td>0.502214</td>\n",
       "      <td>0.000000</td>\n",
       "      <td>NaN</td>\n",
       "    </tr>\n",
       "    <tr>\n",
       "      <th>1</th>\n",
       "      <td>Sex</td>\n",
       "      <td>-0.169627</td>\n",
       "      <td>0.332587</td>\n",
       "      <td>0.502214</td>\n",
       "      <td>male</td>\n",
       "    </tr>\n",
       "    <tr>\n",
       "      <th>2</th>\n",
       "      <td>Pclass</td>\n",
       "      <td>-0.040045</td>\n",
       "      <td>0.292542</td>\n",
       "      <td>0.332587</td>\n",
       "      <td>3</td>\n",
       "    </tr>\n",
       "    <tr>\n",
       "      <th>3</th>\n",
       "      <td>Fare</td>\n",
       "      <td>-0.034880</td>\n",
       "      <td>0.257662</td>\n",
       "      <td>0.292542</td>\n",
       "      <td>8.05</td>\n",
       "    </tr>\n",
       "    <tr>\n",
       "      <th>4</th>\n",
       "      <td>Cabin</td>\n",
       "      <td>-0.033602</td>\n",
       "      <td>0.224060</td>\n",
       "      <td>0.257662</td>\n",
       "      <td>NaN</td>\n",
       "    </tr>\n",
       "    <tr>\n",
       "      <th>5</th>\n",
       "      <td>Age</td>\n",
       "      <td>-0.014883</td>\n",
       "      <td>0.209177</td>\n",
       "      <td>0.224060</td>\n",
       "      <td>35</td>\n",
       "    </tr>\n",
       "    <tr>\n",
       "      <th>6</th>\n",
       "      <td>Embarked</td>\n",
       "      <td>-0.012191</td>\n",
       "      <td>0.196986</td>\n",
       "      <td>0.209177</td>\n",
       "      <td>S</td>\n",
       "    </tr>\n",
       "    <tr>\n",
       "      <th>7</th>\n",
       "      <td>SibSp</td>\n",
       "      <td>0.005473</td>\n",
       "      <td>0.202459</td>\n",
       "      <td>0.196986</td>\n",
       "      <td>0</td>\n",
       "    </tr>\n",
       "    <tr>\n",
       "      <th>8</th>\n",
       "      <td>Familysize</td>\n",
       "      <td>0.003996</td>\n",
       "      <td>0.206455</td>\n",
       "      <td>0.202459</td>\n",
       "      <td>0</td>\n",
       "    </tr>\n",
       "    <tr>\n",
       "      <th>9</th>\n",
       "      <td>Parch</td>\n",
       "      <td>-0.002468</td>\n",
       "      <td>0.203987</td>\n",
       "      <td>0.206455</td>\n",
       "      <td>0</td>\n",
       "    </tr>\n",
       "  </tbody>\n",
       "</table>\n",
       "</div>"
      ],
      "text/plain": [
       "          col  contribution  cumulative      base raw_value\n",
       "0  base_value      0.502214    0.502214  0.000000       NaN\n",
       "1         Sex     -0.169627    0.332587  0.502214      male\n",
       "2      Pclass     -0.040045    0.292542  0.332587         3\n",
       "3        Fare     -0.034880    0.257662  0.292542      8.05\n",
       "4       Cabin     -0.033602    0.224060  0.257662       NaN\n",
       "5         Age     -0.014883    0.209177  0.224060        35\n",
       "6    Embarked     -0.012191    0.196986  0.209177         S\n",
       "7       SibSp      0.005473    0.202459  0.196986         0\n",
       "8  Familysize      0.003996    0.206455  0.202459         0\n",
       "9       Parch     -0.002468    0.203987  0.206455         0"
      ]
     },
     "execution_count": 36,
     "metadata": {},
     "output_type": "execute_result"
    }
   ],
   "source": [
    "explainer.contrib_df(0)"
   ]
  },
  {
   "cell_type": "code",
   "execution_count": 40,
   "metadata": {
    "ExecuteTime": {
     "end_time": "2019-08-18T13:40:09.565990Z",
     "start_time": "2019-08-18T13:39:52.548774Z"
    },
    "collapsed": false
   },
   "outputs": [
    {
     "data": {
      "text/plain": [
       "(              Importance\n",
       " Feature                 \n",
       " Sex_female      0.067123\n",
       " Sex_male        0.055192\n",
       " Pclass          0.036778\n",
       " Age             0.017429\n",
       " Familysize      0.011723\n",
       " Fare            0.005084\n",
       " Cabin_nan       0.005032\n",
       " Cabin_E         0.000726\n",
       " Parch           0.000156\n",
       " Cabin_D         0.000052\n",
       " Cabin_T         0.000000\n",
       " Cabin_G         0.000000\n",
       " Cabin_F         0.000000\n",
       " Embarked_nan    0.000000\n",
       " SibSp           0.000000\n",
       " Sex_nan         0.000000\n",
       " Cabin_A        -0.000104\n",
       " Embarked_Q     -0.000415\n",
       " Embarked_C     -0.001141\n",
       " Cabin_C        -0.001141\n",
       " Embarked_S     -0.002127\n",
       " Cabin_B        -0.002179,\n",
       " array([[-0.00246776,  0.00547334, -0.04004498, ..., -0.00040493,\n",
       "         -0.00582164,  0.        ],\n",
       "        [-0.00170247, -0.00282462,  0.05776043, ...,  0.00016502,\n",
       "         -0.00949886,  0.        ],\n",
       "        [ 0.01318384,  0.00417146, -0.08017494, ..., -0.00359574,\n",
       "         -0.01637067,  0.        ],\n",
       "        ...,\n",
       "        [ 0.01225074,  0.01331451,  0.1047656 , ..., -0.00023048,\n",
       "         -0.00526944,  0.        ],\n",
       "        [ 0.00222199,  0.00828703,  0.09094234, ..., -0.00058053,\n",
       "         -0.00628527,  0.        ],\n",
       "        [-0.00161451,  0.00357596, -0.03705067, ..., -0.01350495,\n",
       "          0.0028903 ,  0.        ]]),\n",
       " array([[[-2.76378300e-03, -1.04655916e-04,  3.96724670e-04, ...,\n",
       "          -1.16801591e-04, -9.19073413e-05,  0.00000000e+00],\n",
       "         [-1.04655916e-04,  5.06696244e-03,  1.03016018e-03, ...,\n",
       "           5.43110884e-05,  2.51038249e-04,  0.00000000e+00],\n",
       "         [ 3.96724670e-04,  1.03016018e-03, -6.61539529e-02, ...,\n",
       "          -2.56688751e-04, -7.93436052e-04,  0.00000000e+00],\n",
       "         ...,\n",
       "         [-1.16801591e-04,  5.43110884e-05, -2.56688751e-04, ...,\n",
       "          -1.72993486e-03, -1.42205343e-04,  0.00000000e+00],\n",
       "         [-9.19073413e-05,  2.51038249e-04, -7.93436052e-04, ...,\n",
       "          -1.42205343e-04, -1.12670110e-02,  0.00000000e+00],\n",
       "         [ 0.00000000e+00,  0.00000000e+00,  0.00000000e+00, ...,\n",
       "           0.00000000e+00,  0.00000000e+00,  0.00000000e+00]],\n",
       " \n",
       "        [[-6.71934902e-04, -4.39804571e-05, -5.36913058e-04, ...,\n",
       "          -4.67969355e-05, -1.23529622e-04,  0.00000000e+00],\n",
       "         [-4.39804571e-05,  7.06474116e-03, -3.14286631e-03, ...,\n",
       "           2.44500824e-05, -1.05423410e-04,  0.00000000e+00],\n",
       "         [-5.36913058e-04, -3.14286631e-03,  9.28152282e-02, ...,\n",
       "           1.76123674e-04, -3.62007370e-04,  0.00000000e+00],\n",
       "         ...,\n",
       "         [-4.67969355e-05,  2.44500824e-05,  1.76123674e-04, ...,\n",
       "          -8.30440934e-04, -1.37831841e-05,  0.00000000e+00],\n",
       "         [-1.23529622e-04, -1.05423410e-04, -3.62007370e-04, ...,\n",
       "          -1.37831841e-05, -7.69747614e-03,  0.00000000e+00],\n",
       "         [ 0.00000000e+00,  0.00000000e+00,  0.00000000e+00, ...,\n",
       "           0.00000000e+00,  0.00000000e+00,  0.00000000e+00]],\n",
       " \n",
       "        [[ 2.29832752e-02,  1.56914445e-03, -3.81261088e-04, ...,\n",
       "           6.57559153e-04,  5.63291798e-04,  0.00000000e+00],\n",
       "         [ 1.56914445e-03,  4.99388857e-03,  2.37988538e-04, ...,\n",
       "          -1.41846511e-04,  4.59651726e-04,  0.00000000e+00],\n",
       "         [-3.81261088e-04,  2.37988538e-04, -6.68900707e-02, ...,\n",
       "          -9.89961853e-04, -4.08886047e-03,  0.00000000e+00],\n",
       "         ...,\n",
       "         [ 6.57559153e-04, -1.41846511e-04, -9.89961853e-04, ...,\n",
       "          -1.61285850e-03,  2.28801383e-04,  0.00000000e+00],\n",
       "         [ 5.63291798e-04,  4.59651726e-04, -4.08886047e-03, ...,\n",
       "           2.28801383e-04, -1.06053460e-02,  0.00000000e+00],\n",
       "         [ 0.00000000e+00,  0.00000000e+00,  0.00000000e+00, ...,\n",
       "           0.00000000e+00,  0.00000000e+00,  0.00000000e+00]],\n",
       " \n",
       "        ...,\n",
       " \n",
       "        [[ 1.87314496e-02,  1.25765201e-04,  3.14684767e-03, ...,\n",
       "           2.34845778e-04,  4.06675953e-04,  0.00000000e+00],\n",
       "         [ 1.25765201e-04,  4.82768769e-03, -1.18971319e-05, ...,\n",
       "           8.84154341e-05,  3.17393112e-04,  0.00000000e+00],\n",
       "         [ 3.14684767e-03, -1.18971319e-05,  3.29370774e-02, ...,\n",
       "           1.28906889e-03,  5.40403285e-03,  0.00000000e+00],\n",
       "         ...,\n",
       "         [ 2.34845778e-04,  8.84154341e-05,  1.28906889e-03, ...,\n",
       "          -1.90310539e-03,  3.16548088e-05,  0.00000000e+00],\n",
       "         [ 4.06675953e-04,  3.17393112e-04,  5.40403285e-03, ...,\n",
       "           3.16548088e-05, -1.20096406e-02,  0.00000000e+00],\n",
       "         [ 0.00000000e+00,  0.00000000e+00,  0.00000000e+00, ...,\n",
       "           0.00000000e+00,  0.00000000e+00,  0.00000000e+00]],\n",
       " \n",
       "        [[-1.62959130e-03, -1.44983708e-04, -9.78496798e-04, ...,\n",
       "          -9.39394482e-05, -4.28145792e-05,  0.00000000e+00],\n",
       "         [-1.44983708e-04,  5.29600557e-03, -8.44150427e-04, ...,\n",
       "           7.35913417e-05,  1.36880652e-04,  0.00000000e+00],\n",
       "         [-9.78496798e-04, -8.44150427e-04,  8.77004275e-02, ...,\n",
       "           1.29823024e-03,  3.23940758e-03,  0.00000000e+00],\n",
       "         ...,\n",
       "         [-9.39394482e-05,  7.35913417e-05,  1.29823024e-03, ...,\n",
       "          -1.84891019e-03,  8.97634553e-05,  0.00000000e+00],\n",
       "         [-4.28145792e-05,  1.36880652e-04,  3.23940758e-03, ...,\n",
       "           8.97634553e-05, -1.17142927e-02,  0.00000000e+00],\n",
       "         [ 0.00000000e+00,  0.00000000e+00,  0.00000000e+00, ...,\n",
       "           0.00000000e+00,  0.00000000e+00,  0.00000000e+00]],\n",
       " \n",
       "        [[-1.93289953e-03, -1.45796135e-04,  3.77971643e-04, ...,\n",
       "           7.34776008e-06,  7.91553336e-05,  0.00000000e+00],\n",
       "         [-1.45796135e-04,  5.81548561e-03,  7.70584990e-04, ...,\n",
       "          -2.01378006e-04, -5.62437106e-04,  0.00000000e+00],\n",
       "         [ 3.77971643e-04,  7.70584990e-04, -6.05175011e-02, ...,\n",
       "          -5.81931164e-04, -8.83811415e-05,  0.00000000e+00],\n",
       "         ...,\n",
       "         [ 7.34776008e-06, -2.01378006e-04, -5.81931164e-04, ...,\n",
       "           2.33904183e-03, -2.26307392e-03,  0.00000000e+00],\n",
       "         [ 7.91553336e-05, -5.62437106e-04, -8.83811415e-05, ...,\n",
       "          -2.26307392e-03,  2.39302857e-02,  0.00000000e+00],\n",
       "         [ 0.00000000e+00,  0.00000000e+00,  0.00000000e+00, ...,\n",
       "           0.00000000e+00,  0.00000000e+00,  0.00000000e+00]]]),\n",
       " [<dtreeviz.shadow.ShadowDecTree at 0x127268208>,\n",
       "  <dtreeviz.shadow.ShadowDecTree at 0x12724ff60>,\n",
       "  <dtreeviz.shadow.ShadowDecTree at 0x127254320>,\n",
       "  <dtreeviz.shadow.ShadowDecTree at 0x127254e10>,\n",
       "  <dtreeviz.shadow.ShadowDecTree at 0x110f435c0>,\n",
       "  <dtreeviz.shadow.ShadowDecTree at 0x110f39780>,\n",
       "  <dtreeviz.shadow.ShadowDecTree at 0x110f325c0>,\n",
       "  <dtreeviz.shadow.ShadowDecTree at 0x110f31550>,\n",
       "  <dtreeviz.shadow.ShadowDecTree at 0x110f1d400>,\n",
       "  <dtreeviz.shadow.ShadowDecTree at 0x110f1a1d0>,\n",
       "  <dtreeviz.shadow.ShadowDecTree at 0x110f1abe0>,\n",
       "  <dtreeviz.shadow.ShadowDecTree at 0x110f11b70>,\n",
       "  <dtreeviz.shadow.ShadowDecTree at 0x1272eb710>,\n",
       "  <dtreeviz.shadow.ShadowDecTree at 0x1272f2400>,\n",
       "  <dtreeviz.shadow.ShadowDecTree at 0x1272f70f0>,\n",
       "  <dtreeviz.shadow.ShadowDecTree at 0x1272f7d30>,\n",
       "  <dtreeviz.shadow.ShadowDecTree at 0x127304be0>,\n",
       "  <dtreeviz.shadow.ShadowDecTree at 0x1273088d0>,\n",
       "  <dtreeviz.shadow.ShadowDecTree at 0x12730d6a0>,\n",
       "  <dtreeviz.shadow.ShadowDecTree at 0x1273162b0>,\n",
       "  <dtreeviz.shadow.ShadowDecTree at 0x127318160>,\n",
       "  <dtreeviz.shadow.ShadowDecTree at 0x127318a90>,\n",
       "  <dtreeviz.shadow.ShadowDecTree at 0x127324940>,\n",
       "  <dtreeviz.shadow.ShadowDecTree at 0x1272a3710>,\n",
       "  <dtreeviz.shadow.ShadowDecTree at 0x1272aa4e0>,\n",
       "  <dtreeviz.shadow.ShadowDecTree at 0x1272b1240>,\n",
       "  <dtreeviz.shadow.ShadowDecTree at 0x1272b1b70>,\n",
       "  <dtreeviz.shadow.ShadowDecTree at 0x1272b9710>,\n",
       "  <dtreeviz.shadow.ShadowDecTree at 0x1272c05c0>,\n",
       "  <dtreeviz.shadow.ShadowDecTree at 0x1272c6550>,\n",
       "  <dtreeviz.shadow.ShadowDecTree at 0x1272c8320>,\n",
       "  <dtreeviz.shadow.ShadowDecTree at 0x1272d42b0>,\n",
       "  <dtreeviz.shadow.ShadowDecTree at 0x1272d4e80>,\n",
       "  <dtreeviz.shadow.ShadowDecTree at 0x127736da0>,\n",
       "  <dtreeviz.shadow.ShadowDecTree at 0x12773ecc0>,\n",
       "  <dtreeviz.shadow.ShadowDecTree at 0x127740be0>,\n",
       "  <dtreeviz.shadow.ShadowDecTree at 0x12774ccc0>,\n",
       "  <dtreeviz.shadow.ShadowDecTree at 0x127752710>,\n",
       "  <dtreeviz.shadow.ShadowDecTree at 0x1277575c0>,\n",
       "  <dtreeviz.shadow.ShadowDecTree at 0x12775f2b0>,\n",
       "  <dtreeviz.shadow.ShadowDecTree at 0x127766320>,\n",
       "  <dtreeviz.shadow.ShadowDecTree at 0x127766fd0>,\n",
       "  <dtreeviz.shadow.ShadowDecTree at 0x12776dbe0>,\n",
       "  <dtreeviz.shadow.ShadowDecTree at 0x1277d0a90>,\n",
       "  <dtreeviz.shadow.ShadowDecTree at 0x1277d8b00>,\n",
       "  <dtreeviz.shadow.ShadowDecTree at 0x1277e0be0>,\n",
       "  <dtreeviz.shadow.ShadowDecTree at 0x1277e4940>,\n",
       "  <dtreeviz.shadow.ShadowDecTree at 0x1277ed4e0>,\n",
       "  <dtreeviz.shadow.ShadowDecTree at 0x1277edef0>,\n",
       "  <dtreeviz.shadow.ShadowDecTree at 0x1277f6b00>,\n",
       "  <dtreeviz.shadow.ShadowDecTree at 0x1277fdda0>,\n",
       "  <dtreeviz.shadow.ShadowDecTree at 0x1278027f0>,\n",
       "  <dtreeviz.shadow.ShadowDecTree at 0x1278094e0>,\n",
       "  <dtreeviz.shadow.ShadowDecTree at 0x127869080>,\n",
       "  <dtreeviz.shadow.ShadowDecTree at 0x127869ef0>,\n",
       "  <dtreeviz.shadow.ShadowDecTree at 0x12786e9b0>,\n",
       "  <dtreeviz.shadow.ShadowDecTree at 0x12787b470>,\n",
       "  <dtreeviz.shadow.ShadowDecTree at 0x127881240>,\n",
       "  <dtreeviz.shadow.ShadowDecTree at 0x127888160>,\n",
       "  <dtreeviz.shadow.ShadowDecTree at 0x127888e80>,\n",
       "  <dtreeviz.shadow.ShadowDecTree at 0x127891da0>,\n",
       "  <dtreeviz.shadow.ShadowDecTree at 0x127899c50>,\n",
       "  <dtreeviz.shadow.ShadowDecTree at 0x12789e860>,\n",
       "  <dtreeviz.shadow.ShadowDecTree at 0x1278a5550>,\n",
       "  <dtreeviz.shadow.ShadowDecTree at 0x127910400>,\n",
       "  <dtreeviz.shadow.ShadowDecTree at 0x1279182b0>,\n",
       "  <dtreeviz.shadow.ShadowDecTree at 0x127918f60>,\n",
       "  <dtreeviz.shadow.ShadowDecTree at 0x12791db70>,\n",
       "  <dtreeviz.shadow.ShadowDecTree at 0x127927940>,\n",
       "  <dtreeviz.shadow.ShadowDecTree at 0x12792e630>,\n",
       "  <dtreeviz.shadow.ShadowDecTree at 0x127936320>,\n",
       "  <dtreeviz.shadow.ShadowDecTree at 0x127936ef0>,\n",
       "  <dtreeviz.shadow.ShadowDecTree at 0x127941d30>,\n",
       "  <dtreeviz.shadow.ShadowDecTree at 0x127947940>,\n",
       "  <dtreeviz.shadow.ShadowDecTree at 0x1279a96a0>,\n",
       "  <dtreeviz.shadow.ShadowDecTree at 0x1279ae710>,\n",
       "  <dtreeviz.shadow.ShadowDecTree at 0x1279b4320>,\n",
       "  <dtreeviz.shadow.ShadowDecTree at 0x1279bd080>,\n",
       "  <dtreeviz.shadow.ShadowDecTree at 0x1279bdbe0>,\n",
       "  <dtreeviz.shadow.ShadowDecTree at 0x1279c1be0>,\n",
       "  <dtreeviz.shadow.ShadowDecTree at 0x1279ce940>,\n",
       "  <dtreeviz.shadow.ShadowDecTree at 0x1279d4470>,\n",
       "  <dtreeviz.shadow.ShadowDecTree at 0x1279d70f0>,\n",
       "  <dtreeviz.shadow.ShadowDecTree at 0x1279d7f60>,\n",
       "  <dtreeviz.shadow.ShadowDecTree at 0x1279e1e10>,\n",
       "  <dtreeviz.shadow.ShadowDecTree at 0x127a45e10>,\n",
       "  <dtreeviz.shadow.ShadowDecTree at 0x127a4dcc0>,\n",
       "  <dtreeviz.shadow.ShadowDecTree at 0x127a52da0>,\n",
       "  <dtreeviz.shadow.ShadowDecTree at 0x127a597f0>,\n",
       "  <dtreeviz.shadow.ShadowDecTree at 0x127a5f550>,\n",
       "  <dtreeviz.shadow.ShadowDecTree at 0x127a5ff60>,\n",
       "  <dtreeviz.shadow.ShadowDecTree at 0x127a63e10>,\n",
       "  <dtreeviz.shadow.ShadowDecTree at 0x127a70f60>,\n",
       "  <dtreeviz.shadow.ShadowDecTree at 0x127a76e10>,\n",
       "  <dtreeviz.shadow.ShadowDecTree at 0x127a7bc50>,\n",
       "  <dtreeviz.shadow.ShadowDecTree at 0x127add8d0>,\n",
       "  <dtreeviz.shadow.ShadowDecTree at 0x127ae96a0>,\n",
       "  <dtreeviz.shadow.ShadowDecTree at 0x127aed470>,\n",
       "  <dtreeviz.shadow.ShadowDecTree at 0x127aedf60>,\n",
       "  <dtreeviz.shadow.ShadowDecTree at 0x127af3fd0>])"
      ]
     },
     "execution_count": 40,
     "metadata": {},
     "output_type": "execute_result"
    }
   ],
   "source": [
    "explainer.importances, explainer.shap_values, explainer.shap_interaction_values, explainer.shadow_trees"
   ]
  },
  {
   "cell_type": "code",
   "execution_count": 41,
   "metadata": {
    "collapsed": true
   },
   "outputs": [],
   "source": [
    "pickle.dump(explainer, open(Path.cwd() / 'titanic_explainer.pkl', 'wb'))"
   ]
  },
  {
   "cell_type": "code",
   "execution_count": 42,
   "metadata": {
    "collapsed": false
   },
   "outputs": [
    {
     "name": "stdout",
     "output_type": "stream",
     "text": [
      "Preparing to start dash app ...\n",
      "Loading libraries...\n",
      "loading DataExplainer object...\n",
      "Loading Dash...\n",
      "Defining layout...\n",
      "Starting server...\n",
      " * Serving Flask app \"app\" (lazy loading)\n",
      " * Environment: production\n",
      "\u001b[31m   WARNING: This is a development server. Do not use it in a production deployment.\u001b[0m\n",
      "\u001b[2m   Use a production WSGI server instead.\u001b[0m\n",
      " * Debug mode: off\n",
      " * Running on http://127.0.0.1:8060/ (Press CTRL+C to quit)\n",
      "127.0.0.1 - - [18/Aug/2019 16:45:02] \"GET / HTTP/1.1\" 200 -\n",
      "127.0.0.1 - - [18/Aug/2019 16:45:02] \"GET /_dash-component-suites/dash_renderer/react-dom@16.8.6.min.js?v=1.0.0&m=1566138683 HTTP/1.1\" 200 -\n",
      "127.0.0.1 - - [18/Aug/2019 16:45:02] \"GET /_dash-component-suites/dash_renderer/react@16.8.6.min.js?v=1.0.0&m=1566138683 HTTP/1.1\" 200 -\n",
      "127.0.0.1 - - [18/Aug/2019 16:45:02] \"GET /_dash-component-suites/dash_renderer/prop-types@15.7.2.min.js?v=1.0.0&m=1566138683 HTTP/1.1\" 200 -\n",
      "127.0.0.1 - - [18/Aug/2019 16:45:02] \"GET /_dash-component-suites/dash_core_components/highlight.pack.js?v=1.1.1&m=1566138668 HTTP/1.1\" 200 -\n",
      "127.0.0.1 - - [18/Aug/2019 16:45:02] \"GET /_dash-component-suites/dash_bootstrap_components/_components/dash_bootstrap_components.min.js?v=0.7.0&m=1566138674 HTTP/1.1\" 200 -\n",
      "127.0.0.1 - - [18/Aug/2019 16:45:02] \"GET /_dash-component-suites/dash_html_components/dash_html_components.min.js?v=1.0.0&m=1566138672 HTTP/1.1\" 200 -\n",
      "127.0.0.1 - - [18/Aug/2019 16:45:02] \"GET /_dash-component-suites/dash_renderer/dash_renderer.min.js?v=1.0.0&m=1566138683 HTTP/1.1\" 200 -\n",
      "127.0.0.1 - - [18/Aug/2019 16:45:03] \"GET /_dash-component-suites/dash_core_components/dash_core_components.min.js?v=1.1.1&m=1566138668 HTTP/1.1\" 200 -\n",
      "127.0.0.1 - - [18/Aug/2019 16:45:03] \"GET /_dash-component-suites/dash_table/bundle.js?v=4.1.0&m=1566138672 HTTP/1.1\" 200 -\n",
      "127.0.0.1 - - [18/Aug/2019 16:45:03] \"GET /_dash-component-suites/dash_daq/bundle.js?v=0.1.7&m=1566138674 HTTP/1.1\" 200 -\n",
      "127.0.0.1 - - [18/Aug/2019 16:45:03] \"GET /_dash-component-suites/dash_core_components/plotly-1.49.1.min.js?v=1.1.1&m=1566138668 HTTP/1.1\" 200 -\n",
      "127.0.0.1 - - [18/Aug/2019 16:45:05] \"GET /_dash-dependencies HTTP/1.1\" 200 -\n",
      "127.0.0.1 - - [18/Aug/2019 16:45:05] \"GET /_favicon.ico?v=1.1.1 HTTP/1.1\" 200 -\n",
      "127.0.0.1 - - [18/Aug/2019 16:45:05] \"GET /_dash-layout HTTP/1.1\" 200 -\n",
      "slider range: 0.5 1\n",
      "127.0.0.1 - - [18/Aug/2019 16:45:05] \"POST /_dash-update-component HTTP/1.1\" 200 -\n",
      "127.0.0.1 - - [18/Aug/2019 16:45:06] \"POST /_dash-update-component HTTP/1.1\" 204 -\n",
      "127.0.0.1 - - [18/Aug/2019 16:45:06] \"POST /_dash-update-component HTTP/1.1\" 204 -\n",
      "127.0.0.1 - - [18/Aug/2019 16:45:06] \"POST /_dash-update-component HTTP/1.1\" 204 -\n",
      "127.0.0.1 - - [18/Aug/2019 16:45:06] \"POST /_dash-update-component HTTP/1.1\" 200 -\n",
      "127.0.0.1 - - [18/Aug/2019 16:45:06] \"POST /_dash-update-component HTTP/1.1\" 200 -\n",
      "127.0.0.1 - - [18/Aug/2019 16:45:06] \"POST /_dash-update-component HTTP/1.1\" 200 -\n",
      "127.0.0.1 - - [18/Aug/2019 16:45:06] \"POST /_dash-update-component HTTP/1.1\" 204 -\n",
      "127.0.0.1 - - [18/Aug/2019 16:45:08] \"POST /_dash-update-component HTTP/1.1\" 200 -\n",
      "127.0.0.1 - - [18/Aug/2019 16:45:08] \"POST /_dash-update-component HTTP/1.1\" 200 -\n",
      "127.0.0.1 - - [18/Aug/2019 16:45:08] \"POST /_dash-update-component HTTP/1.1\" 200 -\n",
      "127.0.0.1 - - [18/Aug/2019 16:45:09] \"POST /_dash-update-component HTTP/1.1\" 200 -\n",
      "127.0.0.1 - - [18/Aug/2019 16:45:10] \"POST /_dash-update-component HTTP/1.1\" 200 -\n",
      "127.0.0.1 - - [18/Aug/2019 16:45:10] \"POST /_dash-update-component HTTP/1.1\" 200 -\n",
      "127.0.0.1 - - [18/Aug/2019 16:45:11] \"POST /_dash-update-component HTTP/1.1\" 200 -\n",
      "127.0.0.1 - - [18/Aug/2019 16:45:24] \"POST /_dash-update-component HTTP/1.1\" 200 -\n",
      "127.0.0.1 - - [18/Aug/2019 16:45:25] \"POST /_dash-update-component HTTP/1.1\" 200 -\n",
      "^C\n"
     ]
    }
   ],
   "source": [
    "! python app.py"
   ]
  },
  {
   "cell_type": "code",
   "execution_count": null,
   "metadata": {
    "collapsed": true
   },
   "outputs": [],
   "source": []
  }
 ],
 "metadata": {
  "kernelspec": {
   "display_name": "Python 3",
   "language": "python",
   "name": "python3"
  },
  "language_info": {
   "codemirror_mode": {
    "name": "ipython",
    "version": 3
   },
   "file_extension": ".py",
   "mimetype": "text/x-python",
   "name": "python",
   "nbconvert_exporter": "python",
   "pygments_lexer": "ipython3",
   "version": "3.6.9"
  }
 },
 "nbformat": 4,
 "nbformat_minor": 2
}
