{
 "cells": [
  {
   "cell_type": "markdown",
   "metadata": {},
   "source": [
    "# Imports"
   ]
  },
  {
   "cell_type": "code",
   "execution_count": 17,
   "metadata": {
    "collapsed": false
   },
   "outputs": [
    {
     "name": "stdout",
     "output_type": "stream",
     "text": [
      "Collecting dash_core_components (from -r requirements.txt (line 1))\n",
      "Collecting sklearn_pandas (from -r requirements.txt (line 2))\n",
      "  Using cached https://files.pythonhosted.org/packages/1f/48/4e1461d828baf41d609efaa720d20090ac6ec346b5daad3c88e243e2207e/sklearn_pandas-1.8.0-py2.py3-none-any.whl\n",
      "Collecting numpy (from -r requirements.txt (line 3))\n",
      "  Using cached https://files.pythonhosted.org/packages/be/e8/45079ae05c4dda4a67bc51578ae5e75feda0a79c2836d477d676e7a58efb/numpy-1.17.0-cp36-cp36m-macosx_10_6_intel.macosx_10_9_intel.macosx_10_9_x86_64.macosx_10_10_intel.macosx_10_10_x86_64.whl\n",
      "Collecting pandas (from -r requirements.txt (line 4))\n",
      "  Using cached https://files.pythonhosted.org/packages/94/f0/3099fdb1ae94663561cd695b820f05b6f6d240c919ba179c076015de5e37/pandas-0.25.0-cp36-cp36m-macosx_10_9_x86_64.macosx_10_10_x86_64.whl\n",
      "Collecting dash (from -r requirements.txt (line 5))\n",
      "Collecting imbalanced_learn (from -r requirements.txt (line 6))\n",
      "  Using cached https://files.pythonhosted.org/packages/e6/62/08c14224a7e242df2cef7b312d2ef821c3931ec9b015ff93bb52ec8a10a3/imbalanced_learn-0.5.0-py3-none-any.whl\n",
      "Collecting dash_table (from -r requirements.txt (line 7))\n",
      "Collecting dash_html_components (from -r requirements.txt (line 8))\n",
      "Collecting plotly (from -r requirements.txt (line 9))\n",
      "  Using cached https://files.pythonhosted.org/packages/63/2b/4ca10995bfbdefd65c4238f9a2d3fde33705d18dd50914dd13302ec1daf1/plotly-4.1.0-py2.py3-none-any.whl\n",
      "Collecting dash_bootstrap_components (from -r requirements.txt (line 10))\n",
      "Collecting dash_daq (from -r requirements.txt (line 11))\n",
      "Collecting dtreeviz (from -r requirements.txt (line 12))\n",
      "Collecting hyperopt (from -r requirements.txt (line 13))\n",
      "  Using cached https://files.pythonhosted.org/packages/63/12/704382c3081df3ae3f9d96fe6afb62efa2fa9749be20c301cd2797fb0b52/hyperopt-0.1.2-py3-none-any.whl\n",
      "Collecting imblearn (from -r requirements.txt (line 14))\n",
      "  Using cached https://files.pythonhosted.org/packages/81/a7/4179e6ebfd654bd0eac0b9c06125b8b4c96a9d0a8ff9e9507eb2a26d2d7e/imblearn-0.0-py2.py3-none-any.whl\n",
      "Collecting pdpbox (from -r requirements.txt (line 15))\n",
      "Collecting shap (from -r requirements.txt (line 16))\n",
      "Collecting scikit_learn (from -r requirements.txt (line 17))\n",
      "  Using cached https://files.pythonhosted.org/packages/cf/b8/706e496d8b1207c1da154a7fe82753a2385edc1435ec524afa6c1baafed6/scikit_learn-0.21.3-cp36-cp36m-macosx_10_6_intel.macosx_10_9_intel.macosx_10_9_x86_64.macosx_10_10_intel.macosx_10_10_x86_64.whl\n",
      "Collecting gunicorn (from -r requirements.txt (line 18))\n",
      "  Using cached https://files.pythonhosted.org/packages/8c/da/b8dd8deb741bff556db53902d4706774c8e1e67265f69528c14c003644e6/gunicorn-19.9.0-py2.py3-none-any.whl\n",
      "Collecting scipy>=0.14 (from sklearn_pandas->-r requirements.txt (line 2))\n",
      "\u001b[?25l  Downloading https://files.pythonhosted.org/packages/9f/d0/6de23b6453232614998244157f998a5c5c259b55e5a38d71fe5fc5a0dfeb/scipy-1.3.1-cp36-cp36m-macosx_10_6_intel.macosx_10_9_intel.macosx_10_9_x86_64.macosx_10_10_intel.macosx_10_10_x86_64.whl (27.7MB)\n",
      "\u001b[K     |████████████████████████████████| 27.7MB 12.0MB/s eta 0:00:01   |████▍                           | 3.8MB 2.9MB/s eta 0:00:09\n",
      "\u001b[?25hCollecting python-dateutil>=2.6.1 (from pandas->-r requirements.txt (line 4))\n",
      "  Using cached https://files.pythonhosted.org/packages/41/17/c62faccbfbd163c7f57f3844689e3a78bae1f403648a6afb1d0866d87fbb/python_dateutil-2.8.0-py2.py3-none-any.whl\n",
      "Collecting pytz>=2017.2 (from pandas->-r requirements.txt (line 4))\n",
      "  Using cached https://files.pythonhosted.org/packages/87/76/46d697698a143e05f77bec5a526bf4e56a0be61d63425b68f4ba553b51f2/pytz-2019.2-py2.py3-none-any.whl\n",
      "Collecting flask-compress (from dash->-r requirements.txt (line 5))\n",
      "Collecting PyYAML>=5.1.1 (from dash->-r requirements.txt (line 5))\n",
      "Collecting Flask>=1.0.2 (from dash->-r requirements.txt (line 5))\n",
      "  Using cached https://files.pythonhosted.org/packages/9b/93/628509b8d5dc749656a9641f4caf13540e2cdec85276964ff8f43bbb1d3b/Flask-1.1.1-py2.py3-none-any.whl\n",
      "Collecting dash-renderer==1.0.0 (from dash->-r requirements.txt (line 5))\n",
      "Collecting joblib>=0.11 (from imbalanced_learn->-r requirements.txt (line 6))\n",
      "\u001b[?25l  Downloading https://files.pythonhosted.org/packages/cd/c1/50a758e8247561e58cb87305b1e90b171b8c767b15b12a1734001f41d356/joblib-0.13.2-py2.py3-none-any.whl (278kB)\n",
      "\u001b[K     |████████████████████████████████| 286kB 18.0MB/s eta 0:00:01\n",
      "\u001b[?25hCollecting six (from plotly->-r requirements.txt (line 9))\n",
      "  Downloading https://files.pythonhosted.org/packages/73/fb/00a976f728d0d1fecfe898238ce23f502a721c0ac0ecfedb80e0d88c64e9/six-1.12.0-py2.py3-none-any.whl\n",
      "Collecting retrying>=1.3.3 (from plotly->-r requirements.txt (line 9))\n",
      "Collecting matplotlib (from dtreeviz->-r requirements.txt (line 12))\n",
      "\u001b[?25l  Downloading https://files.pythonhosted.org/packages/cf/a4/d5387a74204542a60ad1baa84cd2d3353c330e59be8cf2d47c0b11d3cde8/matplotlib-3.1.1-cp36-cp36m-macosx_10_6_intel.macosx_10_9_intel.macosx_10_9_x86_64.macosx_10_10_intel.macosx_10_10_x86_64.whl (14.4MB)\n",
      "\u001b[K     |████████████████████████████████| 14.4MB 13.9MB/s eta 0:00:01    |███▏                            | 1.4MB 13.7MB/s eta 0:00:01\n",
      "\u001b[?25hCollecting colour (from dtreeviz->-r requirements.txt (line 12))\n",
      "  Using cached https://files.pythonhosted.org/packages/74/46/e81907704ab203206769dee1385dc77e1407576ff8f50a0681d0a6b541be/colour-0.1.5-py2.py3-none-any.whl\n",
      "Collecting graphviz>=0.9 (from dtreeviz->-r requirements.txt (line 12))\n",
      "  Using cached https://files.pythonhosted.org/packages/5c/b1/016e657586843f40b4daa66127ce1ee9e3285ff15baf5d80946644a98aeb/graphviz-0.11.1-py2.py3-none-any.whl\n",
      "Collecting future (from hyperopt->-r requirements.txt (line 13))\n",
      "Collecting networkx (from hyperopt->-r requirements.txt (line 13))\n",
      "\u001b[?25l  Downloading https://files.pythonhosted.org/packages/85/08/f20aef11d4c343b557e5de6b9548761811eb16e438cee3d32b1c66c8566b/networkx-2.3.zip (1.7MB)\n",
      "\u001b[K     |████████████████████████████████| 1.8MB 11.4MB/s eta 0:00:01\n",
      "\u001b[?25hCollecting tqdm (from hyperopt->-r requirements.txt (line 13))\n",
      "  Using cached https://files.pythonhosted.org/packages/02/56/60a5b1c2e634d8e4ff89c7bab47645604e19658f448050a21facffd43796/tqdm-4.33.0-py2.py3-none-any.whl\n",
      "Collecting pymongo (from hyperopt->-r requirements.txt (line 13))\n",
      "  Using cached https://files.pythonhosted.org/packages/fc/79/c298dfe767f6937f0d5eaefa412ca6897ec27c1834e325a71476c7c6f2ce/pymongo-3.9.0-cp36-cp36m-macosx_10_6_intel.whl\n",
      "Collecting psutil (from pdpbox->-r requirements.txt (line 15))\n",
      "\u001b[?25l  Downloading https://files.pythonhosted.org/packages/1c/ca/5b8c1fe032a458c2c4bcbe509d1401dca9dda35c7fc46b36bb81c2834740/psutil-5.6.3.tar.gz (435kB)\n",
      "\u001b[K     |████████████████████████████████| 440kB 14.8MB/s eta 0:00:01\n",
      "\u001b[?25hCollecting ipython (from shap->-r requirements.txt (line 16))\n",
      "\u001b[?25l  Downloading https://files.pythonhosted.org/packages/f6/c4/a79582814bdfe92bfca4d286a729304ffdf13f5135132cfcaea13cf1b2b3/ipython-7.7.0-py3-none-any.whl (774kB)\n",
      "\u001b[K     |████████████████████████████████| 778kB 7.7MB/s eta 0:00:01\n",
      "\u001b[?25hCollecting scikit-image (from shap->-r requirements.txt (line 16))\n",
      "\u001b[?25l  Downloading https://files.pythonhosted.org/packages/c5/7c/c61e0bdb02fecd1e801d34fb534839f74055873eb935a05d96a8831d4448/scikit_image-0.15.0-cp36-cp36m-macosx_10_6_intel.macosx_10_9_intel.macosx_10_9_x86_64.macosx_10_10_intel.macosx_10_10_x86_64.whl (30.1MB)\n",
      "\u001b[K     |████████████████████████████████| 30.1MB 11.0MB/s eta 0:00:01\n",
      "\u001b[?25hCollecting itsdangerous>=0.24 (from Flask>=1.0.2->dash->-r requirements.txt (line 5))\n",
      "  Downloading https://files.pythonhosted.org/packages/76/ae/44b03b253d6fade317f32c24d100b3b35c2239807046a4c953c7b89fa49e/itsdangerous-1.1.0-py2.py3-none-any.whl\n",
      "Collecting Werkzeug>=0.15 (from Flask>=1.0.2->dash->-r requirements.txt (line 5))\n",
      "  Using cached https://files.pythonhosted.org/packages/d1/ab/d3bed6b92042622d24decc7aadc8877badf18aeca1571045840ad4956d3f/Werkzeug-0.15.5-py2.py3-none-any.whl\n",
      "Collecting Jinja2>=2.10.1 (from Flask>=1.0.2->dash->-r requirements.txt (line 5))\n",
      "  Using cached https://files.pythonhosted.org/packages/1d/e7/fd8b501e7a6dfe492a433deb7b9d833d39ca74916fa8bc63dd1a4947a671/Jinja2-2.10.1-py2.py3-none-any.whl\n",
      "Collecting click>=5.1 (from Flask>=1.0.2->dash->-r requirements.txt (line 5))\n",
      "\u001b[?25l  Downloading https://files.pythonhosted.org/packages/fa/37/45185cb5abbc30d7257104c434fe0b07e5a195a6847506c074527aa599ec/Click-7.0-py2.py3-none-any.whl (81kB)\n",
      "\u001b[K     |████████████████████████████████| 81kB 8.2MB/s  eta 0:00:01\n",
      "\u001b[?25hCollecting kiwisolver>=1.0.1 (from matplotlib->dtreeviz->-r requirements.txt (line 12))\n",
      "\u001b[?25l  Downloading https://files.pythonhosted.org/packages/49/5d/d1726d2a2fd471a69ef5014ca42812e1ccb8a13085c42bfcb238a5611f39/kiwisolver-1.1.0-cp36-cp36m-macosx_10_6_intel.macosx_10_9_intel.macosx_10_9_x86_64.macosx_10_10_intel.macosx_10_10_x86_64.whl (113kB)\n",
      "\u001b[K     |████████████████████████████████| 122kB 14.6MB/s eta 0:00:01\n",
      "\u001b[?25hCollecting cycler>=0.10 (from matplotlib->dtreeviz->-r requirements.txt (line 12))\n",
      "  Downloading https://files.pythonhosted.org/packages/f7/d2/e07d3ebb2bd7af696440ce7e754c59dd546ffe1bbe732c8ab68b9c834e61/cycler-0.10.0-py2.py3-none-any.whl\n",
      "Collecting pyparsing!=2.0.4,!=2.1.2,!=2.1.6,>=2.0.1 (from matplotlib->dtreeviz->-r requirements.txt (line 12))\n",
      "\u001b[?25l  Downloading https://files.pythonhosted.org/packages/11/fa/0160cd525c62d7abd076a070ff02b2b94de589f1a9789774f17d7c54058e/pyparsing-2.4.2-py2.py3-none-any.whl (65kB)\n",
      "\u001b[K     |████████████████████████████████| 71kB 12.1MB/s eta 0:00:01\n",
      "\u001b[?25hCollecting decorator>=4.3.0 (from networkx->hyperopt->-r requirements.txt (line 13))\n",
      "  Downloading https://files.pythonhosted.org/packages/5f/88/0075e461560a1e750a0dcbf77f1d9de775028c37a19a346a6c565a257399/decorator-4.4.0-py2.py3-none-any.whl\n",
      "Collecting appnope; sys_platform == \"darwin\" (from ipython->shap->-r requirements.txt (line 16))\n",
      "  Downloading https://files.pythonhosted.org/packages/87/a9/7985e6a53402f294c8f0e8eff3151a83f1fb901fa92909bb3ff29b4d22af/appnope-0.1.0-py2.py3-none-any.whl\n",
      "Collecting traitlets>=4.2 (from ipython->shap->-r requirements.txt (line 16))\n",
      "\u001b[?25l  Downloading https://files.pythonhosted.org/packages/93/d6/abcb22de61d78e2fc3959c964628a5771e47e7cc60d53e9342e21ed6cc9a/traitlets-4.3.2-py2.py3-none-any.whl (74kB)\n",
      "\u001b[K     |████████████████████████████████| 81kB 12.1MB/s eta 0:00:01\n",
      "\u001b[?25hCollecting jedi>=0.10 (from ipython->shap->-r requirements.txt (line 16))\n",
      "\u001b[?25l  Downloading https://files.pythonhosted.org/packages/55/54/da994f359e4e7da4776a200e76dbc85ba5fc319eefc22e33d55296d95a1d/jedi-0.15.1-py2.py3-none-any.whl (1.0MB)\n",
      "\u001b[K     |████████████████████████████████| 1.0MB 17.7MB/s eta 0:00:01\n",
      "\u001b[?25hCollecting pygments (from ipython->shap->-r requirements.txt (line 16))\n",
      "\u001b[?25l  Downloading https://files.pythonhosted.org/packages/5c/73/1dfa428150e3ccb0fa3e68db406e5be48698f2a979ccbcec795f28f44048/Pygments-2.4.2-py2.py3-none-any.whl (883kB)\n",
      "\u001b[K     |████████████████████████████████| 890kB 21.5MB/s eta 0:00:01\n",
      "\u001b[?25hCollecting setuptools>=18.5 (from ipython->shap->-r requirements.txt (line 16))\n",
      "  Using cached https://files.pythonhosted.org/packages/75/b3/0a106dfaf7f48aef638da80b32608617cc8de4b24a22c8cd3759c32e5d30/setuptools-41.1.0-py2.py3-none-any.whl\n",
      "Collecting backcall (from ipython->shap->-r requirements.txt (line 16))\n",
      "  Downloading https://files.pythonhosted.org/packages/84/71/c8ca4f5bb1e08401b916c68003acf0a0655df935d74d93bf3f3364b310e0/backcall-0.1.0.tar.gz\n",
      "Collecting pickleshare (from ipython->shap->-r requirements.txt (line 16))\n",
      "  Downloading https://files.pythonhosted.org/packages/9a/41/220f49aaea88bc6fa6cba8d05ecf24676326156c23b991e80b3f2fc24c77/pickleshare-0.7.5-py2.py3-none-any.whl\n",
      "Collecting pexpect; sys_platform != \"win32\" (from ipython->shap->-r requirements.txt (line 16))\n",
      "\u001b[?25l  Downloading https://files.pythonhosted.org/packages/0e/3e/377007e3f36ec42f1b84ec322ee12141a9e10d808312e5738f52f80a232c/pexpect-4.7.0-py2.py3-none-any.whl (58kB)\n",
      "\u001b[K     |████████████████████████████████| 61kB 9.3MB/s  eta 0:00:01\n",
      "\u001b[?25hCollecting prompt-toolkit<2.1.0,>=2.0.0 (from ipython->shap->-r requirements.txt (line 16))\n",
      "\u001b[?25l  Downloading https://files.pythonhosted.org/packages/f7/a7/9b1dd14ef45345f186ef69d175bdd2491c40ab1dfa4b2b3e4352df719ed7/prompt_toolkit-2.0.9-py3-none-any.whl (337kB)\n",
      "\u001b[K     |████████████████████████████████| 337kB 10.4MB/s eta 0:00:01\n",
      "\u001b[?25hCollecting pillow>=4.3.0 (from scikit-image->shap->-r requirements.txt (line 16))\n",
      "\u001b[?25l  Downloading https://files.pythonhosted.org/packages/ff/ed/d2c7f2412425929f5c27d9de9bc86fb14674c4bab14e31682c8648f0dcac/Pillow-6.1.0-cp36-cp36m-macosx_10_6_intel.macosx_10_9_intel.macosx_10_9_x86_64.macosx_10_10_intel.macosx_10_10_x86_64.whl (3.8MB)\n",
      "\u001b[K     |████████████████████████████████| 3.9MB 18.4MB/s eta 0:00:01\n",
      "\u001b[?25hCollecting imageio>=2.0.1 (from scikit-image->shap->-r requirements.txt (line 16))\n",
      "\u001b[?25l  Downloading https://files.pythonhosted.org/packages/af/0a/943c965d372dae0b1f1482677d29030ab834351a61a9a632fd62f27f1523/imageio-2.5.0-py3-none-any.whl (3.3MB)\n",
      "\u001b[K     |████████████████████████████████| 3.3MB 11.1MB/s eta 0:00:01     |██████████████                  | 1.5MB 11.1MB/s eta 0:00:01\n",
      "\u001b[?25hCollecting PyWavelets>=0.4.0 (from scikit-image->shap->-r requirements.txt (line 16))\n",
      "\u001b[?25l  Downloading https://files.pythonhosted.org/packages/1c/66/0bdb59713833391d90b605ccf53003c41175e1fcc75dade52383cc6436b9/PyWavelets-1.0.3-cp36-cp36m-macosx_10_6_intel.macosx_10_9_intel.macosx_10_9_x86_64.macosx_10_10_intel.macosx_10_10_x86_64.whl (5.0MB)\n",
      "\u001b[K     |████████████████████████████████| 5.0MB 11.5MB/s eta 0:00:01\n",
      "\u001b[?25hCollecting MarkupSafe>=0.23 (from Jinja2>=2.10.1->Flask>=1.0.2->dash->-r requirements.txt (line 5))\n",
      "  Downloading https://files.pythonhosted.org/packages/f0/00/a6aea33f5598b080b86d6b6d1214b51afe3ffa6100b902d5aa465080083f/MarkupSafe-1.1.1-cp36-cp36m-macosx_10_6_intel.whl\n",
      "Collecting ipython-genutils (from traitlets>=4.2->ipython->shap->-r requirements.txt (line 16))\n",
      "  Downloading https://files.pythonhosted.org/packages/fa/bc/9bd3b5c2b4774d5f33b2d544f1460be9df7df2fe42f352135381c347c69a/ipython_genutils-0.2.0-py2.py3-none-any.whl\n",
      "Collecting parso>=0.5.0 (from jedi>=0.10->ipython->shap->-r requirements.txt (line 16))\n",
      "\u001b[?25l  Downloading https://files.pythonhosted.org/packages/a3/bd/bf4e5bd01d79906e5b945a7af033154da49fd2b0d5b5c705a21330323305/parso-0.5.1-py2.py3-none-any.whl (95kB)\n",
      "\u001b[K     |████████████████████████████████| 102kB 11.1MB/s ta 0:00:01\n",
      "\u001b[?25hCollecting ptyprocess>=0.5 (from pexpect; sys_platform != \"win32\"->ipython->shap->-r requirements.txt (line 16))\n",
      "  Downloading https://files.pythonhosted.org/packages/d1/29/605c2cc68a9992d18dada28206eeada56ea4bd07a239669da41674648b6f/ptyprocess-0.6.0-py2.py3-none-any.whl\n",
      "Collecting wcwidth (from prompt-toolkit<2.1.0,>=2.0.0->ipython->shap->-r requirements.txt (line 16))\n",
      "  Downloading https://files.pythonhosted.org/packages/7e/9f/526a6947247599b084ee5232e4f9190a38f398d7300d866af3ab571a5bfe/wcwidth-0.1.7-py2.py3-none-any.whl\n",
      "Building wheels for collected packages: networkx, psutil, backcall\n",
      "  Building wheel for networkx (setup.py) ... \u001b[?25l-\b \b\\\b \b|\b \b/\b \b-\b \b\\\b \b|\b \b/\b \b-\b \b\\\b \b|\b \b/\b \b-\b \b\\\b \b|\b \bdone\n",
      "\u001b[?25h  Created wheel for networkx: filename=networkx-2.3-py2.py3-none-any.whl size=1556758 sha256=f83969b0593483dd30a9ba6d32e08f02afa834e9a13c07f95b43477a92f64bb4\n",
      "  Stored in directory: /Users/oegedijk/Library/Caches/pip/wheels/de/63/64/3699be2a9d0ccdb37c7f16329acf3863fd76eda58c39c737af\n",
      "  Building wheel for psutil (setup.py) ... \u001b[?25l-\b \b\\\b \b|\b \b/\b \b-\b \b\\\b \b|\b \b/\b \b-\b \b\\\b \bdone\n",
      "\u001b[?25h  Created wheel for psutil: filename=psutil-5.6.3-cp36-cp36m-macosx_10_7_x86_64.whl size=234149 sha256=7fcf41bca90e53fb72f39fab870ac21e7a8cb67b10d8e6bc7d5ea229f3dda4b6\n",
      "  Stored in directory: /Users/oegedijk/Library/Caches/pip/wheels/90/7e/74/bb640d77775e6b6a78bcc3120f9fea4d2a28b2706de1cff37d\n",
      "  Building wheel for backcall (setup.py) ... \u001b[?25l-\b \bdone\n",
      "\u001b[?25h  Created wheel for backcall: filename=backcall-0.1.0-cp36-none-any.whl size=11931 sha256=f808e4ba15f952f89c9846ca5da1c46d46da90fa8b246a048b07953b9eddb50e\n",
      "  Stored in directory: /Users/oegedijk/Library/Caches/pip/wheels/98/b0/dd/29e28ff615af3dda4c67cab719dd51357597eabff926976b45\n",
      "Successfully built networkx psutil backcall\n",
      "Installing collected packages: dash-core-components, numpy, scipy, joblib, scikit-learn, six, python-dateutil, pytz, pandas, sklearn-pandas, retrying, plotly, itsdangerous, Werkzeug, MarkupSafe, Jinja2, click, Flask, flask-compress, dash-html-components, PyYAML, dash-table, dash-renderer, dash, imbalanced-learn, dash-bootstrap-components, dash-daq, setuptools, kiwisolver, cycler, pyparsing, matplotlib, colour, graphviz, dtreeviz, future, decorator, networkx, tqdm, pymongo, hyperopt, imblearn, psutil, pdpbox, appnope, ipython-genutils, traitlets, parso, jedi, pygments, backcall, pickleshare, ptyprocess, pexpect, wcwidth, prompt-toolkit, ipython, pillow, imageio, PyWavelets, scikit-image, shap, gunicorn\n",
      "Successfully installed Flask-1.1.1 Jinja2-2.10.1 MarkupSafe-1.1.1 PyWavelets-1.0.3 PyYAML-5.1.2 Werkzeug-0.15.5 appnope-0.1.0 backcall-0.1.0 click-7.0 colour-0.1.5 cycler-0.10.0 dash-1.1.1 dash-bootstrap-components-0.7.0 dash-core-components-1.1.1 dash-daq-0.1.7 dash-html-components-1.0.0 dash-renderer-1.0.0 dash-table-4.1.0 decorator-4.4.0 dtreeviz-0.6 flask-compress-1.4.0 future-0.17.1 graphviz-0.11.1 gunicorn-19.9.0 hyperopt-0.1.2 imageio-2.5.0 imbalanced-learn-0.5.0 imblearn-0.0 ipython-7.7.0 ipython-genutils-0.2.0 itsdangerous-1.1.0 jedi-0.15.1 joblib-0.13.2 kiwisolver-1.1.0 matplotlib-3.1.1 networkx-2.3 numpy-1.17.0 pandas-0.25.0 parso-0.5.1 pdpbox-0.2.0 pexpect-4.7.0 pickleshare-0.7.5 pillow-6.1.0 plotly-4.1.0 prompt-toolkit-2.0.9 psutil-5.6.3 ptyprocess-0.6.0 pygments-2.4.2 pymongo-3.9.0 pyparsing-2.4.2 python-dateutil-2.8.0 pytz-2019.2 retrying-1.3.3 scikit-image-0.15.0 scikit-learn-0.21.3 scipy-1.3.1 setuptools-41.1.0 shap-0.29.3 six-1.12.0 sklearn-pandas-1.8.0 tqdm-4.33.0 traitlets-4.3.2 wcwidth-0.1.7\n"
     ]
    }
   ],
   "source": [
    "!pip install -U --ignore-installed -r requirements.txt"
   ]
  },
  {
   "cell_type": "code",
   "execution_count": 95,
   "metadata": {
    "ExecuteTime": {
     "end_time": "2019-08-18T12:53:52.872318Z",
     "start_time": "2019-08-18T12:53:45.165605Z"
    },
    "collapsed": false
   },
   "outputs": [
    {
     "name": "stdout",
     "output_type": "stream",
     "text": [
      "The autoreload extension is already loaded. To reload it, use:\n",
      "  %reload_ext autoreload\n"
     ]
    }
   ],
   "source": [
    "%load_ext autoreload\n",
    "%autoreload 2"
   ]
  },
  {
   "cell_type": "code",
   "execution_count": 89,
   "metadata": {
    "ExecuteTime": {
     "end_time": "2019-08-18T12:13:12.774041Z",
     "start_time": "2019-08-18T12:13:12.769161Z"
    },
    "collapsed": false
   },
   "outputs": [],
   "source": [
    "from IPython.core.interactiveshell import InteractiveShell\n",
    "InteractiveShell.ast_node_interactivity = \"all\""
   ]
  },
  {
   "cell_type": "code",
   "execution_count": 90,
   "metadata": {
    "ExecuteTime": {
     "end_time": "2019-08-18T12:13:12.790039Z",
     "start_time": "2019-08-18T12:13:12.776036Z"
    },
    "collapsed": true
   },
   "outputs": [],
   "source": [
    "from ipywidgets import interact, interactive, fixed, interact_manual\n",
    "import ipywidgets as widgets"
   ]
  },
  {
   "cell_type": "code",
   "execution_count": 92,
   "metadata": {
    "ExecuteTime": {
     "end_time": "2019-08-18T12:13:31.625723Z",
     "start_time": "2019-08-18T12:13:13.813142Z"
    },
    "collapsed": true
   },
   "outputs": [],
   "source": [
    "import numpy as np\n",
    "import pandas as pd\n",
    "\n",
    "import gc\n",
    "import pickle\n",
    "from joblib import dump, load\n",
    "\n",
    "from pathlib import Path"
   ]
  },
  {
   "cell_type": "markdown",
   "metadata": {},
   "source": [
    "### load some project specific modules:"
   ]
  },
  {
   "cell_type": "code",
   "execution_count": 93,
   "metadata": {
    "collapsed": true
   },
   "outputs": [],
   "source": [
    "from sklearn.metrics import roc_auc_score"
   ]
  },
  {
   "cell_type": "code",
   "execution_count": 96,
   "metadata": {
    "ExecuteTime": {
     "end_time": "2019-08-18T12:53:45.163609Z",
     "start_time": "2019-08-18T12:53:37.348696Z"
    },
    "collapsed": false
   },
   "outputs": [],
   "source": [
    "from data_transform_methods import *\n",
    "from explainer_methods import *\n",
    "from optimizer_methods import *\n",
    "from explainer import *"
   ]
  },
  {
   "cell_type": "markdown",
   "metadata": {},
   "source": [
    "# load data"
   ]
  },
  {
   "cell_type": "code",
   "execution_count": 97,
   "metadata": {
    "ExecuteTime": {
     "end_time": "2019-08-18T12:59:12.892581Z",
     "start_time": "2019-08-18T12:59:12.866575Z"
    },
    "collapsed": true
   },
   "outputs": [],
   "source": [
    "d = pd.read_csv(\"train.csv\")"
   ]
  },
  {
   "cell_type": "markdown",
   "metadata": {},
   "source": [
    "### feature engineering:"
   ]
  },
  {
   "cell_type": "code",
   "execution_count": 98,
   "metadata": {
    "ExecuteTime": {
     "end_time": "2019-08-18T12:59:58.409572Z",
     "start_time": "2019-08-18T12:59:58.402569Z"
    },
    "collapsed": true
   },
   "outputs": [],
   "source": [
    "d['Familysize'] = d.SibSp + d.Parch\n",
    "d['Cabin'] = d.Cabin.str[0]"
   ]
  },
  {
   "cell_type": "code",
   "execution_count": 99,
   "metadata": {
    "ExecuteTime": {
     "end_time": "2019-08-18T13:00:07.681164Z",
     "start_time": "2019-08-18T13:00:07.666160Z"
    },
    "collapsed": false
   },
   "outputs": [
    {
     "data": {
      "text/plain": [
       "(891, 13)"
      ]
     },
     "execution_count": 99,
     "metadata": {},
     "output_type": "execute_result"
    },
    {
     "data": {
      "text/html": [
       "<div>\n",
       "<style scoped>\n",
       "    .dataframe tbody tr th:only-of-type {\n",
       "        vertical-align: middle;\n",
       "    }\n",
       "\n",
       "    .dataframe tbody tr th {\n",
       "        vertical-align: top;\n",
       "    }\n",
       "\n",
       "    .dataframe thead th {\n",
       "        text-align: right;\n",
       "    }\n",
       "</style>\n",
       "<table border=\"1\" class=\"dataframe\">\n",
       "  <thead>\n",
       "    <tr style=\"text-align: right;\">\n",
       "      <th></th>\n",
       "      <th>0</th>\n",
       "      <th>1</th>\n",
       "      <th>2</th>\n",
       "      <th>3</th>\n",
       "      <th>4</th>\n",
       "    </tr>\n",
       "  </thead>\n",
       "  <tbody>\n",
       "    <tr>\n",
       "      <th>PassengerId</th>\n",
       "      <td>1</td>\n",
       "      <td>2</td>\n",
       "      <td>3</td>\n",
       "      <td>4</td>\n",
       "      <td>5</td>\n",
       "    </tr>\n",
       "    <tr>\n",
       "      <th>Survived</th>\n",
       "      <td>0</td>\n",
       "      <td>1</td>\n",
       "      <td>1</td>\n",
       "      <td>1</td>\n",
       "      <td>0</td>\n",
       "    </tr>\n",
       "    <tr>\n",
       "      <th>Pclass</th>\n",
       "      <td>3</td>\n",
       "      <td>1</td>\n",
       "      <td>3</td>\n",
       "      <td>1</td>\n",
       "      <td>3</td>\n",
       "    </tr>\n",
       "    <tr>\n",
       "      <th>Name</th>\n",
       "      <td>Braund, Mr. Owen Harris</td>\n",
       "      <td>Cumings, Mrs. John Bradley (Florence Briggs Th...</td>\n",
       "      <td>Heikkinen, Miss. Laina</td>\n",
       "      <td>Futrelle, Mrs. Jacques Heath (Lily May Peel)</td>\n",
       "      <td>Allen, Mr. William Henry</td>\n",
       "    </tr>\n",
       "    <tr>\n",
       "      <th>Sex</th>\n",
       "      <td>male</td>\n",
       "      <td>female</td>\n",
       "      <td>female</td>\n",
       "      <td>female</td>\n",
       "      <td>male</td>\n",
       "    </tr>\n",
       "    <tr>\n",
       "      <th>Age</th>\n",
       "      <td>22</td>\n",
       "      <td>38</td>\n",
       "      <td>26</td>\n",
       "      <td>35</td>\n",
       "      <td>35</td>\n",
       "    </tr>\n",
       "    <tr>\n",
       "      <th>SibSp</th>\n",
       "      <td>1</td>\n",
       "      <td>1</td>\n",
       "      <td>0</td>\n",
       "      <td>1</td>\n",
       "      <td>0</td>\n",
       "    </tr>\n",
       "    <tr>\n",
       "      <th>Parch</th>\n",
       "      <td>0</td>\n",
       "      <td>0</td>\n",
       "      <td>0</td>\n",
       "      <td>0</td>\n",
       "      <td>0</td>\n",
       "    </tr>\n",
       "    <tr>\n",
       "      <th>Ticket</th>\n",
       "      <td>A/5 21171</td>\n",
       "      <td>PC 17599</td>\n",
       "      <td>STON/O2. 3101282</td>\n",
       "      <td>113803</td>\n",
       "      <td>373450</td>\n",
       "    </tr>\n",
       "    <tr>\n",
       "      <th>Fare</th>\n",
       "      <td>7.25</td>\n",
       "      <td>71.2833</td>\n",
       "      <td>7.925</td>\n",
       "      <td>53.1</td>\n",
       "      <td>8.05</td>\n",
       "    </tr>\n",
       "    <tr>\n",
       "      <th>Cabin</th>\n",
       "      <td>NaN</td>\n",
       "      <td>C</td>\n",
       "      <td>NaN</td>\n",
       "      <td>C</td>\n",
       "      <td>NaN</td>\n",
       "    </tr>\n",
       "    <tr>\n",
       "      <th>Embarked</th>\n",
       "      <td>S</td>\n",
       "      <td>C</td>\n",
       "      <td>S</td>\n",
       "      <td>S</td>\n",
       "      <td>S</td>\n",
       "    </tr>\n",
       "    <tr>\n",
       "      <th>Familysize</th>\n",
       "      <td>1</td>\n",
       "      <td>1</td>\n",
       "      <td>0</td>\n",
       "      <td>1</td>\n",
       "      <td>0</td>\n",
       "    </tr>\n",
       "  </tbody>\n",
       "</table>\n",
       "</div>"
      ],
      "text/plain": [
       "                                   0  \\\n",
       "PassengerId                        1   \n",
       "Survived                           0   \n",
       "Pclass                             3   \n",
       "Name         Braund, Mr. Owen Harris   \n",
       "Sex                             male   \n",
       "Age                               22   \n",
       "SibSp                              1   \n",
       "Parch                              0   \n",
       "Ticket                     A/5 21171   \n",
       "Fare                            7.25   \n",
       "Cabin                            NaN   \n",
       "Embarked                           S   \n",
       "Familysize                         1   \n",
       "\n",
       "                                                             1  \\\n",
       "PassengerId                                                  2   \n",
       "Survived                                                     1   \n",
       "Pclass                                                       1   \n",
       "Name         Cumings, Mrs. John Bradley (Florence Briggs Th...   \n",
       "Sex                                                     female   \n",
       "Age                                                         38   \n",
       "SibSp                                                        1   \n",
       "Parch                                                        0   \n",
       "Ticket                                                PC 17599   \n",
       "Fare                                                   71.2833   \n",
       "Cabin                                                        C   \n",
       "Embarked                                                     C   \n",
       "Familysize                                                   1   \n",
       "\n",
       "                                  2  \\\n",
       "PassengerId                       3   \n",
       "Survived                          1   \n",
       "Pclass                            3   \n",
       "Name         Heikkinen, Miss. Laina   \n",
       "Sex                          female   \n",
       "Age                              26   \n",
       "SibSp                             0   \n",
       "Parch                             0   \n",
       "Ticket             STON/O2. 3101282   \n",
       "Fare                          7.925   \n",
       "Cabin                           NaN   \n",
       "Embarked                          S   \n",
       "Familysize                        0   \n",
       "\n",
       "                                                        3  \\\n",
       "PassengerId                                             4   \n",
       "Survived                                                1   \n",
       "Pclass                                                  1   \n",
       "Name         Futrelle, Mrs. Jacques Heath (Lily May Peel)   \n",
       "Sex                                                female   \n",
       "Age                                                    35   \n",
       "SibSp                                                   1   \n",
       "Parch                                                   0   \n",
       "Ticket                                             113803   \n",
       "Fare                                                 53.1   \n",
       "Cabin                                                   C   \n",
       "Embarked                                                S   \n",
       "Familysize                                              1   \n",
       "\n",
       "                                    4  \n",
       "PassengerId                         5  \n",
       "Survived                            0  \n",
       "Pclass                              3  \n",
       "Name         Allen, Mr. William Henry  \n",
       "Sex                              male  \n",
       "Age                                35  \n",
       "SibSp                               0  \n",
       "Parch                               0  \n",
       "Ticket                         373450  \n",
       "Fare                             8.05  \n",
       "Cabin                             NaN  \n",
       "Embarked                            S  \n",
       "Familysize                          0  "
      ]
     },
     "execution_count": 99,
     "metadata": {},
     "output_type": "execute_result"
    }
   ],
   "source": [
    "d.shape\n",
    "d.head().T"
   ]
  },
  {
   "cell_type": "code",
   "execution_count": 100,
   "metadata": {
    "ExecuteTime": {
     "end_time": "2019-08-18T13:00:28.607223Z",
     "start_time": "2019-08-18T13:00:28.572218Z"
    },
    "collapsed": false
   },
   "outputs": [
    {
     "data": {
      "text/html": [
       "<div>\n",
       "<style scoped>\n",
       "    .dataframe tbody tr th:only-of-type {\n",
       "        vertical-align: middle;\n",
       "    }\n",
       "\n",
       "    .dataframe tbody tr th {\n",
       "        vertical-align: top;\n",
       "    }\n",
       "\n",
       "    .dataframe thead th {\n",
       "        text-align: right;\n",
       "    }\n",
       "</style>\n",
       "<table border=\"1\" class=\"dataframe\">\n",
       "  <thead>\n",
       "    <tr style=\"text-align: right;\">\n",
       "      <th></th>\n",
       "      <th>Column</th>\n",
       "      <th>Cardinality</th>\n",
       "    </tr>\n",
       "  </thead>\n",
       "  <tbody>\n",
       "    <tr>\n",
       "      <th>0</th>\n",
       "      <td>Name</td>\n",
       "      <td>891</td>\n",
       "    </tr>\n",
       "    <tr>\n",
       "      <th>1</th>\n",
       "      <td>Ticket</td>\n",
       "      <td>681</td>\n",
       "    </tr>\n",
       "    <tr>\n",
       "      <th>2</th>\n",
       "      <td>Cabin</td>\n",
       "      <td>8</td>\n",
       "    </tr>\n",
       "    <tr>\n",
       "      <th>3</th>\n",
       "      <td>Embarked</td>\n",
       "      <td>3</td>\n",
       "    </tr>\n",
       "    <tr>\n",
       "      <th>4</th>\n",
       "      <td>Sex</td>\n",
       "      <td>2</td>\n",
       "    </tr>\n",
       "  </tbody>\n",
       "</table>\n",
       "</div>"
      ],
      "text/plain": [
       "     Column Cardinality\n",
       "0      Name         891\n",
       "1    Ticket         681\n",
       "2     Cabin           8\n",
       "3  Embarked           3\n",
       "4       Sex           2"
      ]
     },
     "execution_count": 100,
     "metadata": {},
     "output_type": "execute_result"
    }
   ],
   "source": [
    "show_cardinality_of_cats(d)"
   ]
  },
  {
   "cell_type": "markdown",
   "metadata": {},
   "source": [
    "# Transform data:"
   ]
  },
  {
   "cell_type": "code",
   "execution_count": 101,
   "metadata": {
    "ExecuteTime": {
     "end_time": "2019-08-18T13:00:37.780540Z",
     "start_time": "2019-08-18T13:00:37.776536Z"
    },
    "collapsed": true
   },
   "outputs": [],
   "source": [
    "TARGET='Survived'"
   ]
  },
  {
   "cell_type": "markdown",
   "metadata": {},
   "source": [
    "### drop name, ticket and id columns:"
   ]
  },
  {
   "cell_type": "code",
   "execution_count": 102,
   "metadata": {
    "ExecuteTime": {
     "end_time": "2019-08-18T13:00:55.195435Z",
     "start_time": "2019-08-18T13:00:55.180435Z"
    },
    "collapsed": false
   },
   "outputs": [
    {
     "name": "stdout",
     "output_type": "stream",
     "text": [
      "dropping Name\n",
      "dropping Ticket\n",
      "dropping PassengerId\n"
     ]
    }
   ],
   "source": [
    "drop_columns=['Name', 'Ticket', 'PassengerId']\n",
    "\n",
    "substring_drop_list = []\n",
    "\n",
    "d = clean_data(d, drop_columns, substring_drop_list, drop_dates=True)"
   ]
  },
  {
   "cell_type": "markdown",
   "metadata": {},
   "source": [
    "## Generate training and test set:\n",
    "- In this case we generate test set of 200 so that we'll have enoughd data points to calculate shap values, etc"
   ]
  },
  {
   "cell_type": "code",
   "execution_count": 103,
   "metadata": {
    "ExecuteTime": {
     "end_time": "2019-08-18T13:00:57.557960Z",
     "start_time": "2019-08-18T13:00:57.547958Z"
    },
    "collapsed": false
   },
   "outputs": [
    {
     "data": {
      "text/plain": [
       "((691, 10), (200, 10))"
      ]
     },
     "execution_count": 103,
     "metadata": {},
     "output_type": "execute_result"
    }
   ],
   "source": [
    "test_idxs = d.sample(200).index\n",
    "d_train = d[~d.index.isin(test_idxs)]\n",
    "d_test = d[d.index.isin(test_idxs)]\n",
    "d_train.shape, d_test.shape"
   ]
  },
  {
   "cell_type": "markdown",
   "metadata": {},
   "source": [
    "## Generate tree and linear datasets:"
   ]
  },
  {
   "cell_type": "markdown",
   "metadata": {},
   "source": [
    "#### Cols to generate isolation forest outlier score for:"
   ]
  },
  {
   "cell_type": "code",
   "execution_count": 104,
   "metadata": {
    "ExecuteTime": {
     "end_time": "2019-08-18T13:01:02.679844Z",
     "start_time": "2019-08-18T13:01:02.621842Z"
    },
    "collapsed": false
   },
   "outputs": [
    {
     "name": "stdout",
     "output_type": "stream",
     "text": [
      "Columns being transformed: \n",
      "numeric columns:  ['Parch', 'Pclass', 'Familysize', 'Fare', 'SibSp', 'Age']\n",
      "categorical columns:  ['Sex', 'Cabin', 'Embarked']\n",
      "fitting transformer...\n",
      "Fit: DummyTransform for: Survived...\n",
      "Fit: Filling numerical NaN Parch with                     ExtremeValue: -999...\n",
      "Fit: Filling numerical NaN Pclass with                     ExtremeValue: -999...\n",
      "Fit: Filling numerical NaN Familysize with                     ExtremeValue: -999...\n",
      "Fit: Filling numerical NaN Fare with                     ExtremeValue: -999...\n",
      "Fit: Filling numerical NaN SibSp with                     ExtremeValue: -999...\n",
      "Fit: Filling numerical NaN Age with                     ExtremeValue: -999...\n",
      "Fit: One-hot coding categorical variable Sex...\n",
      "Fit: One-hot coding categorical variable Cabin...\n",
      "Fit: One-hot coding categorical variable Embarked...\n"
     ]
    }
   ],
   "source": [
    "tree_transformer =  fit_transformer(d_train, target=TARGET, numfill='ExtremeValue')"
   ]
  },
  {
   "cell_type": "code",
   "execution_count": 105,
   "metadata": {
    "ExecuteTime": {
     "end_time": "2019-08-18T13:01:08.213733Z",
     "start_time": "2019-08-18T13:01:08.073724Z"
    },
    "collapsed": false
   },
   "outputs": [
    {
     "name": "stdout",
     "output_type": "stream",
     "text": [
      "Transform: DummyTransform for: Survived...\n",
      "Transform: Filling numerical NaN Parch with                     ExtremeValue: -999...\n",
      "Transform: Filling numerical NaN Pclass with                     ExtremeValue: -999...\n",
      "Transform: Filling numerical NaN Familysize with                     ExtremeValue: -999...\n",
      "Transform: Filling numerical NaN Fare with                     ExtremeValue: -999...\n",
      "Transform: Filling numerical NaN SibSp with                     ExtremeValue: -999...\n",
      "Transform: Filling numerical NaN Age with                     ExtremeValue: -999...\n",
      "Transform: One-hot coding categorical variable Sex...\n",
      "Transform: One-hot coding categorical variable Cabin...\n",
      "Transform: One-hot coding categorical variable Embarked...\n",
      "Transform: DummyTransform for: Survived...\n",
      "Transform: Filling numerical NaN Parch with                     ExtremeValue: -999...\n",
      "Transform: Filling numerical NaN Pclass with                     ExtremeValue: -999...\n",
      "Transform: Filling numerical NaN Familysize with                     ExtremeValue: -999...\n",
      "Transform: Filling numerical NaN Fare with                     ExtremeValue: -999...\n",
      "Transform: Filling numerical NaN SibSp with                     ExtremeValue: -999...\n",
      "Transform: Filling numerical NaN Age with                     ExtremeValue: -999...\n",
      "Transform: One-hot coding categorical variable Sex...\n",
      "Transform: One-hot coding categorical variable Cabin...\n",
      "Transform: One-hot coding categorical variable Embarked...\n"
     ]
    }
   ],
   "source": [
    "tree_data = (*get_transformed_X_y(d_train, tree_transformer, TARGET, add_random=False),\n",
    "             *get_transformed_X_y(d_test, tree_transformer, TARGET, add_random=False))"
   ]
  },
  {
   "cell_type": "code",
   "execution_count": 106,
   "metadata": {
    "ExecuteTime": {
     "end_time": "2019-08-18T13:01:10.574293Z",
     "start_time": "2019-08-18T13:01:10.569260Z"
    },
    "collapsed": true
   },
   "outputs": [],
   "source": [
    "(X_train, y_train, X_test, y_test) = tree_data"
   ]
  },
  {
   "cell_type": "code",
   "execution_count": 107,
   "metadata": {
    "ExecuteTime": {
     "end_time": "2019-08-18T13:01:11.149779Z",
     "start_time": "2019-08-18T13:01:11.127775Z"
    },
    "collapsed": false
   },
   "outputs": [
    {
     "data": {
      "text/html": [
       "<div>\n",
       "<style scoped>\n",
       "    .dataframe tbody tr th:only-of-type {\n",
       "        vertical-align: middle;\n",
       "    }\n",
       "\n",
       "    .dataframe tbody tr th {\n",
       "        vertical-align: top;\n",
       "    }\n",
       "\n",
       "    .dataframe thead th {\n",
       "        text-align: right;\n",
       "    }\n",
       "</style>\n",
       "<table border=\"1\" class=\"dataframe\">\n",
       "  <thead>\n",
       "    <tr style=\"text-align: right;\">\n",
       "      <th></th>\n",
       "      <th>Parch</th>\n",
       "      <th>Pclass</th>\n",
       "      <th>Familysize</th>\n",
       "      <th>Fare</th>\n",
       "      <th>SibSp</th>\n",
       "      <th>Age</th>\n",
       "      <th>Sex_female</th>\n",
       "      <th>Sex_male</th>\n",
       "      <th>Sex_nan</th>\n",
       "      <th>Cabin_A</th>\n",
       "      <th>...</th>\n",
       "      <th>Cabin_C</th>\n",
       "      <th>Cabin_D</th>\n",
       "      <th>Cabin_E</th>\n",
       "      <th>Cabin_F</th>\n",
       "      <th>Cabin_G</th>\n",
       "      <th>Cabin_nan</th>\n",
       "      <th>Embarked_C</th>\n",
       "      <th>Embarked_Q</th>\n",
       "      <th>Embarked_S</th>\n",
       "      <th>Embarked_nan</th>\n",
       "    </tr>\n",
       "  </thead>\n",
       "  <tbody>\n",
       "    <tr>\n",
       "      <th>0</th>\n",
       "      <td>0</td>\n",
       "      <td>3</td>\n",
       "      <td>1</td>\n",
       "      <td>7.2500</td>\n",
       "      <td>1</td>\n",
       "      <td>22.0</td>\n",
       "      <td>0</td>\n",
       "      <td>1</td>\n",
       "      <td>0</td>\n",
       "      <td>0</td>\n",
       "      <td>...</td>\n",
       "      <td>0</td>\n",
       "      <td>0</td>\n",
       "      <td>0</td>\n",
       "      <td>0</td>\n",
       "      <td>0</td>\n",
       "      <td>1</td>\n",
       "      <td>0</td>\n",
       "      <td>0</td>\n",
       "      <td>1</td>\n",
       "      <td>0</td>\n",
       "    </tr>\n",
       "    <tr>\n",
       "      <th>1</th>\n",
       "      <td>0</td>\n",
       "      <td>1</td>\n",
       "      <td>1</td>\n",
       "      <td>71.2833</td>\n",
       "      <td>1</td>\n",
       "      <td>38.0</td>\n",
       "      <td>1</td>\n",
       "      <td>0</td>\n",
       "      <td>0</td>\n",
       "      <td>0</td>\n",
       "      <td>...</td>\n",
       "      <td>1</td>\n",
       "      <td>0</td>\n",
       "      <td>0</td>\n",
       "      <td>0</td>\n",
       "      <td>0</td>\n",
       "      <td>0</td>\n",
       "      <td>1</td>\n",
       "      <td>0</td>\n",
       "      <td>0</td>\n",
       "      <td>0</td>\n",
       "    </tr>\n",
       "    <tr>\n",
       "      <th>2</th>\n",
       "      <td>0</td>\n",
       "      <td>3</td>\n",
       "      <td>0</td>\n",
       "      <td>7.9250</td>\n",
       "      <td>0</td>\n",
       "      <td>26.0</td>\n",
       "      <td>1</td>\n",
       "      <td>0</td>\n",
       "      <td>0</td>\n",
       "      <td>0</td>\n",
       "      <td>...</td>\n",
       "      <td>0</td>\n",
       "      <td>0</td>\n",
       "      <td>0</td>\n",
       "      <td>0</td>\n",
       "      <td>0</td>\n",
       "      <td>1</td>\n",
       "      <td>0</td>\n",
       "      <td>0</td>\n",
       "      <td>1</td>\n",
       "      <td>0</td>\n",
       "    </tr>\n",
       "    <tr>\n",
       "      <th>3</th>\n",
       "      <td>0</td>\n",
       "      <td>1</td>\n",
       "      <td>1</td>\n",
       "      <td>53.1000</td>\n",
       "      <td>1</td>\n",
       "      <td>35.0</td>\n",
       "      <td>1</td>\n",
       "      <td>0</td>\n",
       "      <td>0</td>\n",
       "      <td>0</td>\n",
       "      <td>...</td>\n",
       "      <td>1</td>\n",
       "      <td>0</td>\n",
       "      <td>0</td>\n",
       "      <td>0</td>\n",
       "      <td>0</td>\n",
       "      <td>0</td>\n",
       "      <td>0</td>\n",
       "      <td>0</td>\n",
       "      <td>1</td>\n",
       "      <td>0</td>\n",
       "    </tr>\n",
       "    <tr>\n",
       "      <th>4</th>\n",
       "      <td>0</td>\n",
       "      <td>3</td>\n",
       "      <td>0</td>\n",
       "      <td>8.0500</td>\n",
       "      <td>0</td>\n",
       "      <td>35.0</td>\n",
       "      <td>0</td>\n",
       "      <td>1</td>\n",
       "      <td>0</td>\n",
       "      <td>0</td>\n",
       "      <td>...</td>\n",
       "      <td>0</td>\n",
       "      <td>0</td>\n",
       "      <td>0</td>\n",
       "      <td>0</td>\n",
       "      <td>0</td>\n",
       "      <td>1</td>\n",
       "      <td>0</td>\n",
       "      <td>0</td>\n",
       "      <td>1</td>\n",
       "      <td>0</td>\n",
       "    </tr>\n",
       "  </tbody>\n",
       "</table>\n",
       "<p>5 rows × 21 columns</p>\n",
       "</div>"
      ],
      "text/plain": [
       "   Parch  Pclass  Familysize     Fare  SibSp   Age  Sex_female  Sex_male  \\\n",
       "0      0       3           1   7.2500      1  22.0           0         1   \n",
       "1      0       1           1  71.2833      1  38.0           1         0   \n",
       "2      0       3           0   7.9250      0  26.0           1         0   \n",
       "3      0       1           1  53.1000      1  35.0           1         0   \n",
       "4      0       3           0   8.0500      0  35.0           0         1   \n",
       "\n",
       "   Sex_nan  Cabin_A  ...  Cabin_C  Cabin_D  Cabin_E  Cabin_F  Cabin_G  \\\n",
       "0        0        0  ...        0        0        0        0        0   \n",
       "1        0        0  ...        1        0        0        0        0   \n",
       "2        0        0  ...        0        0        0        0        0   \n",
       "3        0        0  ...        1        0        0        0        0   \n",
       "4        0        0  ...        0        0        0        0        0   \n",
       "\n",
       "   Cabin_nan  Embarked_C  Embarked_Q  Embarked_S  Embarked_nan  \n",
       "0          1           0           0           1             0  \n",
       "1          0           1           0           0             0  \n",
       "2          1           0           0           1             0  \n",
       "3          0           0           0           1             0  \n",
       "4          1           0           0           1             0  \n",
       "\n",
       "[5 rows x 21 columns]"
      ]
     },
     "execution_count": 107,
     "metadata": {},
     "output_type": "execute_result"
    }
   ],
   "source": [
    "X_train.head()"
   ]
  },
  {
   "cell_type": "code",
   "execution_count": 108,
   "metadata": {
    "ExecuteTime": {
     "end_time": "2019-08-18T13:01:12.934556Z",
     "start_time": "2019-08-18T13:01:12.926555Z"
    },
    "collapsed": false
   },
   "outputs": [
    {
     "data": {
      "text/plain": [
       "(691, 264, 0.38205499276411)"
      ]
     },
     "execution_count": 108,
     "metadata": {},
     "output_type": "execute_result"
    },
    {
     "data": {
      "text/plain": [
       "(200, 78, 0.39)"
      ]
     },
     "execution_count": 108,
     "metadata": {},
     "output_type": "execute_result"
    }
   ],
   "source": [
    "len(X_train), y_train.sum(), y_train.mean()\n",
    "len(X_test), y_test.sum(), y_test.mean()"
   ]
  },
  {
   "cell_type": "markdown",
   "metadata": {},
   "source": [
    "## Run the garbage collector:"
   ]
  },
  {
   "cell_type": "code",
   "execution_count": 109,
   "metadata": {
    "ExecuteTime": {
     "end_time": "2019-08-18T13:01:14.068092Z",
     "start_time": "2019-08-18T13:01:13.946048Z"
    },
    "collapsed": false
   },
   "outputs": [
    {
     "data": {
      "text/plain": [
       "44125"
      ]
     },
     "execution_count": 109,
     "metadata": {},
     "output_type": "execute_result"
    }
   ],
   "source": [
    "gc.collect()"
   ]
  },
  {
   "cell_type": "markdown",
   "metadata": {},
   "source": [
    "# Optimize hyperparameters"
   ]
  },
  {
   "cell_type": "markdown",
   "metadata": {},
   "source": [
    "### optimize model:"
   ]
  },
  {
   "cell_type": "code",
   "execution_count": 110,
   "metadata": {
    "ExecuteTime": {
     "end_time": "2019-08-18T13:04:48.849284Z",
     "start_time": "2019-08-18T13:02:50.090730Z"
    },
    "collapsed": false
   },
   "outputs": [
    {
     "name": "stdout",
     "output_type": "stream",
     "text": [
      "100%|██████████| 200/200 [04:54<00:00,  1.70s/it, best loss: -0.8601603168016455]\n"
     ]
    }
   ],
   "source": [
    "#models = ['RandomForestClassifier', 'BalancedRandomForestClassifier', \n",
    "#            'XGBClassifier', 'LogisticRegression']\n",
    "models = ['RandomForestClassifier']\n",
    "best_model, trials = classifier_optimize(tree_data, None, models, \n",
    "                                         roc_auc_score, needs_proba=True, n_evals=200, cv=5)"
   ]
  },
  {
   "cell_type": "code",
   "execution_count": 111,
   "metadata": {
    "ExecuteTime": {
     "end_time": "2019-08-18T13:05:30.347244Z",
     "start_time": "2019-08-18T13:05:30.342266Z"
    },
    "collapsed": false
   },
   "outputs": [
    {
     "data": {
      "text/plain": [
       "{'class_weight': 'balanced',\n",
       " 'max_depth': None,\n",
       " 'max_features': 0.5556469454895402,\n",
       " 'min_impurity_decrease': 6.755770490218343e-09,\n",
       " 'min_samples_leaf': 5,\n",
       " 'min_samples_split': 10,\n",
       " 'model_type': 'RandomForestClassifier',\n",
       " 'n_estimators': 90}"
      ]
     },
     "execution_count": 111,
     "metadata": {},
     "output_type": "execute_result"
    }
   ],
   "source": [
    "best_model"
   ]
  },
  {
   "cell_type": "code",
   "execution_count": 112,
   "metadata": {
    "ExecuteTime": {
     "end_time": "2019-08-18T13:09:18.907490Z",
     "start_time": "2019-08-18T13:09:18.661538Z"
    },
    "collapsed": false
   },
   "outputs": [
    {
     "data": {
      "text/plain": [
       "RandomForestClassifier(bootstrap=True, class_weight='balanced',\n",
       "                       criterion='gini', max_depth=None,\n",
       "                       max_features=0.5556469454895402, max_leaf_nodes=None,\n",
       "                       min_impurity_decrease=6.755770490218343e-09,\n",
       "                       min_impurity_split=None, min_samples_leaf=5,\n",
       "                       min_samples_split=10, min_weight_fraction_leaf=0.0,\n",
       "                       n_estimators=90, n_jobs=None, oob_score=False,\n",
       "                       random_state=None, verbose=0, warm_start=False)"
      ]
     },
     "execution_count": 112,
     "metadata": {},
     "output_type": "execute_result"
    }
   ],
   "source": [
    "model, (X_train, y_train, X_test, y_test), transformer = get_best_model_and_data(best_model, tree_data, \n",
    "                                            None, None, tree_transformer, None)\n",
    "model.fit(X_train, y_train)\n"
   ]
  },
  {
   "cell_type": "code",
   "execution_count": 113,
   "metadata": {
    "ExecuteTime": {
     "end_time": "2019-08-18T13:09:21.462666Z",
     "start_time": "2019-08-18T13:09:21.434668Z"
    },
    "collapsed": false
   },
   "outputs": [
    {
     "name": "stdout",
     "output_type": "stream",
     "text": [
      "roc auc score: 0.8878730559058428\n",
      "              precision    recall  f1-score   support\n",
      "\n",
      "           0       0.84      0.89      0.87       122\n",
      "           1       0.81      0.73      0.77        78\n",
      "\n",
      "    accuracy                           0.83       200\n",
      "   macro avg       0.83      0.81      0.82       200\n",
      "weighted avg       0.83      0.83      0.83       200\n",
      "\n"
     ]
    }
   ],
   "source": [
    "pred_probas = model.predict_proba(X_test)\n",
    "print('roc auc score:', roc_auc_score(y_test, pred_probas[:,1]))\n",
    "print(classification_report(y_test, np.where(pred_probas[:,1]>0.5, 1, 0)))"
   ]
  },
  {
   "cell_type": "code",
   "execution_count": 114,
   "metadata": {
    "ExecuteTime": {
     "end_time": "2019-08-18T13:09:44.393403Z",
     "start_time": "2019-08-18T13:09:44.351360Z"
    },
    "collapsed": false
   },
   "outputs": [],
   "source": [
    "model_bunch = ModelBunch(model, transformer, TARGET, use_columns=X_train.columns)\n",
    "pickle.dump(model_bunch, open(Path.cwd() / 'titanic_model_bunch.pkl','wb'))"
   ]
  },
  {
   "cell_type": "code",
   "execution_count": 115,
   "metadata": {
    "collapsed": false
   },
   "outputs": [
    {
     "name": "stdout",
     "output_type": "stream",
     "text": [
      "Transform: DummyTransform for: Survived...\n",
      "Transform: Filling numerical NaN Parch with                     ExtremeValue: -999...\n",
      "Transform: Filling numerical NaN Pclass with                     ExtremeValue: -999...\n",
      "Transform: Filling numerical NaN Familysize with                     ExtremeValue: -999...\n",
      "Transform: Filling numerical NaN Fare with                     ExtremeValue: -999...\n",
      "Transform: Filling numerical NaN SibSp with                     ExtremeValue: -999...\n",
      "Transform: Filling numerical NaN Age with                     ExtremeValue: -999...\n",
      "Transform: One-hot coding categorical variable Sex...\n",
      "Transform: One-hot coding categorical variable Cabin...\n",
      "Transform: One-hot coding categorical variable Embarked...\n"
     ]
    },
    {
     "data": {
      "text/plain": [
       "array([[0.8800952 , 0.1199048 ],\n",
       "       [0.90030955, 0.09969045],\n",
       "       [0.44246396, 0.55753604],\n",
       "       [0.64331488, 0.35668512],\n",
       "       [0.9566519 , 0.0433481 ],\n",
       "       [0.92935791, 0.07064209],\n",
       "       [0.81030006, 0.18969994],\n",
       "       [0.23465957, 0.76534043],\n",
       "       [0.93537248, 0.06462752],\n",
       "       [0.01075447, 0.98924553],\n",
       "       [0.65503503, 0.34496497],\n",
       "       [0.10857424, 0.89142576],\n",
       "       [0.68582486, 0.31417514],\n",
       "       [0.        , 1.        ],\n",
       "       [0.61800031, 0.38199969],\n",
       "       [0.84291075, 0.15708925],\n",
       "       [0.8125738 , 0.1874262 ],\n",
       "       [0.9566519 , 0.0433481 ],\n",
       "       [0.69738046, 0.30261954],\n",
       "       [0.90382614, 0.09617386],\n",
       "       [0.83168636, 0.16831364],\n",
       "       [0.89528107, 0.10471893],\n",
       "       [0.95028317, 0.04971683],\n",
       "       [0.26078432, 0.73921568],\n",
       "       [0.69177043, 0.30822957],\n",
       "       [0.92957173, 0.07042827],\n",
       "       [0.12249991, 0.87750009],\n",
       "       [0.90601945, 0.09398055],\n",
       "       [0.63232603, 0.36767397],\n",
       "       [0.80274704, 0.19725296],\n",
       "       [0.92309624, 0.07690376],\n",
       "       [0.83082995, 0.16917005],\n",
       "       [0.73292891, 0.26707109],\n",
       "       [0.65659628, 0.34340372],\n",
       "       [0.34315265, 0.65684735],\n",
       "       [0.50069514, 0.49930486],\n",
       "       [0.7612318 , 0.2387682 ],\n",
       "       [0.00908523, 0.99091477],\n",
       "       [0.79507147, 0.20492853],\n",
       "       [0.74122926, 0.25877074],\n",
       "       [0.34032058, 0.65967942],\n",
       "       [0.476033  , 0.523967  ],\n",
       "       [0.02524871, 0.97475129],\n",
       "       [0.81901825, 0.18098175],\n",
       "       [0.23465957, 0.76534043],\n",
       "       [0.76330427, 0.23669573],\n",
       "       [0.88596521, 0.11403479],\n",
       "       [0.89743737, 0.10256263],\n",
       "       [0.90507818, 0.09492182],\n",
       "       [0.38473845, 0.61526155],\n",
       "       [0.77730384, 0.22269616],\n",
       "       [0.23721327, 0.76278673],\n",
       "       [0.52533035, 0.47466965],\n",
       "       [0.79507147, 0.20492853],\n",
       "       [0.91027814, 0.08972186],\n",
       "       [0.61305648, 0.38694352],\n",
       "       [0.78392876, 0.21607124],\n",
       "       [0.33406737, 0.66593263],\n",
       "       [0.34032058, 0.65967942],\n",
       "       [0.87585204, 0.12414796],\n",
       "       [0.92106276, 0.07893724],\n",
       "       [0.42797733, 0.57202267],\n",
       "       [0.01529262, 0.98470738],\n",
       "       [0.38411049, 0.61588951],\n",
       "       [0.74423081, 0.25576919],\n",
       "       [0.03925863, 0.96074137],\n",
       "       [0.03135209, 0.96864791],\n",
       "       [0.34043567, 0.65956433],\n",
       "       [0.97698826, 0.02301174],\n",
       "       [0.0018986 , 0.9981014 ],\n",
       "       [0.94939988, 0.05060012],\n",
       "       [0.00309685, 0.99690315],\n",
       "       [0.29511584, 0.70488416],\n",
       "       [0.56924927, 0.43075073],\n",
       "       [0.9566519 , 0.0433481 ],\n",
       "       [0.8671185 , 0.1328815 ],\n",
       "       [0.66166875, 0.33833125],\n",
       "       [0.46792838, 0.53207162],\n",
       "       [0.85005207, 0.14994793],\n",
       "       [0.49549053, 0.50450947],\n",
       "       [0.94935781, 0.05064219],\n",
       "       [0.02210687, 0.97789313],\n",
       "       [0.18951343, 0.81048657],\n",
       "       [0.89986994, 0.10013006],\n",
       "       [0.77738245, 0.22261755],\n",
       "       [0.23465957, 0.76534043],\n",
       "       [0.82253795, 0.17746205],\n",
       "       [0.69237467, 0.30762533],\n",
       "       [0.84042245, 0.15957755],\n",
       "       [0.0122999 , 0.9877001 ],\n",
       "       [0.24104496, 0.75895504],\n",
       "       [0.920488  , 0.079512  ],\n",
       "       [0.28554712, 0.71445288],\n",
       "       [0.91565665, 0.08434335],\n",
       "       [0.037376  , 0.962624  ],\n",
       "       [0.45471609, 0.54528391],\n",
       "       [0.87717921, 0.12282079],\n",
       "       [0.80659222, 0.19340778],\n",
       "       [0.83153473, 0.16846527],\n",
       "       [0.87634365, 0.12365635],\n",
       "       [0.75914846, 0.24085154],\n",
       "       [0.07549188, 0.92450812],\n",
       "       [0.50698128, 0.49301872],\n",
       "       [0.74196817, 0.25803183],\n",
       "       [0.03043692, 0.96956308],\n",
       "       [0.95453307, 0.04546693],\n",
       "       [0.91050683, 0.08949317],\n",
       "       [0.04161575, 0.95838425],\n",
       "       [0.83153473, 0.16846527],\n",
       "       [0.91951444, 0.08048556],\n",
       "       [0.45349175, 0.54650825],\n",
       "       [0.53293227, 0.46706773],\n",
       "       [0.57207675, 0.42792325],\n",
       "       [0.76464182, 0.23535818],\n",
       "       [0.61818473, 0.38181527],\n",
       "       [0.89528107, 0.10471893],\n",
       "       [0.82016748, 0.17983252],\n",
       "       [0.1214599 , 0.8785401 ],\n",
       "       [0.00134218, 0.99865782],\n",
       "       [0.01696276, 0.98303724],\n",
       "       [0.76325524, 0.23674476],\n",
       "       [0.76325524, 0.23674476],\n",
       "       [0.87029405, 0.12970595],\n",
       "       [0.8589046 , 0.1410954 ],\n",
       "       [0.12992665, 0.87007335],\n",
       "       [0.86337526, 0.13662474],\n",
       "       [0.64556215, 0.35443785],\n",
       "       [0.6959697 , 0.3040303 ],\n",
       "       [0.01612927, 0.98387073],\n",
       "       [0.56275365, 0.43724635],\n",
       "       [0.84900876, 0.15099124],\n",
       "       [0.9047658 , 0.0952342 ],\n",
       "       [0.89528107, 0.10471893],\n",
       "       [0.9021741 , 0.0978259 ],\n",
       "       [0.94250482, 0.05749518],\n",
       "       [0.03848542, 0.96151458],\n",
       "       [0.23465957, 0.76534043],\n",
       "       [0.01389841, 0.98610159],\n",
       "       [0.02777155, 0.97222845],\n",
       "       [0.92451393, 0.07548607],\n",
       "       [0.89528107, 0.10471893],\n",
       "       [0.83618705, 0.16381295],\n",
       "       [0.64779405, 0.35220595],\n",
       "       [0.34032058, 0.65967942],\n",
       "       [0.92978116, 0.07021884],\n",
       "       [0.82789086, 0.17210914],\n",
       "       [0.74710939, 0.25289061],\n",
       "       [0.52741287, 0.47258713],\n",
       "       [0.95231092, 0.04768908],\n",
       "       [0.62885674, 0.37114326],\n",
       "       [0.00138838, 0.99861162],\n",
       "       [0.83766451, 0.16233549],\n",
       "       [0.80155394, 0.19844606],\n",
       "       [0.92106276, 0.07893724],\n",
       "       [0.92168495, 0.07831505],\n",
       "       [0.19444453, 0.80555547],\n",
       "       [0.90601823, 0.09398177],\n",
       "       [0.90601945, 0.09398055],\n",
       "       [0.81986987, 0.18013013],\n",
       "       [0.04034181, 0.95965819],\n",
       "       [0.86512481, 0.13487519],\n",
       "       [0.90382614, 0.09617386],\n",
       "       [0.72545117, 0.27454883],\n",
       "       [0.90081816, 0.09918184],\n",
       "       [0.8287612 , 0.1712388 ],\n",
       "       [0.21982194, 0.78017806],\n",
       "       [0.39653439, 0.60346561],\n",
       "       [0.92213639, 0.07786361],\n",
       "       [0.21982194, 0.78017806],\n",
       "       [0.93849445, 0.06150555],\n",
       "       [0.5685989 , 0.4314011 ],\n",
       "       [0.1583668 , 0.8416332 ],\n",
       "       [0.49168327, 0.50831673],\n",
       "       [0.68948413, 0.31051587],\n",
       "       [0.48767731, 0.51232269],\n",
       "       [0.74960417, 0.25039583],\n",
       "       [0.07205864, 0.92794136],\n",
       "       [0.02544846, 0.97455154],\n",
       "       [0.90645891, 0.09354109],\n",
       "       [0.54484536, 0.45515464],\n",
       "       [0.62527864, 0.37472136],\n",
       "       [0.41661903, 0.58338097],\n",
       "       [0.02145938, 0.97854062],\n",
       "       [0.86429098, 0.13570902],\n",
       "       [0.01796384, 0.98203616],\n",
       "       [0.00134218, 0.99865782],\n",
       "       [0.92566017, 0.07433983],\n",
       "       [0.76330427, 0.23669573],\n",
       "       [0.32003439, 0.67996561],\n",
       "       [0.6395299 , 0.3604701 ],\n",
       "       [0.03415146, 0.96584854],\n",
       "       [0.34940318, 0.65059682],\n",
       "       [0.8068733 , 0.1931267 ],\n",
       "       [0.76972513, 0.23027487],\n",
       "       [0.53660405, 0.46339595],\n",
       "       [0.6487284 , 0.3512716 ],\n",
       "       [0.90284004, 0.09715996],\n",
       "       [0.09218213, 0.90781787],\n",
       "       [0.93476478, 0.06523522],\n",
       "       [0.11026118, 0.88973882]])"
      ]
     },
     "execution_count": 115,
     "metadata": {},
     "output_type": "execute_result"
    }
   ],
   "source": [
    "model_bunch.predict_proba(d_test)"
   ]
  },
  {
   "cell_type": "code",
   "execution_count": 116,
   "metadata": {
    "ExecuteTime": {
     "end_time": "2019-08-18T13:39:49.097862Z",
     "start_time": "2019-08-18T13:39:49.035852Z"
    },
    "collapsed": false
   },
   "outputs": [
    {
     "name": "stdout",
     "output_type": "stream",
     "text": [
      "Transform: DummyTransform for: Survived...\n",
      "Transform: Filling numerical NaN Parch with                     ExtremeValue: -999...\n",
      "Transform: Filling numerical NaN Pclass with                     ExtremeValue: -999...\n",
      "Transform: Filling numerical NaN Familysize with                     ExtremeValue: -999...\n",
      "Transform: Filling numerical NaN Fare with                     ExtremeValue: -999...\n",
      "Transform: Filling numerical NaN SibSp with                     ExtremeValue: -999...\n",
      "Transform: Filling numerical NaN Age with                     ExtremeValue: -999...\n",
      "Transform: One-hot coding categorical variable Sex...\n",
      "Transform: One-hot coding categorical variable Cabin...\n",
      "Transform: One-hot coding categorical variable Embarked...\n"
     ]
    }
   ],
   "source": [
    "explainer = TreeClassifierExplainer(model_bunch, d_test, \n",
    "                                    metric=roc_auc_score, labels=['Not Survived', 'Survived'])"
   ]
  },
  {
   "cell_type": "code",
   "execution_count": 117,
   "metadata": {
    "ExecuteTime": {
     "end_time": "2019-08-18T13:39:44.838624Z",
     "start_time": "2019-08-18T13:39:44.833623Z"
    },
    "collapsed": false
   },
   "outputs": [
    {
     "name": "stdout",
     "output_type": "stream",
     "text": [
      "Calculating predictions...\n",
      "Calculating prediction probabilities...\n",
      "Calculating importances...\n",
      "Generating shap TreeExplainer...\n",
      "Calculating shap values...\n",
      "Calculating shap interaction values...\n",
      "Generating shadow trees...\n",
      "Calculating categorical shap interaction values...\n"
     ]
    }
   ],
   "source": [
    "explainer.calculate_properties()"
   ]
  },
  {
   "cell_type": "code",
   "execution_count": 118,
   "metadata": {
    "ExecuteTime": {
     "end_time": "2019-08-18T13:27:53.131167Z",
     "start_time": "2019-08-18T13:27:53.089162Z"
    },
    "collapsed": false
   },
   "outputs": [
    {
     "data": {
      "text/html": [
       "<div>\n",
       "<style scoped>\n",
       "    .dataframe tbody tr th:only-of-type {\n",
       "        vertical-align: middle;\n",
       "    }\n",
       "\n",
       "    .dataframe tbody tr th {\n",
       "        vertical-align: top;\n",
       "    }\n",
       "\n",
       "    .dataframe thead th {\n",
       "        text-align: right;\n",
       "    }\n",
       "</style>\n",
       "<table border=\"1\" class=\"dataframe\">\n",
       "  <thead>\n",
       "    <tr style=\"text-align: right;\">\n",
       "      <th></th>\n",
       "      <th>col</th>\n",
       "      <th>contribution</th>\n",
       "      <th>cumulative</th>\n",
       "      <th>base</th>\n",
       "      <th>raw_value</th>\n",
       "    </tr>\n",
       "  </thead>\n",
       "  <tbody>\n",
       "    <tr>\n",
       "      <th>0</th>\n",
       "      <td>base_value</td>\n",
       "      <td>0.499315</td>\n",
       "      <td>0.499315</td>\n",
       "      <td>0.000000</td>\n",
       "      <td>NaN</td>\n",
       "    </tr>\n",
       "    <tr>\n",
       "      <th>1</th>\n",
       "      <td>Sex</td>\n",
       "      <td>-0.196643</td>\n",
       "      <td>0.302672</td>\n",
       "      <td>0.499315</td>\n",
       "      <td>male</td>\n",
       "    </tr>\n",
       "    <tr>\n",
       "      <th>2</th>\n",
       "      <td>Cabin</td>\n",
       "      <td>0.088149</td>\n",
       "      <td>0.390821</td>\n",
       "      <td>0.302672</td>\n",
       "      <td>F</td>\n",
       "    </tr>\n",
       "    <tr>\n",
       "      <th>3</th>\n",
       "      <td>Familysize</td>\n",
       "      <td>0.057917</td>\n",
       "      <td>0.448737</td>\n",
       "      <td>0.390821</td>\n",
       "      <td>2</td>\n",
       "    </tr>\n",
       "    <tr>\n",
       "      <th>4</th>\n",
       "      <td>Age</td>\n",
       "      <td>0.052732</td>\n",
       "      <td>0.501470</td>\n",
       "      <td>0.448737</td>\n",
       "      <td>3</td>\n",
       "    </tr>\n",
       "    <tr>\n",
       "      <th>5</th>\n",
       "      <td>Fare</td>\n",
       "      <td>-0.050491</td>\n",
       "      <td>0.450979</td>\n",
       "      <td>0.501470</td>\n",
       "      <td>26</td>\n",
       "    </tr>\n",
       "    <tr>\n",
       "      <th>6</th>\n",
       "      <td>Parch</td>\n",
       "      <td>0.046548</td>\n",
       "      <td>0.497526</td>\n",
       "      <td>0.450979</td>\n",
       "      <td>1</td>\n",
       "    </tr>\n",
       "    <tr>\n",
       "      <th>7</th>\n",
       "      <td>Pclass</td>\n",
       "      <td>0.036108</td>\n",
       "      <td>0.533635</td>\n",
       "      <td>0.497526</td>\n",
       "      <td>2</td>\n",
       "    </tr>\n",
       "    <tr>\n",
       "      <th>8</th>\n",
       "      <td>Embarked</td>\n",
       "      <td>-0.014118</td>\n",
       "      <td>0.519517</td>\n",
       "      <td>0.533635</td>\n",
       "      <td>S</td>\n",
       "    </tr>\n",
       "    <tr>\n",
       "      <th>9</th>\n",
       "      <td>SibSp</td>\n",
       "      <td>0.003079</td>\n",
       "      <td>0.522596</td>\n",
       "      <td>0.519517</td>\n",
       "      <td>1</td>\n",
       "    </tr>\n",
       "  </tbody>\n",
       "</table>\n",
       "</div>"
      ],
      "text/plain": [
       "          col  contribution  cumulative      base raw_value\n",
       "0  base_value      0.499315    0.499315  0.000000       NaN\n",
       "1         Sex     -0.196643    0.302672  0.499315      male\n",
       "2       Cabin      0.088149    0.390821  0.302672         F\n",
       "3  Familysize      0.057917    0.448737  0.390821         2\n",
       "4         Age      0.052732    0.501470  0.448737         3\n",
       "5        Fare     -0.050491    0.450979  0.501470        26\n",
       "6       Parch      0.046548    0.497526  0.450979         1\n",
       "7      Pclass      0.036108    0.533635  0.497526         2\n",
       "8    Embarked     -0.014118    0.519517  0.533635         S\n",
       "9       SibSp      0.003079    0.522596  0.519517         1"
      ]
     },
     "execution_count": 118,
     "metadata": {},
     "output_type": "execute_result"
    }
   ],
   "source": [
    "explainer.contrib_df(index=41)"
   ]
  },
  {
   "cell_type": "code",
   "execution_count": 119,
   "metadata": {
    "collapsed": false
   },
   "outputs": [
    {
     "data": {
      "application/vnd.plotly.v1+json": {
       "config": {
        "plotlyServerURL": "https://plot.ly"
       },
       "data": [
        {
         "colorscale": [
          [
           0,
           "rgb(247,251,255)"
          ],
          [
           0.125,
           "rgb(222,235,247)"
          ],
          [
           0.25,
           "rgb(198,219,239)"
          ],
          [
           0.375,
           "rgb(158,202,225)"
          ],
          [
           0.5,
           "rgb(107,174,214)"
          ],
          [
           0.625,
           "rgb(66,146,198)"
          ],
          [
           0.75,
           "rgb(33,113,181)"
          ],
          [
           0.875,
           "rgb(8,81,156)"
          ],
          [
           1,
           "rgb(8,48,107)"
          ]
         ],
         "hoverinfo": "skip",
         "type": "heatmap",
         "x": [
          "predicted<br>Not Survived",
          "predicted<br>Survived"
         ],
         "y": [
          "actual<br>Not Survived",
          "actual<br>Survived"
         ],
         "z": [
          [
           109,
           13
          ],
          [
           21,
           57
          ]
         ],
         "zmax": 200,
         "zmin": 0
        }
       ],
       "layout": {
        "annotations": [
         {
          "font": {
           "size": 20
          },
          "showarrow": false,
          "text": "109",
          "x": "predicted<br>Not Survived",
          "y": "actual<br>Not Survived"
         },
         {
          "font": {
           "color": "black",
           "family": "Old Standard TT, Bold",
           "size": 90
          },
          "opacity": 0.05,
          "showarrow": false,
          "text": "TN",
          "x": "predicted<br>Not Survived",
          "y": "actual<br>Not Survived"
         },
         {
          "font": {
           "size": 20
          },
          "showarrow": false,
          "text": "13",
          "x": "predicted<br>Survived",
          "y": "actual<br>Not Survived"
         },
         {
          "font": {
           "color": "black",
           "family": "Old Standard TT, Bold",
           "size": 90
          },
          "opacity": 0.05,
          "showarrow": false,
          "text": "FP",
          "x": "predicted<br>Survived",
          "y": "actual<br>Not Survived"
         },
         {
          "font": {
           "size": 20
          },
          "showarrow": false,
          "text": "21",
          "x": "predicted<br>Not Survived",
          "y": "actual<br>Survived"
         },
         {
          "font": {
           "color": "black",
           "family": "Old Standard TT, Bold",
           "size": 90
          },
          "opacity": 0.05,
          "showarrow": false,
          "text": "FN",
          "x": "predicted<br>Not Survived",
          "y": "actual<br>Survived"
         },
         {
          "font": {
           "size": 20
          },
          "showarrow": false,
          "text": "57",
          "x": "predicted<br>Survived",
          "y": "actual<br>Survived"
         },
         {
          "font": {
           "color": "black",
           "family": "Old Standard TT, Bold",
           "size": 90
          },
          "opacity": 0.05,
          "showarrow": false,
          "text": "TP",
          "x": "predicted<br>Survived",
          "y": "actual<br>Survived"
         }
        ],
        "height": 450,
        "template": {
         "data": {
          "bar": [
           {
            "error_x": {
             "color": "#2a3f5f"
            },
            "error_y": {
             "color": "#2a3f5f"
            },
            "marker": {
             "line": {
              "color": "#E5ECF6",
              "width": 0.5
             }
            },
            "type": "bar"
           }
          ],
          "barpolar": [
           {
            "marker": {
             "line": {
              "color": "#E5ECF6",
              "width": 0.5
             }
            },
            "type": "barpolar"
           }
          ],
          "carpet": [
           {
            "aaxis": {
             "endlinecolor": "#2a3f5f",
             "gridcolor": "white",
             "linecolor": "white",
             "minorgridcolor": "white",
             "startlinecolor": "#2a3f5f"
            },
            "baxis": {
             "endlinecolor": "#2a3f5f",
             "gridcolor": "white",
             "linecolor": "white",
             "minorgridcolor": "white",
             "startlinecolor": "#2a3f5f"
            },
            "type": "carpet"
           }
          ],
          "choropleth": [
           {
            "colorbar": {
             "outlinewidth": 0,
             "ticks": ""
            },
            "type": "choropleth"
           }
          ],
          "contour": [
           {
            "colorbar": {
             "outlinewidth": 0,
             "ticks": ""
            },
            "colorscale": [
             [
              0,
              "#0d0887"
             ],
             [
              0.1111111111111111,
              "#46039f"
             ],
             [
              0.2222222222222222,
              "#7201a8"
             ],
             [
              0.3333333333333333,
              "#9c179e"
             ],
             [
              0.4444444444444444,
              "#bd3786"
             ],
             [
              0.5555555555555556,
              "#d8576b"
             ],
             [
              0.6666666666666666,
              "#ed7953"
             ],
             [
              0.7777777777777778,
              "#fb9f3a"
             ],
             [
              0.8888888888888888,
              "#fdca26"
             ],
             [
              1,
              "#f0f921"
             ]
            ],
            "type": "contour"
           }
          ],
          "contourcarpet": [
           {
            "colorbar": {
             "outlinewidth": 0,
             "ticks": ""
            },
            "type": "contourcarpet"
           }
          ],
          "heatmap": [
           {
            "colorbar": {
             "outlinewidth": 0,
             "ticks": ""
            },
            "colorscale": [
             [
              0,
              "#0d0887"
             ],
             [
              0.1111111111111111,
              "#46039f"
             ],
             [
              0.2222222222222222,
              "#7201a8"
             ],
             [
              0.3333333333333333,
              "#9c179e"
             ],
             [
              0.4444444444444444,
              "#bd3786"
             ],
             [
              0.5555555555555556,
              "#d8576b"
             ],
             [
              0.6666666666666666,
              "#ed7953"
             ],
             [
              0.7777777777777778,
              "#fb9f3a"
             ],
             [
              0.8888888888888888,
              "#fdca26"
             ],
             [
              1,
              "#f0f921"
             ]
            ],
            "type": "heatmap"
           }
          ],
          "heatmapgl": [
           {
            "colorbar": {
             "outlinewidth": 0,
             "ticks": ""
            },
            "colorscale": [
             [
              0,
              "#0d0887"
             ],
             [
              0.1111111111111111,
              "#46039f"
             ],
             [
              0.2222222222222222,
              "#7201a8"
             ],
             [
              0.3333333333333333,
              "#9c179e"
             ],
             [
              0.4444444444444444,
              "#bd3786"
             ],
             [
              0.5555555555555556,
              "#d8576b"
             ],
             [
              0.6666666666666666,
              "#ed7953"
             ],
             [
              0.7777777777777778,
              "#fb9f3a"
             ],
             [
              0.8888888888888888,
              "#fdca26"
             ],
             [
              1,
              "#f0f921"
             ]
            ],
            "type": "heatmapgl"
           }
          ],
          "histogram": [
           {
            "marker": {
             "colorbar": {
              "outlinewidth": 0,
              "ticks": ""
             }
            },
            "type": "histogram"
           }
          ],
          "histogram2d": [
           {
            "colorbar": {
             "outlinewidth": 0,
             "ticks": ""
            },
            "colorscale": [
             [
              0,
              "#0d0887"
             ],
             [
              0.1111111111111111,
              "#46039f"
             ],
             [
              0.2222222222222222,
              "#7201a8"
             ],
             [
              0.3333333333333333,
              "#9c179e"
             ],
             [
              0.4444444444444444,
              "#bd3786"
             ],
             [
              0.5555555555555556,
              "#d8576b"
             ],
             [
              0.6666666666666666,
              "#ed7953"
             ],
             [
              0.7777777777777778,
              "#fb9f3a"
             ],
             [
              0.8888888888888888,
              "#fdca26"
             ],
             [
              1,
              "#f0f921"
             ]
            ],
            "type": "histogram2d"
           }
          ],
          "histogram2dcontour": [
           {
            "colorbar": {
             "outlinewidth": 0,
             "ticks": ""
            },
            "colorscale": [
             [
              0,
              "#0d0887"
             ],
             [
              0.1111111111111111,
              "#46039f"
             ],
             [
              0.2222222222222222,
              "#7201a8"
             ],
             [
              0.3333333333333333,
              "#9c179e"
             ],
             [
              0.4444444444444444,
              "#bd3786"
             ],
             [
              0.5555555555555556,
              "#d8576b"
             ],
             [
              0.6666666666666666,
              "#ed7953"
             ],
             [
              0.7777777777777778,
              "#fb9f3a"
             ],
             [
              0.8888888888888888,
              "#fdca26"
             ],
             [
              1,
              "#f0f921"
             ]
            ],
            "type": "histogram2dcontour"
           }
          ],
          "mesh3d": [
           {
            "colorbar": {
             "outlinewidth": 0,
             "ticks": ""
            },
            "type": "mesh3d"
           }
          ],
          "parcoords": [
           {
            "line": {
             "colorbar": {
              "outlinewidth": 0,
              "ticks": ""
             }
            },
            "type": "parcoords"
           }
          ],
          "scatter": [
           {
            "marker": {
             "colorbar": {
              "outlinewidth": 0,
              "ticks": ""
             }
            },
            "type": "scatter"
           }
          ],
          "scatter3d": [
           {
            "line": {
             "colorbar": {
              "outlinewidth": 0,
              "ticks": ""
             }
            },
            "marker": {
             "colorbar": {
              "outlinewidth": 0,
              "ticks": ""
             }
            },
            "type": "scatter3d"
           }
          ],
          "scattercarpet": [
           {
            "marker": {
             "colorbar": {
              "outlinewidth": 0,
              "ticks": ""
             }
            },
            "type": "scattercarpet"
           }
          ],
          "scattergeo": [
           {
            "marker": {
             "colorbar": {
              "outlinewidth": 0,
              "ticks": ""
             }
            },
            "type": "scattergeo"
           }
          ],
          "scattergl": [
           {
            "marker": {
             "colorbar": {
              "outlinewidth": 0,
              "ticks": ""
             }
            },
            "type": "scattergl"
           }
          ],
          "scattermapbox": [
           {
            "marker": {
             "colorbar": {
              "outlinewidth": 0,
              "ticks": ""
             }
            },
            "type": "scattermapbox"
           }
          ],
          "scatterpolar": [
           {
            "marker": {
             "colorbar": {
              "outlinewidth": 0,
              "ticks": ""
             }
            },
            "type": "scatterpolar"
           }
          ],
          "scatterpolargl": [
           {
            "marker": {
             "colorbar": {
              "outlinewidth": 0,
              "ticks": ""
             }
            },
            "type": "scatterpolargl"
           }
          ],
          "scatterternary": [
           {
            "marker": {
             "colorbar": {
              "outlinewidth": 0,
              "ticks": ""
             }
            },
            "type": "scatterternary"
           }
          ],
          "surface": [
           {
            "colorbar": {
             "outlinewidth": 0,
             "ticks": ""
            },
            "colorscale": [
             [
              0,
              "#0d0887"
             ],
             [
              0.1111111111111111,
              "#46039f"
             ],
             [
              0.2222222222222222,
              "#7201a8"
             ],
             [
              0.3333333333333333,
              "#9c179e"
             ],
             [
              0.4444444444444444,
              "#bd3786"
             ],
             [
              0.5555555555555556,
              "#d8576b"
             ],
             [
              0.6666666666666666,
              "#ed7953"
             ],
             [
              0.7777777777777778,
              "#fb9f3a"
             ],
             [
              0.8888888888888888,
              "#fdca26"
             ],
             [
              1,
              "#f0f921"
             ]
            ],
            "type": "surface"
           }
          ],
          "table": [
           {
            "cells": {
             "fill": {
              "color": "#EBF0F8"
             },
             "line": {
              "color": "white"
             }
            },
            "header": {
             "fill": {
              "color": "#C8D4E3"
             },
             "line": {
              "color": "white"
             }
            },
            "type": "table"
           }
          ]
         },
         "layout": {
          "annotationdefaults": {
           "arrowcolor": "#2a3f5f",
           "arrowhead": 0,
           "arrowwidth": 1
          },
          "colorscale": {
           "diverging": [
            [
             0,
             "#8e0152"
            ],
            [
             0.1,
             "#c51b7d"
            ],
            [
             0.2,
             "#de77ae"
            ],
            [
             0.3,
             "#f1b6da"
            ],
            [
             0.4,
             "#fde0ef"
            ],
            [
             0.5,
             "#f7f7f7"
            ],
            [
             0.6,
             "#e6f5d0"
            ],
            [
             0.7,
             "#b8e186"
            ],
            [
             0.8,
             "#7fbc41"
            ],
            [
             0.9,
             "#4d9221"
            ],
            [
             1,
             "#276419"
            ]
           ],
           "sequential": [
            [
             0,
             "#0d0887"
            ],
            [
             0.1111111111111111,
             "#46039f"
            ],
            [
             0.2222222222222222,
             "#7201a8"
            ],
            [
             0.3333333333333333,
             "#9c179e"
            ],
            [
             0.4444444444444444,
             "#bd3786"
            ],
            [
             0.5555555555555556,
             "#d8576b"
            ],
            [
             0.6666666666666666,
             "#ed7953"
            ],
            [
             0.7777777777777778,
             "#fb9f3a"
            ],
            [
             0.8888888888888888,
             "#fdca26"
            ],
            [
             1,
             "#f0f921"
            ]
           ],
           "sequentialminus": [
            [
             0,
             "#0d0887"
            ],
            [
             0.1111111111111111,
             "#46039f"
            ],
            [
             0.2222222222222222,
             "#7201a8"
            ],
            [
             0.3333333333333333,
             "#9c179e"
            ],
            [
             0.4444444444444444,
             "#bd3786"
            ],
            [
             0.5555555555555556,
             "#d8576b"
            ],
            [
             0.6666666666666666,
             "#ed7953"
            ],
            [
             0.7777777777777778,
             "#fb9f3a"
            ],
            [
             0.8888888888888888,
             "#fdca26"
            ],
            [
             1,
             "#f0f921"
            ]
           ]
          },
          "colorway": [
           "#636efa",
           "#EF553B",
           "#00cc96",
           "#ab63fa",
           "#FFA15A",
           "#19d3f3",
           "#FF6692",
           "#B6E880",
           "#FF97FF",
           "#FECB52"
          ],
          "font": {
           "color": "#2a3f5f"
          },
          "geo": {
           "bgcolor": "white",
           "lakecolor": "white",
           "landcolor": "#E5ECF6",
           "showlakes": true,
           "showland": true,
           "subunitcolor": "white"
          },
          "hoverlabel": {
           "align": "left"
          },
          "hovermode": "closest",
          "mapbox": {
           "style": "light"
          },
          "paper_bgcolor": "white",
          "plot_bgcolor": "#E5ECF6",
          "polar": {
           "angularaxis": {
            "gridcolor": "white",
            "linecolor": "white",
            "ticks": ""
           },
           "bgcolor": "#E5ECF6",
           "radialaxis": {
            "gridcolor": "white",
            "linecolor": "white",
            "ticks": ""
           }
          },
          "scene": {
           "xaxis": {
            "backgroundcolor": "#E5ECF6",
            "gridcolor": "white",
            "gridwidth": 2,
            "linecolor": "white",
            "showbackground": true,
            "ticks": "",
            "zerolinecolor": "white"
           },
           "yaxis": {
            "backgroundcolor": "#E5ECF6",
            "gridcolor": "white",
            "gridwidth": 2,
            "linecolor": "white",
            "showbackground": true,
            "ticks": "",
            "zerolinecolor": "white"
           },
           "zaxis": {
            "backgroundcolor": "#E5ECF6",
            "gridcolor": "white",
            "gridwidth": 2,
            "linecolor": "white",
            "showbackground": true,
            "ticks": "",
            "zerolinecolor": "white"
           }
          },
          "shapedefaults": {
           "line": {
            "color": "#2a3f5f"
           }
          },
          "ternary": {
           "aaxis": {
            "gridcolor": "white",
            "linecolor": "white",
            "ticks": ""
           },
           "baxis": {
            "gridcolor": "white",
            "linecolor": "white",
            "ticks": ""
           },
           "bgcolor": "#E5ECF6",
           "caxis": {
            "gridcolor": "white",
            "linecolor": "white",
            "ticks": ""
           }
          },
          "title": {
           "x": 0.05
          },
          "xaxis": {
           "automargin": true,
           "gridcolor": "white",
           "linecolor": "white",
           "ticks": "",
           "zerolinecolor": "white",
           "zerolinewidth": 2
          },
          "yaxis": {
           "automargin": true,
           "gridcolor": "white",
           "linecolor": "white",
           "ticks": "",
           "zerolinecolor": "white",
           "zerolinewidth": 2
          }
         }
        },
        "title": {
         "text": "Confusion Matrix"
        },
        "width": 450,
        "xaxis": {
         "side": "top"
        },
        "yaxis": {
         "autorange": "reversed",
         "side": "left"
        }
       }
      },
      "text/html": [
       "<div>\n",
       "        \n",
       "        \n",
       "            <div id=\"93ee00b1-4e73-4fe9-b796-ac84e0430f67\" class=\"plotly-graph-div\" style=\"height:450px; width:450px;\"></div>\n",
       "            <script type=\"text/javascript\">\n",
       "                require([\"plotly\"], function(Plotly) {\n",
       "                    window.PLOTLYENV=window.PLOTLYENV || {};\n",
       "                    \n",
       "                if (document.getElementById(\"93ee00b1-4e73-4fe9-b796-ac84e0430f67\")) {\n",
       "                    Plotly.newPlot(\n",
       "                        '93ee00b1-4e73-4fe9-b796-ac84e0430f67',\n",
       "                        [{\"colorscale\": [[0.0, \"rgb(247,251,255)\"], [0.125, \"rgb(222,235,247)\"], [0.25, \"rgb(198,219,239)\"], [0.375, \"rgb(158,202,225)\"], [0.5, \"rgb(107,174,214)\"], [0.625, \"rgb(66,146,198)\"], [0.75, \"rgb(33,113,181)\"], [0.875, \"rgb(8,81,156)\"], [1.0, \"rgb(8,48,107)\"]], \"hoverinfo\": \"skip\", \"type\": \"heatmap\", \"x\": [\"predicted<br>Not Survived\", \"predicted<br>Survived\"], \"y\": [\"actual<br>Not Survived\", \"actual<br>Survived\"], \"z\": [[109, 13], [21, 57]], \"zmax\": 200, \"zmin\": 0}],\n",
       "                        {\"annotations\": [{\"font\": {\"size\": 20}, \"showarrow\": false, \"text\": \"109\", \"x\": \"predicted<br>Not Survived\", \"y\": \"actual<br>Not Survived\"}, {\"font\": {\"color\": \"black\", \"family\": \"Old Standard TT, Bold\", \"size\": 90}, \"opacity\": 0.05, \"showarrow\": false, \"text\": \"TN\", \"x\": \"predicted<br>Not Survived\", \"y\": \"actual<br>Not Survived\"}, {\"font\": {\"size\": 20}, \"showarrow\": false, \"text\": \"13\", \"x\": \"predicted<br>Survived\", \"y\": \"actual<br>Not Survived\"}, {\"font\": {\"color\": \"black\", \"family\": \"Old Standard TT, Bold\", \"size\": 90}, \"opacity\": 0.05, \"showarrow\": false, \"text\": \"FP\", \"x\": \"predicted<br>Survived\", \"y\": \"actual<br>Not Survived\"}, {\"font\": {\"size\": 20}, \"showarrow\": false, \"text\": \"21\", \"x\": \"predicted<br>Not Survived\", \"y\": \"actual<br>Survived\"}, {\"font\": {\"color\": \"black\", \"family\": \"Old Standard TT, Bold\", \"size\": 90}, \"opacity\": 0.05, \"showarrow\": false, \"text\": \"FN\", \"x\": \"predicted<br>Not Survived\", \"y\": \"actual<br>Survived\"}, {\"font\": {\"size\": 20}, \"showarrow\": false, \"text\": \"57\", \"x\": \"predicted<br>Survived\", \"y\": \"actual<br>Survived\"}, {\"font\": {\"color\": \"black\", \"family\": \"Old Standard TT, Bold\", \"size\": 90}, \"opacity\": 0.05, \"showarrow\": false, \"text\": \"TP\", \"x\": \"predicted<br>Survived\", \"y\": \"actual<br>Survived\"}], \"height\": 450, \"template\": {\"data\": {\"bar\": [{\"error_x\": {\"color\": \"#2a3f5f\"}, \"error_y\": {\"color\": \"#2a3f5f\"}, \"marker\": {\"line\": {\"color\": \"#E5ECF6\", \"width\": 0.5}}, \"type\": \"bar\"}], \"barpolar\": [{\"marker\": {\"line\": {\"color\": \"#E5ECF6\", \"width\": 0.5}}, \"type\": \"barpolar\"}], \"carpet\": [{\"aaxis\": {\"endlinecolor\": \"#2a3f5f\", \"gridcolor\": \"white\", \"linecolor\": \"white\", \"minorgridcolor\": \"white\", \"startlinecolor\": \"#2a3f5f\"}, \"baxis\": {\"endlinecolor\": \"#2a3f5f\", \"gridcolor\": \"white\", \"linecolor\": \"white\", \"minorgridcolor\": \"white\", \"startlinecolor\": \"#2a3f5f\"}, \"type\": \"carpet\"}], \"choropleth\": [{\"colorbar\": {\"outlinewidth\": 0, \"ticks\": \"\"}, \"type\": \"choropleth\"}], \"contour\": [{\"colorbar\": {\"outlinewidth\": 0, \"ticks\": \"\"}, \"colorscale\": [[0.0, \"#0d0887\"], [0.1111111111111111, \"#46039f\"], [0.2222222222222222, \"#7201a8\"], [0.3333333333333333, \"#9c179e\"], [0.4444444444444444, \"#bd3786\"], [0.5555555555555556, \"#d8576b\"], [0.6666666666666666, \"#ed7953\"], [0.7777777777777778, \"#fb9f3a\"], [0.8888888888888888, \"#fdca26\"], [1.0, \"#f0f921\"]], \"type\": \"contour\"}], \"contourcarpet\": [{\"colorbar\": {\"outlinewidth\": 0, \"ticks\": \"\"}, \"type\": \"contourcarpet\"}], \"heatmap\": [{\"colorbar\": {\"outlinewidth\": 0, \"ticks\": \"\"}, \"colorscale\": [[0.0, \"#0d0887\"], [0.1111111111111111, \"#46039f\"], [0.2222222222222222, \"#7201a8\"], [0.3333333333333333, \"#9c179e\"], [0.4444444444444444, \"#bd3786\"], [0.5555555555555556, \"#d8576b\"], [0.6666666666666666, \"#ed7953\"], [0.7777777777777778, \"#fb9f3a\"], [0.8888888888888888, \"#fdca26\"], [1.0, \"#f0f921\"]], \"type\": \"heatmap\"}], \"heatmapgl\": [{\"colorbar\": {\"outlinewidth\": 0, \"ticks\": \"\"}, \"colorscale\": [[0.0, \"#0d0887\"], [0.1111111111111111, \"#46039f\"], [0.2222222222222222, \"#7201a8\"], [0.3333333333333333, \"#9c179e\"], [0.4444444444444444, \"#bd3786\"], [0.5555555555555556, \"#d8576b\"], [0.6666666666666666, \"#ed7953\"], [0.7777777777777778, \"#fb9f3a\"], [0.8888888888888888, \"#fdca26\"], [1.0, \"#f0f921\"]], \"type\": \"heatmapgl\"}], \"histogram\": [{\"marker\": {\"colorbar\": {\"outlinewidth\": 0, \"ticks\": \"\"}}, \"type\": \"histogram\"}], \"histogram2d\": [{\"colorbar\": {\"outlinewidth\": 0, \"ticks\": \"\"}, \"colorscale\": [[0.0, \"#0d0887\"], [0.1111111111111111, \"#46039f\"], [0.2222222222222222, \"#7201a8\"], [0.3333333333333333, \"#9c179e\"], [0.4444444444444444, \"#bd3786\"], [0.5555555555555556, \"#d8576b\"], [0.6666666666666666, \"#ed7953\"], [0.7777777777777778, \"#fb9f3a\"], [0.8888888888888888, \"#fdca26\"], [1.0, \"#f0f921\"]], \"type\": \"histogram2d\"}], \"histogram2dcontour\": [{\"colorbar\": {\"outlinewidth\": 0, \"ticks\": \"\"}, \"colorscale\": [[0.0, \"#0d0887\"], [0.1111111111111111, \"#46039f\"], [0.2222222222222222, \"#7201a8\"], [0.3333333333333333, \"#9c179e\"], [0.4444444444444444, \"#bd3786\"], [0.5555555555555556, \"#d8576b\"], [0.6666666666666666, \"#ed7953\"], [0.7777777777777778, \"#fb9f3a\"], [0.8888888888888888, \"#fdca26\"], [1.0, \"#f0f921\"]], \"type\": \"histogram2dcontour\"}], \"mesh3d\": [{\"colorbar\": {\"outlinewidth\": 0, \"ticks\": \"\"}, \"type\": \"mesh3d\"}], \"parcoords\": [{\"line\": {\"colorbar\": {\"outlinewidth\": 0, \"ticks\": \"\"}}, \"type\": \"parcoords\"}], \"scatter\": [{\"marker\": {\"colorbar\": {\"outlinewidth\": 0, \"ticks\": \"\"}}, \"type\": \"scatter\"}], \"scatter3d\": [{\"line\": {\"colorbar\": {\"outlinewidth\": 0, \"ticks\": \"\"}}, \"marker\": {\"colorbar\": {\"outlinewidth\": 0, \"ticks\": \"\"}}, \"type\": \"scatter3d\"}], \"scattercarpet\": [{\"marker\": {\"colorbar\": {\"outlinewidth\": 0, \"ticks\": \"\"}}, \"type\": \"scattercarpet\"}], \"scattergeo\": [{\"marker\": {\"colorbar\": {\"outlinewidth\": 0, \"ticks\": \"\"}}, \"type\": \"scattergeo\"}], \"scattergl\": [{\"marker\": {\"colorbar\": {\"outlinewidth\": 0, \"ticks\": \"\"}}, \"type\": \"scattergl\"}], \"scattermapbox\": [{\"marker\": {\"colorbar\": {\"outlinewidth\": 0, \"ticks\": \"\"}}, \"type\": \"scattermapbox\"}], \"scatterpolar\": [{\"marker\": {\"colorbar\": {\"outlinewidth\": 0, \"ticks\": \"\"}}, \"type\": \"scatterpolar\"}], \"scatterpolargl\": [{\"marker\": {\"colorbar\": {\"outlinewidth\": 0, \"ticks\": \"\"}}, \"type\": \"scatterpolargl\"}], \"scatterternary\": [{\"marker\": {\"colorbar\": {\"outlinewidth\": 0, \"ticks\": \"\"}}, \"type\": \"scatterternary\"}], \"surface\": [{\"colorbar\": {\"outlinewidth\": 0, \"ticks\": \"\"}, \"colorscale\": [[0.0, \"#0d0887\"], [0.1111111111111111, \"#46039f\"], [0.2222222222222222, \"#7201a8\"], [0.3333333333333333, \"#9c179e\"], [0.4444444444444444, \"#bd3786\"], [0.5555555555555556, \"#d8576b\"], [0.6666666666666666, \"#ed7953\"], [0.7777777777777778, \"#fb9f3a\"], [0.8888888888888888, \"#fdca26\"], [1.0, \"#f0f921\"]], \"type\": \"surface\"}], \"table\": [{\"cells\": {\"fill\": {\"color\": \"#EBF0F8\"}, \"line\": {\"color\": \"white\"}}, \"header\": {\"fill\": {\"color\": \"#C8D4E3\"}, \"line\": {\"color\": \"white\"}}, \"type\": \"table\"}]}, \"layout\": {\"annotationdefaults\": {\"arrowcolor\": \"#2a3f5f\", \"arrowhead\": 0, \"arrowwidth\": 1}, \"colorscale\": {\"diverging\": [[0, \"#8e0152\"], [0.1, \"#c51b7d\"], [0.2, \"#de77ae\"], [0.3, \"#f1b6da\"], [0.4, \"#fde0ef\"], [0.5, \"#f7f7f7\"], [0.6, \"#e6f5d0\"], [0.7, \"#b8e186\"], [0.8, \"#7fbc41\"], [0.9, \"#4d9221\"], [1, \"#276419\"]], \"sequential\": [[0.0, \"#0d0887\"], [0.1111111111111111, \"#46039f\"], [0.2222222222222222, \"#7201a8\"], [0.3333333333333333, \"#9c179e\"], [0.4444444444444444, \"#bd3786\"], [0.5555555555555556, \"#d8576b\"], [0.6666666666666666, \"#ed7953\"], [0.7777777777777778, \"#fb9f3a\"], [0.8888888888888888, \"#fdca26\"], [1.0, \"#f0f921\"]], \"sequentialminus\": [[0.0, \"#0d0887\"], [0.1111111111111111, \"#46039f\"], [0.2222222222222222, \"#7201a8\"], [0.3333333333333333, \"#9c179e\"], [0.4444444444444444, \"#bd3786\"], [0.5555555555555556, \"#d8576b\"], [0.6666666666666666, \"#ed7953\"], [0.7777777777777778, \"#fb9f3a\"], [0.8888888888888888, \"#fdca26\"], [1.0, \"#f0f921\"]]}, \"colorway\": [\"#636efa\", \"#EF553B\", \"#00cc96\", \"#ab63fa\", \"#FFA15A\", \"#19d3f3\", \"#FF6692\", \"#B6E880\", \"#FF97FF\", \"#FECB52\"], \"font\": {\"color\": \"#2a3f5f\"}, \"geo\": {\"bgcolor\": \"white\", \"lakecolor\": \"white\", \"landcolor\": \"#E5ECF6\", \"showlakes\": true, \"showland\": true, \"subunitcolor\": \"white\"}, \"hoverlabel\": {\"align\": \"left\"}, \"hovermode\": \"closest\", \"mapbox\": {\"style\": \"light\"}, \"paper_bgcolor\": \"white\", \"plot_bgcolor\": \"#E5ECF6\", \"polar\": {\"angularaxis\": {\"gridcolor\": \"white\", \"linecolor\": \"white\", \"ticks\": \"\"}, \"bgcolor\": \"#E5ECF6\", \"radialaxis\": {\"gridcolor\": \"white\", \"linecolor\": \"white\", \"ticks\": \"\"}}, \"scene\": {\"xaxis\": {\"backgroundcolor\": \"#E5ECF6\", \"gridcolor\": \"white\", \"gridwidth\": 2, \"linecolor\": \"white\", \"showbackground\": true, \"ticks\": \"\", \"zerolinecolor\": \"white\"}, \"yaxis\": {\"backgroundcolor\": \"#E5ECF6\", \"gridcolor\": \"white\", \"gridwidth\": 2, \"linecolor\": \"white\", \"showbackground\": true, \"ticks\": \"\", \"zerolinecolor\": \"white\"}, \"zaxis\": {\"backgroundcolor\": \"#E5ECF6\", \"gridcolor\": \"white\", \"gridwidth\": 2, \"linecolor\": \"white\", \"showbackground\": true, \"ticks\": \"\", \"zerolinecolor\": \"white\"}}, \"shapedefaults\": {\"line\": {\"color\": \"#2a3f5f\"}}, \"ternary\": {\"aaxis\": {\"gridcolor\": \"white\", \"linecolor\": \"white\", \"ticks\": \"\"}, \"baxis\": {\"gridcolor\": \"white\", \"linecolor\": \"white\", \"ticks\": \"\"}, \"bgcolor\": \"#E5ECF6\", \"caxis\": {\"gridcolor\": \"white\", \"linecolor\": \"white\", \"ticks\": \"\"}}, \"title\": {\"x\": 0.05}, \"xaxis\": {\"automargin\": true, \"gridcolor\": \"white\", \"linecolor\": \"white\", \"ticks\": \"\", \"zerolinecolor\": \"white\", \"zerolinewidth\": 2}, \"yaxis\": {\"automargin\": true, \"gridcolor\": \"white\", \"linecolor\": \"white\", \"ticks\": \"\", \"zerolinecolor\": \"white\", \"zerolinewidth\": 2}}}, \"title\": {\"text\": \"Confusion Matrix\"}, \"width\": 450, \"xaxis\": {\"side\": \"top\"}, \"yaxis\": {\"autorange\": \"reversed\", \"side\": \"left\"}},\n",
       "                        {\"responsive\": true}\n",
       "                    ).then(function(){\n",
       "                            \n",
       "var gd = document.getElementById('93ee00b1-4e73-4fe9-b796-ac84e0430f67');\n",
       "var x = new MutationObserver(function (mutations, observer) {{\n",
       "        var display = window.getComputedStyle(gd).display;\n",
       "        if (!display || display === 'none') {{\n",
       "            console.log([gd, 'removed!']);\n",
       "            Plotly.purge(gd);\n",
       "            observer.disconnect();\n",
       "        }}\n",
       "}});\n",
       "\n",
       "// Listen for the removal of the full notebook cells\n",
       "var notebookContainer = gd.closest('#notebook-container');\n",
       "if (notebookContainer) {{\n",
       "    x.observe(notebookContainer, {childList: true});\n",
       "}}\n",
       "\n",
       "// Listen for the clearing of the current output cell\n",
       "var outputEl = gd.closest('.output');\n",
       "if (outputEl) {{\n",
       "    x.observe(outputEl, {childList: true});\n",
       "}}\n",
       "\n",
       "                        })\n",
       "                };\n",
       "                });\n",
       "            </script>\n",
       "        </div>"
      ]
     },
     "metadata": {},
     "output_type": "display_data"
    }
   ],
   "source": [
    "explainer.plot_confusion_matrix()"
   ]
  },
  {
   "cell_type": "code",
   "execution_count": 120,
   "metadata": {
    "collapsed": false
   },
   "outputs": [
    {
     "data": {
      "application/vnd.plotly.v1+json": {
       "config": {
        "plotlyServerURL": "https://plot.ly"
       },
       "data": [
        {
         "name": "counts",
         "type": "bar",
         "x": [
          0.05,
          0.15000000000000002,
          0.25,
          0.35000000000000003,
          0.45,
          0.55,
          0.6500000000000001,
          0.75,
          0.8500000000000001,
          0.95
         ],
         "y": [
          40,
          39,
          20,
          20,
          11,
          10,
          11,
          11,
          8,
          30
         ]
        },
        {
         "name": "percentage positive",
         "type": "scatter",
         "x": [
          0.05,
          0.15000000000000002,
          0.25,
          0.35000000000000003,
          0.45,
          0.55,
          0.6500000000000001,
          0.75,
          0.8500000000000001,
          0.95
         ],
         "y": [
          0.1,
          0.05128205128205128,
          0.1,
          0.35,
          0.5454545454545454,
          0.7,
          0.45454545454545453,
          0.9090909090909091,
          0.875,
          0.9333333333333333
         ],
         "yaxis": "y2"
        }
       ],
       "layout": {
        "annotations": [
         {
          "text": "cutoff=0.5",
          "x": 0.5,
          "y": 0.1,
          "yref": "y2"
         }
        ],
        "shapes": [
         {
          "type": "line",
          "x0": 0.5,
          "x1": 0.5,
          "xref": "x",
          "y0": 0,
          "y1": 1,
          "yref": "y2"
         }
        ],
        "template": {
         "data": {
          "bar": [
           {
            "error_x": {
             "color": "#2a3f5f"
            },
            "error_y": {
             "color": "#2a3f5f"
            },
            "marker": {
             "line": {
              "color": "#E5ECF6",
              "width": 0.5
             }
            },
            "type": "bar"
           }
          ],
          "barpolar": [
           {
            "marker": {
             "line": {
              "color": "#E5ECF6",
              "width": 0.5
             }
            },
            "type": "barpolar"
           }
          ],
          "carpet": [
           {
            "aaxis": {
             "endlinecolor": "#2a3f5f",
             "gridcolor": "white",
             "linecolor": "white",
             "minorgridcolor": "white",
             "startlinecolor": "#2a3f5f"
            },
            "baxis": {
             "endlinecolor": "#2a3f5f",
             "gridcolor": "white",
             "linecolor": "white",
             "minorgridcolor": "white",
             "startlinecolor": "#2a3f5f"
            },
            "type": "carpet"
           }
          ],
          "choropleth": [
           {
            "colorbar": {
             "outlinewidth": 0,
             "ticks": ""
            },
            "type": "choropleth"
           }
          ],
          "contour": [
           {
            "colorbar": {
             "outlinewidth": 0,
             "ticks": ""
            },
            "colorscale": [
             [
              0,
              "#0d0887"
             ],
             [
              0.1111111111111111,
              "#46039f"
             ],
             [
              0.2222222222222222,
              "#7201a8"
             ],
             [
              0.3333333333333333,
              "#9c179e"
             ],
             [
              0.4444444444444444,
              "#bd3786"
             ],
             [
              0.5555555555555556,
              "#d8576b"
             ],
             [
              0.6666666666666666,
              "#ed7953"
             ],
             [
              0.7777777777777778,
              "#fb9f3a"
             ],
             [
              0.8888888888888888,
              "#fdca26"
             ],
             [
              1,
              "#f0f921"
             ]
            ],
            "type": "contour"
           }
          ],
          "contourcarpet": [
           {
            "colorbar": {
             "outlinewidth": 0,
             "ticks": ""
            },
            "type": "contourcarpet"
           }
          ],
          "heatmap": [
           {
            "colorbar": {
             "outlinewidth": 0,
             "ticks": ""
            },
            "colorscale": [
             [
              0,
              "#0d0887"
             ],
             [
              0.1111111111111111,
              "#46039f"
             ],
             [
              0.2222222222222222,
              "#7201a8"
             ],
             [
              0.3333333333333333,
              "#9c179e"
             ],
             [
              0.4444444444444444,
              "#bd3786"
             ],
             [
              0.5555555555555556,
              "#d8576b"
             ],
             [
              0.6666666666666666,
              "#ed7953"
             ],
             [
              0.7777777777777778,
              "#fb9f3a"
             ],
             [
              0.8888888888888888,
              "#fdca26"
             ],
             [
              1,
              "#f0f921"
             ]
            ],
            "type": "heatmap"
           }
          ],
          "heatmapgl": [
           {
            "colorbar": {
             "outlinewidth": 0,
             "ticks": ""
            },
            "colorscale": [
             [
              0,
              "#0d0887"
             ],
             [
              0.1111111111111111,
              "#46039f"
             ],
             [
              0.2222222222222222,
              "#7201a8"
             ],
             [
              0.3333333333333333,
              "#9c179e"
             ],
             [
              0.4444444444444444,
              "#bd3786"
             ],
             [
              0.5555555555555556,
              "#d8576b"
             ],
             [
              0.6666666666666666,
              "#ed7953"
             ],
             [
              0.7777777777777778,
              "#fb9f3a"
             ],
             [
              0.8888888888888888,
              "#fdca26"
             ],
             [
              1,
              "#f0f921"
             ]
            ],
            "type": "heatmapgl"
           }
          ],
          "histogram": [
           {
            "marker": {
             "colorbar": {
              "outlinewidth": 0,
              "ticks": ""
             }
            },
            "type": "histogram"
           }
          ],
          "histogram2d": [
           {
            "colorbar": {
             "outlinewidth": 0,
             "ticks": ""
            },
            "colorscale": [
             [
              0,
              "#0d0887"
             ],
             [
              0.1111111111111111,
              "#46039f"
             ],
             [
              0.2222222222222222,
              "#7201a8"
             ],
             [
              0.3333333333333333,
              "#9c179e"
             ],
             [
              0.4444444444444444,
              "#bd3786"
             ],
             [
              0.5555555555555556,
              "#d8576b"
             ],
             [
              0.6666666666666666,
              "#ed7953"
             ],
             [
              0.7777777777777778,
              "#fb9f3a"
             ],
             [
              0.8888888888888888,
              "#fdca26"
             ],
             [
              1,
              "#f0f921"
             ]
            ],
            "type": "histogram2d"
           }
          ],
          "histogram2dcontour": [
           {
            "colorbar": {
             "outlinewidth": 0,
             "ticks": ""
            },
            "colorscale": [
             [
              0,
              "#0d0887"
             ],
             [
              0.1111111111111111,
              "#46039f"
             ],
             [
              0.2222222222222222,
              "#7201a8"
             ],
             [
              0.3333333333333333,
              "#9c179e"
             ],
             [
              0.4444444444444444,
              "#bd3786"
             ],
             [
              0.5555555555555556,
              "#d8576b"
             ],
             [
              0.6666666666666666,
              "#ed7953"
             ],
             [
              0.7777777777777778,
              "#fb9f3a"
             ],
             [
              0.8888888888888888,
              "#fdca26"
             ],
             [
              1,
              "#f0f921"
             ]
            ],
            "type": "histogram2dcontour"
           }
          ],
          "mesh3d": [
           {
            "colorbar": {
             "outlinewidth": 0,
             "ticks": ""
            },
            "type": "mesh3d"
           }
          ],
          "parcoords": [
           {
            "line": {
             "colorbar": {
              "outlinewidth": 0,
              "ticks": ""
             }
            },
            "type": "parcoords"
           }
          ],
          "scatter": [
           {
            "marker": {
             "colorbar": {
              "outlinewidth": 0,
              "ticks": ""
             }
            },
            "type": "scatter"
           }
          ],
          "scatter3d": [
           {
            "line": {
             "colorbar": {
              "outlinewidth": 0,
              "ticks": ""
             }
            },
            "marker": {
             "colorbar": {
              "outlinewidth": 0,
              "ticks": ""
             }
            },
            "type": "scatter3d"
           }
          ],
          "scattercarpet": [
           {
            "marker": {
             "colorbar": {
              "outlinewidth": 0,
              "ticks": ""
             }
            },
            "type": "scattercarpet"
           }
          ],
          "scattergeo": [
           {
            "marker": {
             "colorbar": {
              "outlinewidth": 0,
              "ticks": ""
             }
            },
            "type": "scattergeo"
           }
          ],
          "scattergl": [
           {
            "marker": {
             "colorbar": {
              "outlinewidth": 0,
              "ticks": ""
             }
            },
            "type": "scattergl"
           }
          ],
          "scattermapbox": [
           {
            "marker": {
             "colorbar": {
              "outlinewidth": 0,
              "ticks": ""
             }
            },
            "type": "scattermapbox"
           }
          ],
          "scatterpolar": [
           {
            "marker": {
             "colorbar": {
              "outlinewidth": 0,
              "ticks": ""
             }
            },
            "type": "scatterpolar"
           }
          ],
          "scatterpolargl": [
           {
            "marker": {
             "colorbar": {
              "outlinewidth": 0,
              "ticks": ""
             }
            },
            "type": "scatterpolargl"
           }
          ],
          "scatterternary": [
           {
            "marker": {
             "colorbar": {
              "outlinewidth": 0,
              "ticks": ""
             }
            },
            "type": "scatterternary"
           }
          ],
          "surface": [
           {
            "colorbar": {
             "outlinewidth": 0,
             "ticks": ""
            },
            "colorscale": [
             [
              0,
              "#0d0887"
             ],
             [
              0.1111111111111111,
              "#46039f"
             ],
             [
              0.2222222222222222,
              "#7201a8"
             ],
             [
              0.3333333333333333,
              "#9c179e"
             ],
             [
              0.4444444444444444,
              "#bd3786"
             ],
             [
              0.5555555555555556,
              "#d8576b"
             ],
             [
              0.6666666666666666,
              "#ed7953"
             ],
             [
              0.7777777777777778,
              "#fb9f3a"
             ],
             [
              0.8888888888888888,
              "#fdca26"
             ],
             [
              1,
              "#f0f921"
             ]
            ],
            "type": "surface"
           }
          ],
          "table": [
           {
            "cells": {
             "fill": {
              "color": "#EBF0F8"
             },
             "line": {
              "color": "white"
             }
            },
            "header": {
             "fill": {
              "color": "#C8D4E3"
             },
             "line": {
              "color": "white"
             }
            },
            "type": "table"
           }
          ]
         },
         "layout": {
          "annotationdefaults": {
           "arrowcolor": "#2a3f5f",
           "arrowhead": 0,
           "arrowwidth": 1
          },
          "colorscale": {
           "diverging": [
            [
             0,
             "#8e0152"
            ],
            [
             0.1,
             "#c51b7d"
            ],
            [
             0.2,
             "#de77ae"
            ],
            [
             0.3,
             "#f1b6da"
            ],
            [
             0.4,
             "#fde0ef"
            ],
            [
             0.5,
             "#f7f7f7"
            ],
            [
             0.6,
             "#e6f5d0"
            ],
            [
             0.7,
             "#b8e186"
            ],
            [
             0.8,
             "#7fbc41"
            ],
            [
             0.9,
             "#4d9221"
            ],
            [
             1,
             "#276419"
            ]
           ],
           "sequential": [
            [
             0,
             "#0d0887"
            ],
            [
             0.1111111111111111,
             "#46039f"
            ],
            [
             0.2222222222222222,
             "#7201a8"
            ],
            [
             0.3333333333333333,
             "#9c179e"
            ],
            [
             0.4444444444444444,
             "#bd3786"
            ],
            [
             0.5555555555555556,
             "#d8576b"
            ],
            [
             0.6666666666666666,
             "#ed7953"
            ],
            [
             0.7777777777777778,
             "#fb9f3a"
            ],
            [
             0.8888888888888888,
             "#fdca26"
            ],
            [
             1,
             "#f0f921"
            ]
           ],
           "sequentialminus": [
            [
             0,
             "#0d0887"
            ],
            [
             0.1111111111111111,
             "#46039f"
            ],
            [
             0.2222222222222222,
             "#7201a8"
            ],
            [
             0.3333333333333333,
             "#9c179e"
            ],
            [
             0.4444444444444444,
             "#bd3786"
            ],
            [
             0.5555555555555556,
             "#d8576b"
            ],
            [
             0.6666666666666666,
             "#ed7953"
            ],
            [
             0.7777777777777778,
             "#fb9f3a"
            ],
            [
             0.8888888888888888,
             "#fdca26"
            ],
            [
             1,
             "#f0f921"
            ]
           ]
          },
          "colorway": [
           "#636efa",
           "#EF553B",
           "#00cc96",
           "#ab63fa",
           "#FFA15A",
           "#19d3f3",
           "#FF6692",
           "#B6E880",
           "#FF97FF",
           "#FECB52"
          ],
          "font": {
           "color": "#2a3f5f"
          },
          "geo": {
           "bgcolor": "white",
           "lakecolor": "white",
           "landcolor": "#E5ECF6",
           "showlakes": true,
           "showland": true,
           "subunitcolor": "white"
          },
          "hoverlabel": {
           "align": "left"
          },
          "hovermode": "closest",
          "mapbox": {
           "style": "light"
          },
          "paper_bgcolor": "white",
          "plot_bgcolor": "#E5ECF6",
          "polar": {
           "angularaxis": {
            "gridcolor": "white",
            "linecolor": "white",
            "ticks": ""
           },
           "bgcolor": "#E5ECF6",
           "radialaxis": {
            "gridcolor": "white",
            "linecolor": "white",
            "ticks": ""
           }
          },
          "scene": {
           "xaxis": {
            "backgroundcolor": "#E5ECF6",
            "gridcolor": "white",
            "gridwidth": 2,
            "linecolor": "white",
            "showbackground": true,
            "ticks": "",
            "zerolinecolor": "white"
           },
           "yaxis": {
            "backgroundcolor": "#E5ECF6",
            "gridcolor": "white",
            "gridwidth": 2,
            "linecolor": "white",
            "showbackground": true,
            "ticks": "",
            "zerolinecolor": "white"
           },
           "zaxis": {
            "backgroundcolor": "#E5ECF6",
            "gridcolor": "white",
            "gridwidth": 2,
            "linecolor": "white",
            "showbackground": true,
            "ticks": "",
            "zerolinecolor": "white"
           }
          },
          "shapedefaults": {
           "line": {
            "color": "#2a3f5f"
           }
          },
          "ternary": {
           "aaxis": {
            "gridcolor": "white",
            "linecolor": "white",
            "ticks": ""
           },
           "baxis": {
            "gridcolor": "white",
            "linecolor": "white",
            "ticks": ""
           },
           "bgcolor": "#E5ECF6",
           "caxis": {
            "gridcolor": "white",
            "linecolor": "white",
            "ticks": ""
           }
          },
          "title": {
           "x": 0.05
          },
          "xaxis": {
           "automargin": true,
           "gridcolor": "white",
           "linecolor": "white",
           "ticks": "",
           "zerolinecolor": "white",
           "zerolinewidth": 2
          },
          "yaxis": {
           "automargin": true,
           "gridcolor": "white",
           "linecolor": "white",
           "ticks": "",
           "zerolinecolor": "white",
           "zerolinewidth": 2
          }
         }
        },
        "title": {
         "text": "percentage positive vs predicted probability"
        },
        "xaxis": {
         "title": {
          "text": "predicted probability"
         }
        },
        "yaxis": {
         "title": {
          "text": "counts"
         }
        },
        "yaxis2": {
         "overlaying": "y",
         "rangemode": "tozero",
         "side": "right",
         "tickfont": {
          "color": "rgb(148, 103, 189)"
         },
         "title": {
          "font": {
           "color": "rgb(148, 103, 189)"
          },
          "text": "percentage positive"
         }
        }
       }
      },
      "text/html": [
       "<div>\n",
       "        \n",
       "        \n",
       "            <div id=\"40c41d0a-5fad-4221-a275-377260649f8f\" class=\"plotly-graph-div\" style=\"height:525px; width:100%;\"></div>\n",
       "            <script type=\"text/javascript\">\n",
       "                require([\"plotly\"], function(Plotly) {\n",
       "                    window.PLOTLYENV=window.PLOTLYENV || {};\n",
       "                    \n",
       "                if (document.getElementById(\"40c41d0a-5fad-4221-a275-377260649f8f\")) {\n",
       "                    Plotly.newPlot(\n",
       "                        '40c41d0a-5fad-4221-a275-377260649f8f',\n",
       "                        [{\"name\": \"counts\", \"type\": \"bar\", \"x\": [0.05, 0.15000000000000002, 0.25, 0.35000000000000003, 0.45, 0.55, 0.6500000000000001, 0.75, 0.8500000000000001, 0.95], \"y\": [40, 39, 20, 20, 11, 10, 11, 11, 8, 30]}, {\"name\": \"percentage positive\", \"type\": \"scatter\", \"x\": [0.05, 0.15000000000000002, 0.25, 0.35000000000000003, 0.45, 0.55, 0.6500000000000001, 0.75, 0.8500000000000001, 0.95], \"y\": [0.1, 0.05128205128205128, 0.1, 0.35, 0.5454545454545454, 0.7, 0.45454545454545453, 0.9090909090909091, 0.875, 0.9333333333333333], \"yaxis\": \"y2\"}],\n",
       "                        {\"annotations\": [{\"text\": \"cutoff=0.5\", \"x\": 0.5, \"y\": 0.1, \"yref\": \"y2\"}], \"shapes\": [{\"type\": \"line\", \"x0\": 0.5, \"x1\": 0.5, \"xref\": \"x\", \"y0\": 0, \"y1\": 1.0, \"yref\": \"y2\"}], \"template\": {\"data\": {\"bar\": [{\"error_x\": {\"color\": \"#2a3f5f\"}, \"error_y\": {\"color\": \"#2a3f5f\"}, \"marker\": {\"line\": {\"color\": \"#E5ECF6\", \"width\": 0.5}}, \"type\": \"bar\"}], \"barpolar\": [{\"marker\": {\"line\": {\"color\": \"#E5ECF6\", \"width\": 0.5}}, \"type\": \"barpolar\"}], \"carpet\": [{\"aaxis\": {\"endlinecolor\": \"#2a3f5f\", \"gridcolor\": \"white\", \"linecolor\": \"white\", \"minorgridcolor\": \"white\", \"startlinecolor\": \"#2a3f5f\"}, \"baxis\": {\"endlinecolor\": \"#2a3f5f\", \"gridcolor\": \"white\", \"linecolor\": \"white\", \"minorgridcolor\": \"white\", \"startlinecolor\": \"#2a3f5f\"}, \"type\": \"carpet\"}], \"choropleth\": [{\"colorbar\": {\"outlinewidth\": 0, \"ticks\": \"\"}, \"type\": \"choropleth\"}], \"contour\": [{\"colorbar\": {\"outlinewidth\": 0, \"ticks\": \"\"}, \"colorscale\": [[0.0, \"#0d0887\"], [0.1111111111111111, \"#46039f\"], [0.2222222222222222, \"#7201a8\"], [0.3333333333333333, \"#9c179e\"], [0.4444444444444444, \"#bd3786\"], [0.5555555555555556, \"#d8576b\"], [0.6666666666666666, \"#ed7953\"], [0.7777777777777778, \"#fb9f3a\"], [0.8888888888888888, \"#fdca26\"], [1.0, \"#f0f921\"]], \"type\": \"contour\"}], \"contourcarpet\": [{\"colorbar\": {\"outlinewidth\": 0, \"ticks\": \"\"}, \"type\": \"contourcarpet\"}], \"heatmap\": [{\"colorbar\": {\"outlinewidth\": 0, \"ticks\": \"\"}, \"colorscale\": [[0.0, \"#0d0887\"], [0.1111111111111111, \"#46039f\"], [0.2222222222222222, \"#7201a8\"], [0.3333333333333333, \"#9c179e\"], [0.4444444444444444, \"#bd3786\"], [0.5555555555555556, \"#d8576b\"], [0.6666666666666666, \"#ed7953\"], [0.7777777777777778, \"#fb9f3a\"], [0.8888888888888888, \"#fdca26\"], [1.0, \"#f0f921\"]], \"type\": \"heatmap\"}], \"heatmapgl\": [{\"colorbar\": {\"outlinewidth\": 0, \"ticks\": \"\"}, \"colorscale\": [[0.0, \"#0d0887\"], [0.1111111111111111, \"#46039f\"], [0.2222222222222222, \"#7201a8\"], [0.3333333333333333, \"#9c179e\"], [0.4444444444444444, \"#bd3786\"], [0.5555555555555556, \"#d8576b\"], [0.6666666666666666, \"#ed7953\"], [0.7777777777777778, \"#fb9f3a\"], [0.8888888888888888, \"#fdca26\"], [1.0, \"#f0f921\"]], \"type\": \"heatmapgl\"}], \"histogram\": [{\"marker\": {\"colorbar\": {\"outlinewidth\": 0, \"ticks\": \"\"}}, \"type\": \"histogram\"}], \"histogram2d\": [{\"colorbar\": {\"outlinewidth\": 0, \"ticks\": \"\"}, \"colorscale\": [[0.0, \"#0d0887\"], [0.1111111111111111, \"#46039f\"], [0.2222222222222222, \"#7201a8\"], [0.3333333333333333, \"#9c179e\"], [0.4444444444444444, \"#bd3786\"], [0.5555555555555556, \"#d8576b\"], [0.6666666666666666, \"#ed7953\"], [0.7777777777777778, \"#fb9f3a\"], [0.8888888888888888, \"#fdca26\"], [1.0, \"#f0f921\"]], \"type\": \"histogram2d\"}], \"histogram2dcontour\": [{\"colorbar\": {\"outlinewidth\": 0, \"ticks\": \"\"}, \"colorscale\": [[0.0, \"#0d0887\"], [0.1111111111111111, \"#46039f\"], [0.2222222222222222, \"#7201a8\"], [0.3333333333333333, \"#9c179e\"], [0.4444444444444444, \"#bd3786\"], [0.5555555555555556, \"#d8576b\"], [0.6666666666666666, \"#ed7953\"], [0.7777777777777778, \"#fb9f3a\"], [0.8888888888888888, \"#fdca26\"], [1.0, \"#f0f921\"]], \"type\": \"histogram2dcontour\"}], \"mesh3d\": [{\"colorbar\": {\"outlinewidth\": 0, \"ticks\": \"\"}, \"type\": \"mesh3d\"}], \"parcoords\": [{\"line\": {\"colorbar\": {\"outlinewidth\": 0, \"ticks\": \"\"}}, \"type\": \"parcoords\"}], \"scatter\": [{\"marker\": {\"colorbar\": {\"outlinewidth\": 0, \"ticks\": \"\"}}, \"type\": \"scatter\"}], \"scatter3d\": [{\"line\": {\"colorbar\": {\"outlinewidth\": 0, \"ticks\": \"\"}}, \"marker\": {\"colorbar\": {\"outlinewidth\": 0, \"ticks\": \"\"}}, \"type\": \"scatter3d\"}], \"scattercarpet\": [{\"marker\": {\"colorbar\": {\"outlinewidth\": 0, \"ticks\": \"\"}}, \"type\": \"scattercarpet\"}], \"scattergeo\": [{\"marker\": {\"colorbar\": {\"outlinewidth\": 0, \"ticks\": \"\"}}, \"type\": \"scattergeo\"}], \"scattergl\": [{\"marker\": {\"colorbar\": {\"outlinewidth\": 0, \"ticks\": \"\"}}, \"type\": \"scattergl\"}], \"scattermapbox\": [{\"marker\": {\"colorbar\": {\"outlinewidth\": 0, \"ticks\": \"\"}}, \"type\": \"scattermapbox\"}], \"scatterpolar\": [{\"marker\": {\"colorbar\": {\"outlinewidth\": 0, \"ticks\": \"\"}}, \"type\": \"scatterpolar\"}], \"scatterpolargl\": [{\"marker\": {\"colorbar\": {\"outlinewidth\": 0, \"ticks\": \"\"}}, \"type\": \"scatterpolargl\"}], \"scatterternary\": [{\"marker\": {\"colorbar\": {\"outlinewidth\": 0, \"ticks\": \"\"}}, \"type\": \"scatterternary\"}], \"surface\": [{\"colorbar\": {\"outlinewidth\": 0, \"ticks\": \"\"}, \"colorscale\": [[0.0, \"#0d0887\"], [0.1111111111111111, \"#46039f\"], [0.2222222222222222, \"#7201a8\"], [0.3333333333333333, \"#9c179e\"], [0.4444444444444444, \"#bd3786\"], [0.5555555555555556, \"#d8576b\"], [0.6666666666666666, \"#ed7953\"], [0.7777777777777778, \"#fb9f3a\"], [0.8888888888888888, \"#fdca26\"], [1.0, \"#f0f921\"]], \"type\": \"surface\"}], \"table\": [{\"cells\": {\"fill\": {\"color\": \"#EBF0F8\"}, \"line\": {\"color\": \"white\"}}, \"header\": {\"fill\": {\"color\": \"#C8D4E3\"}, \"line\": {\"color\": \"white\"}}, \"type\": \"table\"}]}, \"layout\": {\"annotationdefaults\": {\"arrowcolor\": \"#2a3f5f\", \"arrowhead\": 0, \"arrowwidth\": 1}, \"colorscale\": {\"diverging\": [[0, \"#8e0152\"], [0.1, \"#c51b7d\"], [0.2, \"#de77ae\"], [0.3, \"#f1b6da\"], [0.4, \"#fde0ef\"], [0.5, \"#f7f7f7\"], [0.6, \"#e6f5d0\"], [0.7, \"#b8e186\"], [0.8, \"#7fbc41\"], [0.9, \"#4d9221\"], [1, \"#276419\"]], \"sequential\": [[0.0, \"#0d0887\"], [0.1111111111111111, \"#46039f\"], [0.2222222222222222, \"#7201a8\"], [0.3333333333333333, \"#9c179e\"], [0.4444444444444444, \"#bd3786\"], [0.5555555555555556, \"#d8576b\"], [0.6666666666666666, \"#ed7953\"], [0.7777777777777778, \"#fb9f3a\"], [0.8888888888888888, \"#fdca26\"], [1.0, \"#f0f921\"]], \"sequentialminus\": [[0.0, \"#0d0887\"], [0.1111111111111111, \"#46039f\"], [0.2222222222222222, \"#7201a8\"], [0.3333333333333333, \"#9c179e\"], [0.4444444444444444, \"#bd3786\"], [0.5555555555555556, \"#d8576b\"], [0.6666666666666666, \"#ed7953\"], [0.7777777777777778, \"#fb9f3a\"], [0.8888888888888888, \"#fdca26\"], [1.0, \"#f0f921\"]]}, \"colorway\": [\"#636efa\", \"#EF553B\", \"#00cc96\", \"#ab63fa\", \"#FFA15A\", \"#19d3f3\", \"#FF6692\", \"#B6E880\", \"#FF97FF\", \"#FECB52\"], \"font\": {\"color\": \"#2a3f5f\"}, \"geo\": {\"bgcolor\": \"white\", \"lakecolor\": \"white\", \"landcolor\": \"#E5ECF6\", \"showlakes\": true, \"showland\": true, \"subunitcolor\": \"white\"}, \"hoverlabel\": {\"align\": \"left\"}, \"hovermode\": \"closest\", \"mapbox\": {\"style\": \"light\"}, \"paper_bgcolor\": \"white\", \"plot_bgcolor\": \"#E5ECF6\", \"polar\": {\"angularaxis\": {\"gridcolor\": \"white\", \"linecolor\": \"white\", \"ticks\": \"\"}, \"bgcolor\": \"#E5ECF6\", \"radialaxis\": {\"gridcolor\": \"white\", \"linecolor\": \"white\", \"ticks\": \"\"}}, \"scene\": {\"xaxis\": {\"backgroundcolor\": \"#E5ECF6\", \"gridcolor\": \"white\", \"gridwidth\": 2, \"linecolor\": \"white\", \"showbackground\": true, \"ticks\": \"\", \"zerolinecolor\": \"white\"}, \"yaxis\": {\"backgroundcolor\": \"#E5ECF6\", \"gridcolor\": \"white\", \"gridwidth\": 2, \"linecolor\": \"white\", \"showbackground\": true, \"ticks\": \"\", \"zerolinecolor\": \"white\"}, \"zaxis\": {\"backgroundcolor\": \"#E5ECF6\", \"gridcolor\": \"white\", \"gridwidth\": 2, \"linecolor\": \"white\", \"showbackground\": true, \"ticks\": \"\", \"zerolinecolor\": \"white\"}}, \"shapedefaults\": {\"line\": {\"color\": \"#2a3f5f\"}}, \"ternary\": {\"aaxis\": {\"gridcolor\": \"white\", \"linecolor\": \"white\", \"ticks\": \"\"}, \"baxis\": {\"gridcolor\": \"white\", \"linecolor\": \"white\", \"ticks\": \"\"}, \"bgcolor\": \"#E5ECF6\", \"caxis\": {\"gridcolor\": \"white\", \"linecolor\": \"white\", \"ticks\": \"\"}}, \"title\": {\"x\": 0.05}, \"xaxis\": {\"automargin\": true, \"gridcolor\": \"white\", \"linecolor\": \"white\", \"ticks\": \"\", \"zerolinecolor\": \"white\", \"zerolinewidth\": 2}, \"yaxis\": {\"automargin\": true, \"gridcolor\": \"white\", \"linecolor\": \"white\", \"ticks\": \"\", \"zerolinecolor\": \"white\", \"zerolinewidth\": 2}}}, \"title\": {\"text\": \"percentage positive vs predicted probability\"}, \"xaxis\": {\"title\": {\"text\": \"predicted probability\"}}, \"yaxis\": {\"title\": {\"text\": \"counts\"}}, \"yaxis2\": {\"overlaying\": \"y\", \"rangemode\": \"tozero\", \"side\": \"right\", \"tickfont\": {\"color\": \"rgb(148, 103, 189)\"}, \"title\": {\"font\": {\"color\": \"rgb(148, 103, 189)\"}, \"text\": \"percentage positive\"}}},\n",
       "                        {\"responsive\": true}\n",
       "                    ).then(function(){\n",
       "                            \n",
       "var gd = document.getElementById('40c41d0a-5fad-4221-a275-377260649f8f');\n",
       "var x = new MutationObserver(function (mutations, observer) {{\n",
       "        var display = window.getComputedStyle(gd).display;\n",
       "        if (!display || display === 'none') {{\n",
       "            console.log([gd, 'removed!']);\n",
       "            Plotly.purge(gd);\n",
       "            observer.disconnect();\n",
       "        }}\n",
       "}});\n",
       "\n",
       "// Listen for the removal of the full notebook cells\n",
       "var notebookContainer = gd.closest('#notebook-container');\n",
       "if (notebookContainer) {{\n",
       "    x.observe(notebookContainer, {childList: true});\n",
       "}}\n",
       "\n",
       "// Listen for the clearing of the current output cell\n",
       "var outputEl = gd.closest('.output');\n",
       "if (outputEl) {{\n",
       "    x.observe(outputEl, {childList: true});\n",
       "}}\n",
       "\n",
       "                        })\n",
       "                };\n",
       "                });\n",
       "            </script>\n",
       "        </div>"
      ]
     },
     "metadata": {},
     "output_type": "display_data"
    }
   ],
   "source": [
    "explainer.plot_precision()"
   ]
  },
  {
   "cell_type": "code",
   "execution_count": 122,
   "metadata": {
    "collapsed": false
   },
   "outputs": [
    {
     "data": {
      "text/html": [
       "['/Users/oegedijk/Dropbox/DataScience/explainingtitanic/titanic_explainer.joblib']"
      ],
      "text/plain": [
       "['/Users/oegedijk/Dropbox/DataScience/explainingtitanic/titanic_explainer.joblib']"
      ]
     },
     "execution_count": 122,
     "metadata": {},
     "output_type": "execute_result"
    }
   ],
   "source": [
    "dump(explainer, Path.cwd() / 'titanic_explainer.joblib')"
   ]
  },
  {
   "cell_type": "code",
   "execution_count": null,
   "metadata": {
    "collapsed": false
   },
   "outputs": [
    {
     "name": "stdout",
     "output_type": "stream",
     "text": [
      "Preparing to start dash app ...\n",
      "Loading libraries...\n",
      "loading DataExplainer object...\n",
      "Loading Dash...\n",
      "Defining layout...\n",
      "Starting server...\n",
      " * Serving Flask app \"app\" (lazy loading)\n",
      " * Environment: production\n",
      "\u001b[31m   WARNING: This is a development server. Do not use it in a production deployment.\u001b[0m\n",
      "\u001b[2m   Use a production WSGI server instead.\u001b[0m\n",
      " * Debug mode: off\n",
      " * Running on http://127.0.0.1:8073/ (Press CTRL+C to quit)\n",
      "127.0.0.1 - - [30/Aug/2019 14:37:27] \"GET / HTTP/1.1\" 200 -\n",
      "127.0.0.1 - - [30/Aug/2019 14:37:27] \"GET /assets/stylesheet.css?m=1566133040.0 HTTP/1.1\" 200 -\n",
      "127.0.0.1 - - [30/Aug/2019 14:37:27] \"GET /_dash-component-suites/dash_renderer/react@16.8.6.min.js?v=1.0.0&m=1566138683 HTTP/1.1\" 200 -\n",
      "127.0.0.1 - - [30/Aug/2019 14:37:27] \"GET /_dash-component-suites/dash_renderer/prop-types@15.7.2.min.js?v=1.0.0&m=1566138683 HTTP/1.1\" 200 -\n",
      "127.0.0.1 - - [30/Aug/2019 14:37:27] \"GET /_dash-component-suites/dash_renderer/react-dom@16.8.6.min.js?v=1.0.0&m=1566138683 HTTP/1.1\" 200 -\n",
      "127.0.0.1 - - [30/Aug/2019 14:37:27] \"GET /assets/bootstrap.css?m=1566133040.0 HTTP/1.1\" 200 -\n",
      "127.0.0.1 - - [30/Aug/2019 14:37:28] \"GET /_dash-component-suites/dash_core_components/highlight.pack.js?v=1.1.1&m=1566138668 HTTP/1.1\" 200 -\n",
      "127.0.0.1 - - [30/Aug/2019 14:37:28] \"GET /_dash-component-suites/dash_html_components/dash_html_components.min.js?v=1.0.0&m=1566138672 HTTP/1.1\" 200 -\n",
      "127.0.0.1 - - [30/Aug/2019 14:37:28] \"GET /_dash-component-suites/dash_bootstrap_components/_components/dash_bootstrap_components.min.js?v=0.7.0&m=1566138674 HTTP/1.1\" 200 -\n",
      "127.0.0.1 - - [30/Aug/2019 14:37:28] \"GET /_dash-component-suites/dash_renderer/dash_renderer.min.js?v=1.0.0&m=1566138683 HTTP/1.1\" 200 -\n",
      "127.0.0.1 - - [30/Aug/2019 14:37:28] \"GET /assets/dash_bootstrap_components.min.js?m=1566133040.0 HTTP/1.1\" 200 -\n",
      "127.0.0.1 - - [30/Aug/2019 14:37:28] \"GET /_dash-component-suites/dash_core_components/dash_core_components.min.js?v=1.1.1&m=1566138668 HTTP/1.1\" 200 -\n",
      "127.0.0.1 - - [30/Aug/2019 14:37:28] \"GET /_dash-component-suites/dash_table/bundle.js?v=4.1.0&m=1566138672 HTTP/1.1\" 200 -\n",
      "127.0.0.1 - - [30/Aug/2019 14:37:28] \"GET /_dash-component-suites/dash_daq/bundle.js?v=0.1.7&m=1566138674 HTTP/1.1\" 200 -\n",
      "127.0.0.1 - - [30/Aug/2019 14:37:28] \"GET /_dash-component-suites/dash_core_components/plotly-1.49.1.min.js?v=1.1.1&m=1566138668 HTTP/1.1\" 200 -\n",
      "127.0.0.1 - - [30/Aug/2019 14:37:30] \"GET /_dash-layout HTTP/1.1\" 200 -\n",
      "127.0.0.1 - - [30/Aug/2019 14:37:30] \"GET /_dash-dependencies HTTP/1.1\" 200 -\n",
      "127.0.0.1 - - [30/Aug/2019 14:37:30] \"POST /_dash-update-component HTTP/1.1\" 200 -\n",
      "127.0.0.1 - - [30/Aug/2019 14:37:30] \"POST /_dash-update-component HTTP/1.1\" 204 -\n",
      "127.0.0.1 - - [30/Aug/2019 14:37:30] \"POST /_dash-update-component HTTP/1.1\" 200 -\n",
      "[2019-08-30 14:37:30,665] ERROR in app: Exception on /_dash-update-component [POST]\n",
      "Traceback (most recent call last):\n",
      "  File \"/anaconda/lib/python3.6/site-packages/flask/app.py\", line 2446, in wsgi_app\n",
      "    response = self.full_dispatch_request()\n",
      "  File \"/anaconda/lib/python3.6/site-packages/flask/app.py\", line 1951, in full_dispatch_request\n",
      "    rv = self.handle_user_exception(e)\n",
      "  File \"/anaconda/lib/python3.6/site-packages/flask/app.py\", line 1820, in handle_user_exception\n",
      "    reraise(exc_type, exc_value, tb)\n",
      "  File \"/anaconda/lib/python3.6/site-packages/flask/_compat.py\", line 39, in reraise\n",
      "    raise value\n",
      "  File \"/anaconda/lib/python3.6/site-packages/flask/app.py\", line 1949, in full_dispatch_request\n",
      "    rv = self.dispatch_request()\n",
      "  File \"/anaconda/lib/python3.6/site-packages/flask/app.py\", line 1935, in dispatch_request\n",
      "    return self.view_functions[rule.endpoint](**req.view_args)\n",
      "  File \"/anaconda/lib/python3.6/site-packages/dash/dash.py\", line 1287, in dispatch\n",
      "    response.set_data(self.callback_map[output]['callback'](*args))\n",
      "  File \"/anaconda/lib/python3.6/site-packages/dash/dash.py\", line 1171, in add_context\n",
      "    output_value = func(*args, **kwargs)\n",
      "  File \"app.py\", line 596, in update_dependence_graph\n",
      "    col, interact_col, highlight_idx=idx, cats=cats)\n",
      "  File \"/Users/oegedijk/Dropbox/DataScience/explainingtitanic/explainer.py\", line 429, in plot_interaction_dependence\n",
      "    interact_col, col, highlight_idx=highlight_idx)\n",
      "  File \"/Users/oegedijk/Dropbox/DataScience/explainingtitanic/explainer_plots.py\", line 178, in plotly_dependence_plot\n",
      "    assert col_name in X.columns.tolist(), f'{col_name} not in X.columns'\n",
      "AssertionError: Sex_female not in X.columns\n",
      "127.0.0.1 - - [30/Aug/2019 14:37:31] \"POST /_dash-update-component HTTP/1.1\" 500 -\n",
      "127.0.0.1 - - [30/Aug/2019 14:37:31] \"POST /_dash-update-component HTTP/1.1\" 204 -\n",
      "127.0.0.1 - - [30/Aug/2019 14:37:31] \"POST /_dash-update-component HTTP/1.1\" 204 -\n",
      "127.0.0.1 - - [30/Aug/2019 14:37:32] \"POST /_dash-update-component HTTP/1.1\" 200 -\n",
      "127.0.0.1 - - [30/Aug/2019 14:37:32] \"POST /_dash-update-component HTTP/1.1\" 200 -\n",
      "127.0.0.1 - - [30/Aug/2019 14:37:32] \"GET /_favicon.ico?v=1.1.1 HTTP/1.1\" 200 -\n",
      "127.0.0.1 - - [30/Aug/2019 14:37:32] \"POST /_dash-update-component HTTP/1.1\" 204 -\n",
      "127.0.0.1 - - [30/Aug/2019 14:37:32] \"POST /_dash-update-component HTTP/1.1\" 200 -\n",
      "127.0.0.1 - - [30/Aug/2019 14:37:32] \"POST /_dash-update-component HTTP/1.1\" 200 -\n",
      "127.0.0.1 - - [30/Aug/2019 14:37:34] \"POST /_dash-update-component HTTP/1.1\" 200 -\n",
      "127.0.0.1 - - [30/Aug/2019 14:37:34] \"POST /_dash-update-component HTTP/1.1\" 200 -\n",
      "127.0.0.1 - - [30/Aug/2019 14:37:34] \"POST /_dash-update-component HTTP/1.1\" 200 -\n",
      "127.0.0.1 - - [30/Aug/2019 14:37:34] \"POST /_dash-update-component HTTP/1.1\" 200 -\n",
      "127.0.0.1 - - [30/Aug/2019 14:37:35] \"POST /_dash-update-component HTTP/1.1\" 200 -\n",
      "127.0.0.1 - - [30/Aug/2019 14:37:36] \"POST /_dash-update-component HTTP/1.1\" 200 -\n",
      "127.0.0.1 - - [30/Aug/2019 14:37:45] \"POST /_dash-update-component HTTP/1.1\" 200 -\n",
      "127.0.0.1 - - [30/Aug/2019 14:38:39] \"POST /_dash-update-component HTTP/1.1\" 200 -\n",
      "127.0.0.1 - - [30/Aug/2019 14:39:04] \"POST /_dash-update-component HTTP/1.1\" 200 -\n",
      "127.0.0.1 - - [30/Aug/2019 14:39:15] \"POST /_dash-update-component HTTP/1.1\" 200 -\n",
      "127.0.0.1 - - [30/Aug/2019 14:39:24] \"POST /_dash-update-component HTTP/1.1\" 200 -\n",
      "[2019-08-30 14:39:24,467] ERROR in app: Exception on /_dash-update-component [POST]\n",
      "Traceback (most recent call last):\n",
      "  File \"/anaconda/lib/python3.6/site-packages/flask/app.py\", line 2446, in wsgi_app\n",
      "    response = self.full_dispatch_request()\n",
      "  File \"/anaconda/lib/python3.6/site-packages/flask/app.py\", line 1951, in full_dispatch_request\n",
      "    rv = self.handle_user_exception(e)\n",
      "  File \"/anaconda/lib/python3.6/site-packages/flask/app.py\", line 1820, in handle_user_exception\n",
      "    reraise(exc_type, exc_value, tb)\n",
      "  File \"/anaconda/lib/python3.6/site-packages/flask/_compat.py\", line 39, in reraise\n",
      "    raise value\n",
      "  File \"/anaconda/lib/python3.6/site-packages/flask/app.py\", line 1949, in full_dispatch_request\n",
      "    rv = self.dispatch_request()\n",
      "  File \"/anaconda/lib/python3.6/site-packages/flask/app.py\", line 1935, in dispatch_request\n",
      "    return self.view_functions[rule.endpoint](**req.view_args)\n",
      "  File \"/anaconda/lib/python3.6/site-packages/dash/dash.py\", line 1287, in dispatch\n",
      "    response.set_data(self.callback_map[output]['callback'](*args))\n",
      "  File \"/anaconda/lib/python3.6/site-packages/dash/dash.py\", line 1171, in add_context\n",
      "    output_value = func(*args, **kwargs)\n",
      "  File \"app.py\", line 546, in update_dependence_graph\n",
      "    col, color_col, highlight_idx=idx, cats=cats)\n",
      "  File \"/Users/oegedijk/Dropbox/DataScience/explainingtitanic/explainer.py\", line 420, in plot_dependence\n",
      "    highlight_idx=highlight_idx)\n",
      "  File \"/Users/oegedijk/Dropbox/DataScience/explainingtitanic/explainer_plots.py\", line 178, in plotly_dependence_plot\n",
      "    assert col_name in X.columns.tolist(), f'{col_name} not in X.columns'\n",
      "AssertionError: Sex_female not in X.columns\n",
      "127.0.0.1 - - [30/Aug/2019 14:39:24] \"POST /_dash-update-component HTTP/1.1\" 500 -\n",
      "[2019-08-30 14:39:24,491] ERROR in app: Exception on /_dash-update-component [POST]\n",
      "Traceback (most recent call last):\n",
      "  File \"/anaconda/lib/python3.6/site-packages/flask/app.py\", line 2446, in wsgi_app\n",
      "    response = self.full_dispatch_request()\n",
      "  File \"/anaconda/lib/python3.6/site-packages/flask/app.py\", line 1951, in full_dispatch_request\n",
      "    rv = self.handle_user_exception(e)\n",
      "  File \"/anaconda/lib/python3.6/site-packages/flask/app.py\", line 1820, in handle_user_exception\n",
      "    reraise(exc_type, exc_value, tb)\n",
      "  File \"/anaconda/lib/python3.6/site-packages/flask/_compat.py\", line 39, in reraise\n",
      "    raise value\n",
      "  File \"/anaconda/lib/python3.6/site-packages/flask/app.py\", line 1949, in full_dispatch_request\n",
      "    rv = self.dispatch_request()\n",
      "  File \"/anaconda/lib/python3.6/site-packages/flask/app.py\", line 1935, in dispatch_request\n",
      "    return self.view_functions[rule.endpoint](**req.view_args)\n",
      "  File \"/anaconda/lib/python3.6/site-packages/dash/dash.py\", line 1287, in dispatch\n",
      "    response.set_data(self.callback_map[output]['callback'](*args))\n",
      "  File \"/anaconda/lib/python3.6/site-packages/dash/dash.py\", line 1171, in add_context\n",
      "    output_value = func(*args, **kwargs)\n",
      "  File \"app.py\", line 546, in update_dependence_graph\n",
      "    col, color_col, highlight_idx=idx, cats=cats)\n",
      "  File \"/Users/oegedijk/Dropbox/DataScience/explainingtitanic/explainer.py\", line 420, in plot_dependence\n",
      "    highlight_idx=highlight_idx)\n",
      "  File \"/Users/oegedijk/Dropbox/DataScience/explainingtitanic/explainer_plots.py\", line 180, in plotly_dependence_plot\n",
      "    f'{interact_col_name} not in X.columns'\n",
      "AssertionError: Sex_female not in X.columns\n",
      "127.0.0.1 - - [30/Aug/2019 14:39:24] \"POST /_dash-update-component HTTP/1.1\" 500 -\n",
      "127.0.0.1 - - [30/Aug/2019 14:39:24] \"POST /_dash-update-component HTTP/1.1\" 200 -\n",
      "127.0.0.1 - - [30/Aug/2019 14:39:32] \"POST /_dash-update-component HTTP/1.1\" 200 -\n",
      "127.0.0.1 - - [30/Aug/2019 14:39:33] \"POST /_dash-update-component HTTP/1.1\" 200 -\n",
      "127.0.0.1 - - [30/Aug/2019 14:39:33] \"POST /_dash-update-component HTTP/1.1\" 200 -\n",
      "127.0.0.1 - - [30/Aug/2019 14:39:33] \"POST /_dash-update-component HTTP/1.1\" 200 -\n",
      "127.0.0.1 - - [30/Aug/2019 14:39:39] \"POST /_dash-update-component HTTP/1.1\" 200 -\n",
      "127.0.0.1 - - [30/Aug/2019 14:39:40] \"POST /_dash-update-component HTTP/1.1\" 200 -\n",
      "127.0.0.1 - - [30/Aug/2019 14:39:40] \"POST /_dash-update-component HTTP/1.1\" 200 -\n",
      "127.0.0.1 - - [30/Aug/2019 14:39:40] \"POST /_dash-update-component HTTP/1.1\" 200 -\n",
      "127.0.0.1 - - [30/Aug/2019 14:39:42] \"POST /_dash-update-component HTTP/1.1\" 200 -\n",
      "127.0.0.1 - - [30/Aug/2019 14:39:43] \"POST /_dash-update-component HTTP/1.1\" 200 -\n",
      "127.0.0.1 - - [30/Aug/2019 14:39:43] \"POST /_dash-update-component HTTP/1.1\" 200 -\n",
      "127.0.0.1 - - [30/Aug/2019 14:39:43] \"POST /_dash-update-component HTTP/1.1\" 200 -\n",
      "127.0.0.1 - - [30/Aug/2019 14:40:07] \"POST /_dash-update-component HTTP/1.1\" 200 -\n",
      "[2019-08-30 14:40:59,194] ERROR in app: Exception on /_dash-update-component [POST]\n",
      "Traceback (most recent call last):\n",
      "  File \"/anaconda/lib/python3.6/site-packages/pandas/core/indexes/base.py\", line 2890, in get_loc\n",
      "    return self._engine.get_loc(key)\n",
      "  File \"pandas/_libs/index.pyx\", line 107, in pandas._libs.index.IndexEngine.get_loc\n",
      "  File \"pandas/_libs/index.pyx\", line 131, in pandas._libs.index.IndexEngine.get_loc\n",
      "  File \"pandas/_libs/hashtable_class_helper.pxi\", line 1607, in pandas._libs.hashtable.PyObjectHashTable.get_item\n",
      "  File \"pandas/_libs/hashtable_class_helper.pxi\", line 1614, in pandas._libs.hashtable.PyObjectHashTable.get_item\n",
      "KeyError: 'Sex_female'\n",
      "\n",
      "During handling of the above exception, another exception occurred:\n",
      "\n",
      "Traceback (most recent call last):\n",
      "  File \"/anaconda/lib/python3.6/site-packages/flask/app.py\", line 2446, in wsgi_app\n",
      "    response = self.full_dispatch_request()\n",
      "  File \"/anaconda/lib/python3.6/site-packages/flask/app.py\", line 1951, in full_dispatch_request\n",
      "    rv = self.handle_user_exception(e)\n",
      "  File \"/anaconda/lib/python3.6/site-packages/flask/app.py\", line 1820, in handle_user_exception\n",
      "    reraise(exc_type, exc_value, tb)\n",
      "  File \"/anaconda/lib/python3.6/site-packages/flask/_compat.py\", line 39, in reraise\n",
      "    raise value\n",
      "  File \"/anaconda/lib/python3.6/site-packages/flask/app.py\", line 1949, in full_dispatch_request\n",
      "    rv = self.dispatch_request()\n",
      "  File \"/anaconda/lib/python3.6/site-packages/flask/app.py\", line 1935, in dispatch_request\n",
      "    return self.view_functions[rule.endpoint](**req.view_args)\n",
      "  File \"/anaconda/lib/python3.6/site-packages/dash/dash.py\", line 1287, in dispatch\n",
      "    response.set_data(self.callback_map[output]['callback'](*args))\n",
      "  File \"/anaconda/lib/python3.6/site-packages/dash/dash.py\", line 1171, in add_context\n",
      "    output_value = func(*args, **kwargs)\n",
      "  File \"app.py\", line 561, in update_interaction_scatter_graph\n",
      "    plot = plot = explainer.plot_shap_interaction_summary(col, topx=depth, cats=cats)\n",
      "  File \"/Users/oegedijk/Dropbox/DataScience/explainingtitanic/explainer.py\", line 386, in plot_shap_interaction_summary\n",
      "    interact_cols = self.shap_top_interactions(col, cats=cats)\n",
      "  File \"/Users/oegedijk/Dropbox/DataScience/explainingtitanic/explainer.py\", line 307, in shap_top_interactions\n",
      "    col_idx = self.X_cats.columns.get_loc(col_name)\n",
      "  File \"/anaconda/lib/python3.6/site-packages/pandas/core/indexes/base.py\", line 2892, in get_loc\n",
      "    return self._engine.get_loc(self._maybe_cast_indexer(key))\n",
      "  File \"pandas/_libs/index.pyx\", line 107, in pandas._libs.index.IndexEngine.get_loc\n",
      "  File \"pandas/_libs/index.pyx\", line 131, in pandas._libs.index.IndexEngine.get_loc\n",
      "  File \"pandas/_libs/hashtable_class_helper.pxi\", line 1607, in pandas._libs.hashtable.PyObjectHashTable.get_item\n",
      "  File \"pandas/_libs/hashtable_class_helper.pxi\", line 1614, in pandas._libs.hashtable.PyObjectHashTable.get_item\n",
      "KeyError: 'Sex_female'\n",
      "127.0.0.1 - - [30/Aug/2019 14:40:59] \"POST /_dash-update-component HTTP/1.1\" 500 -\n",
      "127.0.0.1 - - [30/Aug/2019 14:41:13] \"POST /_dash-update-component HTTP/1.1\" 200 -\n",
      "127.0.0.1 - - [30/Aug/2019 14:41:23] \"POST /_dash-update-component HTTP/1.1\" 200 -\n",
      "[2019-08-30 14:41:27,383] ERROR in app: Exception on /_dash-update-component [POST]\n",
      "Traceback (most recent call last):\n",
      "  File \"/anaconda/lib/python3.6/site-packages/pandas/core/indexes/base.py\", line 2890, in get_loc\n",
      "    return self._engine.get_loc(key)\n",
      "  File \"pandas/_libs/index.pyx\", line 107, in pandas._libs.index.IndexEngine.get_loc\n",
      "  File \"pandas/_libs/index.pyx\", line 131, in pandas._libs.index.IndexEngine.get_loc\n",
      "  File \"pandas/_libs/hashtable_class_helper.pxi\", line 1607, in pandas._libs.hashtable.PyObjectHashTable.get_item\n",
      "  File \"pandas/_libs/hashtable_class_helper.pxi\", line 1614, in pandas._libs.hashtable.PyObjectHashTable.get_item\n",
      "KeyError: None\n",
      "\n",
      "During handling of the above exception, another exception occurred:\n",
      "\n",
      "Traceback (most recent call last):\n",
      "  File \"/anaconda/lib/python3.6/site-packages/flask/app.py\", line 2446, in wsgi_app\n",
      "    response = self.full_dispatch_request()\n",
      "  File \"/anaconda/lib/python3.6/site-packages/flask/app.py\", line 1951, in full_dispatch_request\n",
      "    rv = self.handle_user_exception(e)\n",
      "  File \"/anaconda/lib/python3.6/site-packages/flask/app.py\", line 1820, in handle_user_exception\n",
      "    reraise(exc_type, exc_value, tb)\n",
      "  File \"/anaconda/lib/python3.6/site-packages/flask/_compat.py\", line 39, in reraise\n",
      "    raise value\n",
      "  File \"/anaconda/lib/python3.6/site-packages/flask/app.py\", line 1949, in full_dispatch_request\n",
      "    rv = self.dispatch_request()\n",
      "  File \"/anaconda/lib/python3.6/site-packages/flask/app.py\", line 1935, in dispatch_request\n",
      "    return self.view_functions[rule.endpoint](**req.view_args)\n",
      "  File \"/anaconda/lib/python3.6/site-packages/dash/dash.py\", line 1287, in dispatch\n",
      "    response.set_data(self.callback_map[output]['callback'](*args))\n",
      "  File \"/anaconda/lib/python3.6/site-packages/dash/dash.py\", line 1171, in add_context\n",
      "    output_value = func(*args, **kwargs)\n",
      "  File \"app.py\", line 596, in update_dependence_graph\n",
      "    col, interact_col, highlight_idx=idx, cats=cats)\n",
      "  File \"/Users/oegedijk/Dropbox/DataScience/explainingtitanic/explainer.py\", line 428, in plot_interaction_dependence\n",
      "    self.shap_interaction_values_by_col(col, cats),\n",
      "  File \"/Users/oegedijk/Dropbox/DataScience/explainingtitanic/explainer.py\", line 325, in shap_interaction_values_by_col\n",
      "    self.X.columns.get_loc(col_name), :]\n",
      "  File \"/anaconda/lib/python3.6/site-packages/pandas/core/indexes/base.py\", line 2892, in get_loc\n",
      "    return self._engine.get_loc(self._maybe_cast_indexer(key))\n",
      "  File \"pandas/_libs/index.pyx\", line 107, in pandas._libs.index.IndexEngine.get_loc\n",
      "  File \"pandas/_libs/index.pyx\", line 131, in pandas._libs.index.IndexEngine.get_loc\n",
      "  File \"pandas/_libs/hashtable_class_helper.pxi\", line 1607, in pandas._libs.hashtable.PyObjectHashTable.get_item\n",
      "  File \"pandas/_libs/hashtable_class_helper.pxi\", line 1614, in pandas._libs.hashtable.PyObjectHashTable.get_item\n",
      "KeyError: None\n",
      "127.0.0.1 - - [30/Aug/2019 14:41:27] \"POST /_dash-update-component HTTP/1.1\" 500 -\n",
      "[2019-08-30 14:41:27,385] ERROR in app: Exception on /_dash-update-component [POST]\n",
      "Traceback (most recent call last):\n",
      "  File \"/anaconda/lib/python3.6/site-packages/pandas/core/indexes/base.py\", line 2890, in get_loc\n",
      "    return self._engine.get_loc(key)\n",
      "  File \"pandas/_libs/index.pyx\", line 107, in pandas._libs.index.IndexEngine.get_loc\n",
      "  File \"pandas/_libs/index.pyx\", line 131, in pandas._libs.index.IndexEngine.get_loc\n",
      "  File \"pandas/_libs/hashtable_class_helper.pxi\", line 1607, in pandas._libs.hashtable.PyObjectHashTable.get_item\n",
      "  File \"pandas/_libs/hashtable_class_helper.pxi\", line 1614, in pandas._libs.hashtable.PyObjectHashTable.get_item\n",
      "KeyError: None\n",
      "\n",
      "During handling of the above exception, another exception occurred:\n",
      "\n",
      "Traceback (most recent call last):\n",
      "  File \"/anaconda/lib/python3.6/site-packages/flask/app.py\", line 2446, in wsgi_app\n",
      "    response = self.full_dispatch_request()\n",
      "  File \"/anaconda/lib/python3.6/site-packages/flask/app.py\", line 1951, in full_dispatch_request\n",
      "    rv = self.handle_user_exception(e)\n",
      "  File \"/anaconda/lib/python3.6/site-packages/flask/app.py\", line 1820, in handle_user_exception\n",
      "    reraise(exc_type, exc_value, tb)\n",
      "  File \"/anaconda/lib/python3.6/site-packages/flask/_compat.py\", line 39, in reraise\n",
      "    raise value\n",
      "  File \"/anaconda/lib/python3.6/site-packages/flask/app.py\", line 1949, in full_dispatch_request\n",
      "    rv = self.dispatch_request()\n",
      "  File \"/anaconda/lib/python3.6/site-packages/flask/app.py\", line 1935, in dispatch_request\n",
      "    return self.view_functions[rule.endpoint](**req.view_args)\n",
      "  File \"/anaconda/lib/python3.6/site-packages/dash/dash.py\", line 1287, in dispatch\n",
      "    response.set_data(self.callback_map[output]['callback'](*args))\n",
      "  File \"/anaconda/lib/python3.6/site-packages/dash/dash.py\", line 1171, in add_context\n",
      "    output_value = func(*args, **kwargs)\n",
      "  File \"app.py\", line 561, in update_interaction_scatter_graph\n",
      "    plot = plot = explainer.plot_shap_interaction_summary(col, topx=depth, cats=cats)\n",
      "  File \"/Users/oegedijk/Dropbox/DataScience/explainingtitanic/explainer.py\", line 386, in plot_shap_interaction_summary\n",
      "    interact_cols = self.shap_top_interactions(col, cats=cats)\n",
      "  File \"/Users/oegedijk/Dropbox/DataScience/explainingtitanic/explainer.py\", line 313, in shap_top_interactions\n",
      "    col_idx = self.X.columns.get_loc(col_name)\n",
      "  File \"/anaconda/lib/python3.6/site-packages/pandas/core/indexes/base.py\", line 2892, in get_loc\n",
      "    return self._engine.get_loc(self._maybe_cast_indexer(key))\n",
      "  File \"pandas/_libs/index.pyx\", line 107, in pandas._libs.index.IndexEngine.get_loc\n",
      "  File \"pandas/_libs/index.pyx\", line 131, in pandas._libs.index.IndexEngine.get_loc\n",
      "  File \"pandas/_libs/hashtable_class_helper.pxi\", line 1607, in pandas._libs.hashtable.PyObjectHashTable.get_item\n",
      "  File \"pandas/_libs/hashtable_class_helper.pxi\", line 1614, in pandas._libs.hashtable.PyObjectHashTable.get_item\n",
      "KeyError: None\n",
      "127.0.0.1 - - [30/Aug/2019 14:41:27] \"POST /_dash-update-component HTTP/1.1\" 500 -\n",
      "[2019-08-30 14:41:30,815] ERROR in app: Exception on /_dash-update-component [POST]\n",
      "Traceback (most recent call last):\n",
      "  File \"/anaconda/lib/python3.6/site-packages/pandas/core/indexes/base.py\", line 2890, in get_loc\n",
      "    return self._engine.get_loc(key)\n",
      "  File \"pandas/_libs/index.pyx\", line 107, in pandas._libs.index.IndexEngine.get_loc\n",
      "  File \"pandas/_libs/index.pyx\", line 131, in pandas._libs.index.IndexEngine.get_loc\n",
      "  File \"pandas/_libs/hashtable_class_helper.pxi\", line 1607, in pandas._libs.hashtable.PyObjectHashTable.get_item\n",
      "  File \"pandas/_libs/hashtable_class_helper.pxi\", line 1614, in pandas._libs.hashtable.PyObjectHashTable.get_item\n",
      "KeyError: None\n",
      "\n",
      "During handling of the above exception, another exception occurred:\n",
      "\n",
      "Traceback (most recent call last):\n",
      "  File \"/anaconda/lib/python3.6/site-packages/flask/app.py\", line 2446, in wsgi_app\n",
      "    response = self.full_dispatch_request()\n",
      "  File \"/anaconda/lib/python3.6/site-packages/flask/app.py\", line 1951, in full_dispatch_request\n",
      "    rv = self.handle_user_exception(e)\n",
      "  File \"/anaconda/lib/python3.6/site-packages/flask/app.py\", line 1820, in handle_user_exception\n",
      "    reraise(exc_type, exc_value, tb)\n",
      "  File \"/anaconda/lib/python3.6/site-packages/flask/_compat.py\", line 39, in reraise\n",
      "    raise value\n",
      "  File \"/anaconda/lib/python3.6/site-packages/flask/app.py\", line 1949, in full_dispatch_request\n",
      "    rv = self.dispatch_request()\n",
      "  File \"/anaconda/lib/python3.6/site-packages/flask/app.py\", line 1935, in dispatch_request\n",
      "    return self.view_functions[rule.endpoint](**req.view_args)\n",
      "  File \"/anaconda/lib/python3.6/site-packages/dash/dash.py\", line 1287, in dispatch\n",
      "    response.set_data(self.callback_map[output]['callback'](*args))\n",
      "  File \"/anaconda/lib/python3.6/site-packages/dash/dash.py\", line 1171, in add_context\n",
      "    output_value = func(*args, **kwargs)\n",
      "  File \"app.py\", line 561, in update_interaction_scatter_graph\n",
      "    plot = plot = explainer.plot_shap_interaction_summary(col, topx=depth, cats=cats)\n",
      "  File \"/Users/oegedijk/Dropbox/DataScience/explainingtitanic/explainer.py\", line 386, in plot_shap_interaction_summary\n",
      "    interact_cols = self.shap_top_interactions(col, cats=cats)\n",
      "  File \"/Users/oegedijk/Dropbox/DataScience/explainingtitanic/explainer.py\", line 307, in shap_top_interactions\n",
      "    col_idx = self.X_cats.columns.get_loc(col_name)\n",
      "  File \"/anaconda/lib/python3.6/site-packages/pandas/core/indexes/base.py\", line 2892, in get_loc\n",
      "    return self._engine.get_loc(self._maybe_cast_indexer(key))\n",
      "  File \"pandas/_libs/index.pyx\", line 107, in pandas._libs.index.IndexEngine.get_loc\n",
      "  File \"pandas/_libs/index.pyx\", line 131, in pandas._libs.index.IndexEngine.get_loc\n",
      "  File \"pandas/_libs/hashtable_class_helper.pxi\", line 1607, in pandas._libs.hashtable.PyObjectHashTable.get_item\n",
      "  File \"pandas/_libs/hashtable_class_helper.pxi\", line 1614, in pandas._libs.hashtable.PyObjectHashTable.get_item\n",
      "KeyError: None\n",
      "127.0.0.1 - - [30/Aug/2019 14:41:30] \"POST /_dash-update-component HTTP/1.1\" 500 -\n",
      "[2019-08-30 14:41:51,498] ERROR in app: Exception on /_dash-update-component [POST]\n",
      "Traceback (most recent call last):\n",
      "  File \"/anaconda/lib/python3.6/site-packages/flask/app.py\", line 2446, in wsgi_app\n",
      "    response = self.full_dispatch_request()\n",
      "  File \"/anaconda/lib/python3.6/site-packages/flask/app.py\", line 1951, in full_dispatch_request\n",
      "    rv = self.handle_user_exception(e)\n",
      "  File \"/anaconda/lib/python3.6/site-packages/flask/app.py\", line 1820, in handle_user_exception\n",
      "    reraise(exc_type, exc_value, tb)\n",
      "  File \"/anaconda/lib/python3.6/site-packages/flask/_compat.py\", line 39, in reraise\n",
      "    raise value\n",
      "  File \"/anaconda/lib/python3.6/site-packages/flask/app.py\", line 1949, in full_dispatch_request\n",
      "    rv = self.dispatch_request()\n",
      "  File \"/anaconda/lib/python3.6/site-packages/flask/app.py\", line 1935, in dispatch_request\n",
      "    return self.view_functions[rule.endpoint](**req.view_args)\n",
      "  File \"/anaconda/lib/python3.6/site-packages/dash/dash.py\", line 1287, in dispatch\n",
      "    response.set_data(self.callback_map[output]['callback'](*args))\n",
      "  File \"/anaconda/lib/python3.6/site-packages/dash/dash.py\", line 1171, in add_context\n",
      "    output_value = func(*args, **kwargs)\n",
      "  File \"app.py\", line 596, in update_dependence_graph\n",
      "    col, interact_col, highlight_idx=idx, cats=cats)\n",
      "  File \"/Users/oegedijk/Dropbox/DataScience/explainingtitanic/explainer.py\", line 429, in plot_interaction_dependence\n",
      "    interact_col, col, highlight_idx=highlight_idx)\n",
      "  File \"/Users/oegedijk/Dropbox/DataScience/explainingtitanic/explainer_plots.py\", line 178, in plotly_dependence_plot\n",
      "    assert col_name in X.columns.tolist(), f'{col_name} not in X.columns'\n",
      "AssertionError: Sex_female not in X.columns\n",
      "127.0.0.1 - - [30/Aug/2019 14:41:51] \"POST /_dash-update-component HTTP/1.1\" 500 -\n",
      "127.0.0.1 - - [30/Aug/2019 14:41:52] \"POST /_dash-update-component HTTP/1.1\" 200 -\n",
      "127.0.0.1 - - [30/Aug/2019 14:42:12] \"POST /_dash-update-component HTTP/1.1\" 200 -\n",
      "[2019-08-30 14:42:12,989] ERROR in app: Exception on /_dash-update-component [POST]\n",
      "Traceback (most recent call last):\n",
      "  File \"/anaconda/lib/python3.6/site-packages/flask/app.py\", line 2446, in wsgi_app\n",
      "    response = self.full_dispatch_request()\n",
      "  File \"/anaconda/lib/python3.6/site-packages/flask/app.py\", line 1951, in full_dispatch_request\n",
      "    rv = self.handle_user_exception(e)\n",
      "  File \"/anaconda/lib/python3.6/site-packages/flask/app.py\", line 1820, in handle_user_exception\n",
      "    reraise(exc_type, exc_value, tb)\n",
      "  File \"/anaconda/lib/python3.6/site-packages/flask/_compat.py\", line 39, in reraise\n",
      "    raise value\n",
      "  File \"/anaconda/lib/python3.6/site-packages/flask/app.py\", line 1949, in full_dispatch_request\n",
      "    rv = self.dispatch_request()\n",
      "  File \"/anaconda/lib/python3.6/site-packages/flask/app.py\", line 1935, in dispatch_request\n",
      "    return self.view_functions[rule.endpoint](**req.view_args)\n",
      "  File \"/anaconda/lib/python3.6/site-packages/dash/dash.py\", line 1287, in dispatch\n",
      "    response.set_data(self.callback_map[output]['callback'](*args))\n",
      "  File \"/anaconda/lib/python3.6/site-packages/dash/dash.py\", line 1171, in add_context\n",
      "    output_value = func(*args, **kwargs)\n",
      "  File \"app.py\", line 596, in update_dependence_graph\n",
      "    col, interact_col, highlight_idx=idx, cats=cats)\n",
      "  File \"/Users/oegedijk/Dropbox/DataScience/explainingtitanic/explainer.py\", line 429, in plot_interaction_dependence\n",
      "    interact_col, col, highlight_idx=highlight_idx)\n",
      "  File \"/Users/oegedijk/Dropbox/DataScience/explainingtitanic/explainer_plots.py\", line 178, in plotly_dependence_plot\n",
      "    assert col_name in X.columns.tolist(), f'{col_name} not in X.columns'\n",
      "AssertionError: Sex_female not in X.columns\n",
      "127.0.0.1 - - [30/Aug/2019 14:42:12] \"POST /_dash-update-component HTTP/1.1\" 500 -\n",
      "127.0.0.1 - - [30/Aug/2019 14:42:13] \"POST /_dash-update-component HTTP/1.1\" 200 -\n"
     ]
    }
   ],
   "source": [
    "! python app.py"
   ]
  },
  {
   "cell_type": "code",
   "execution_count": 87,
   "metadata": {
    "collapsed": false
   },
   "outputs": [
    {
     "name": "stdout",
     "output_type": "stream",
     "text": [
      "[master fc79038] workaround for _shap_base_value bug\n",
      " 4 files changed, 471 insertions(+), 220 deletions(-)\n",
      " create mode 100644 build-titanic-model.py\n",
      "Enumerating objects: 10, done.\n",
      "Counting objects: 100% (10/10), done.\n",
      "Delta compression using up to 4 threads\n",
      "Compressing objects: 100% (6/6), done.\n",
      "Writing objects: 100% (6/6), 532.09 KiB | 888.00 KiB/s, done.\n",
      "Total 6 (delta 4), reused 0 (delta 0)\n",
      "remote: Resolving deltas: 100% (4/4), completed with 4 local objects.\u001b[K\n",
      "To https://github.com/oegedijk/explainingtitanic.git\n",
      "   efa9682..fc79038  master -> master\n",
      "Branch 'master' set up to track remote branch 'master' from 'origin'.\n"
     ]
    }
   ],
   "source": [
    "!git add .\n",
    "!git commit -m \"added categorical shap values\"\n",
    "!git push -u origin master"
   ]
  },
  {
   "cell_type": "code",
   "execution_count": null,
   "metadata": {
    "collapsed": true
   },
   "outputs": [],
   "source": []
  }
 ],
 "metadata": {
  "kernelspec": {
   "display_name": "Python 3",
   "language": "python",
   "name": "python3"
  },
  "language_info": {
   "codemirror_mode": {
    "name": "ipython",
    "version": 3
   },
   "file_extension": ".py",
   "mimetype": "text/x-python",
   "name": "python",
   "nbconvert_exporter": "python",
   "pygments_lexer": "ipython3",
   "version": "3.6.9"
  }
 },
 "nbformat": 4,
 "nbformat_minor": 2
}
